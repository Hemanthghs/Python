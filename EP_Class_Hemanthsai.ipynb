{
  "nbformat": 4,
  "nbformat_minor": 0,
  "metadata": {
    "colab": {
      "name": "EP_Class_Hemanthsai.ipynb",
      "provenance": [],
      "authorship_tag": "ABX9TyMCJt1lufNuciq+xEOVgtpp",
      "include_colab_link": true
    },
    "kernelspec": {
      "name": "python3",
      "display_name": "Python 3"
    },
    "language_info": {
      "name": "python"
    }
  },
  "cells": [
    {
      "cell_type": "markdown",
      "metadata": {
        "id": "view-in-github",
        "colab_type": "text"
      },
      "source": [
        "<a href=\"https://colab.research.google.com/github/Hemanthghs/Python/blob/master/EP_Class_Hemanthsai.ipynb\" target=\"_parent\"><img src=\"https://colab.research.google.com/assets/colab-badge.svg\" alt=\"Open In Colab\"/></a>"
      ]
    },
    {
      "cell_type": "markdown",
      "metadata": {
        "id": "UfKZK8tYt-51"
      },
      "source": [
        "#Variables and DataTypes"
      ]
    },
    {
      "cell_type": "code",
      "metadata": {
        "colab": {
          "base_uri": "https://localhost:8080/"
        },
        "id": "F1DSGwkZ2ChB",
        "outputId": "ca403692-962f-4ea0-90ef-eabd2cfb8b41"
      },
      "source": [
        "12+123"
      ],
      "execution_count": null,
      "outputs": [
        {
          "output_type": "execute_result",
          "data": {
            "text/plain": [
              "135"
            ]
          },
          "metadata": {
            "tags": []
          },
          "execution_count": 2
        }
      ]
    },
    {
      "cell_type": "code",
      "metadata": {
        "id": "rwM_KfNO3Q2A",
        "colab": {
          "base_uri": "https://localhost:8080/"
        },
        "outputId": "99936f3f-09ce-4255-c24f-85422cde7f2a"
      },
      "source": [
        "12+23-34"
      ],
      "execution_count": null,
      "outputs": [
        {
          "output_type": "execute_result",
          "data": {
            "text/plain": [
              "1"
            ]
          },
          "metadata": {
            "tags": []
          },
          "execution_count": 3
        }
      ]
    },
    {
      "cell_type": "code",
      "metadata": {
        "id": "yShrgqbg3SaR",
        "colab": {
          "base_uri": "https://localhost:8080/"
        },
        "outputId": "e8a8827b-3d00-4f9e-d618-839274070f63"
      },
      "source": [
        "34/3"
      ],
      "execution_count": null,
      "outputs": [
        {
          "output_type": "execute_result",
          "data": {
            "text/plain": [
              "11.333333333333334"
            ]
          },
          "metadata": {
            "tags": []
          },
          "execution_count": 4
        }
      ]
    },
    {
      "cell_type": "code",
      "metadata": {
        "id": "USjbA5-D3TsI",
        "colab": {
          "base_uri": "https://localhost:8080/"
        },
        "outputId": "5c2adc1b-321f-4618-95a1-d73d8517d8cc"
      },
      "source": [
        "0"
      ],
      "execution_count": null,
      "outputs": [
        {
          "output_type": "execute_result",
          "data": {
            "text/plain": [
              "0"
            ]
          },
          "metadata": {
            "tags": []
          },
          "execution_count": 5
        }
      ]
    },
    {
      "cell_type": "code",
      "metadata": {
        "colab": {
          "base_uri": "https://localhost:8080/"
        },
        "id": "J5hmbFm-qFmW",
        "outputId": "23188b12-ff80-4fa2-bb3f-840272657a2d"
      },
      "source": [
        "1<2\n",
        "2>3"
      ],
      "execution_count": null,
      "outputs": [
        {
          "output_type": "execute_result",
          "data": {
            "text/plain": [
              "False"
            ]
          },
          "metadata": {
            "tags": []
          },
          "execution_count": 6
        }
      ]
    },
    {
      "cell_type": "code",
      "metadata": {
        "colab": {
          "base_uri": "https://localhost:8080/"
        },
        "id": "Dl6RyVyKr1ci",
        "outputId": "dd1de7c2-76ed-48a8-a429-173c08229fa7"
      },
      "source": [
        "1+2j"
      ],
      "execution_count": null,
      "outputs": [
        {
          "output_type": "execute_result",
          "data": {
            "text/plain": [
              "(1+2j)"
            ]
          },
          "metadata": {
            "tags": []
          },
          "execution_count": 7
        }
      ]
    },
    {
      "cell_type": "code",
      "metadata": {
        "colab": {
          "base_uri": "https://localhost:8080/"
        },
        "id": "ql9i54FFywe_",
        "outputId": "d6aec4ad-58e0-4cd4-d0b6-4a8f06c3384b"
      },
      "source": [
        "ord('a')"
      ],
      "execution_count": null,
      "outputs": [
        {
          "output_type": "execute_result",
          "data": {
            "text/plain": [
              "97"
            ]
          },
          "metadata": {
            "tags": []
          },
          "execution_count": 8
        }
      ]
    },
    {
      "cell_type": "code",
      "metadata": {
        "id": "PRMo4OrGzABS"
      },
      "source": [
        "for i in range(0,10000):\n",
        "  print(str(i),\" : \",chr(i))"
      ],
      "execution_count": null,
      "outputs": []
    },
    {
      "cell_type": "code",
      "metadata": {
        "id": "WruxguIdzD2t"
      },
      "source": [
        "a = 10"
      ],
      "execution_count": null,
      "outputs": []
    },
    {
      "cell_type": "code",
      "metadata": {
        "colab": {
          "base_uri": "https://localhost:8080/"
        },
        "id": "mdpf6QqKIxGs",
        "outputId": "a80b1f49-d3c3-4328-b3e2-ab09eb74165c"
      },
      "source": [
        "type(a)"
      ],
      "execution_count": null,
      "outputs": [
        {
          "output_type": "execute_result",
          "data": {
            "text/plain": [
              "int"
            ]
          },
          "metadata": {
            "tags": []
          },
          "execution_count": 34
        }
      ]
    },
    {
      "cell_type": "code",
      "metadata": {
        "id": "ryMasd7kIxDV"
      },
      "source": [
        "a = \"Hemanthsai\""
      ],
      "execution_count": null,
      "outputs": []
    },
    {
      "cell_type": "code",
      "metadata": {
        "colab": {
          "base_uri": "https://localhost:8080/"
        },
        "id": "nhPY3N3MIxAn",
        "outputId": "b8f66823-4c85-4fa6-f7d9-222df49f798b"
      },
      "source": [
        "type(a)"
      ],
      "execution_count": null,
      "outputs": [
        {
          "output_type": "execute_result",
          "data": {
            "text/plain": [
              "str"
            ]
          },
          "metadata": {
            "tags": []
          },
          "execution_count": 36
        }
      ]
    },
    {
      "cell_type": "code",
      "metadata": {
        "id": "5Pkw0aYwIw9n"
      },
      "source": [
        "a = 23+89j"
      ],
      "execution_count": null,
      "outputs": []
    },
    {
      "cell_type": "code",
      "metadata": {
        "colab": {
          "base_uri": "https://localhost:8080/"
        },
        "id": "K24a5-R_Iw6q",
        "outputId": "ac0c25df-f1e2-4fbc-acfa-96358d36c29b"
      },
      "source": [
        "type(a)"
      ],
      "execution_count": null,
      "outputs": [
        {
          "output_type": "execute_result",
          "data": {
            "text/plain": [
              "complex"
            ]
          },
          "metadata": {
            "tags": []
          },
          "execution_count": 38
        }
      ]
    },
    {
      "cell_type": "code",
      "metadata": {
        "id": "O5_MOk23Iw3i"
      },
      "source": [
        "a = 0.0"
      ],
      "execution_count": null,
      "outputs": []
    },
    {
      "cell_type": "code",
      "metadata": {
        "colab": {
          "base_uri": "https://localhost:8080/"
        },
        "id": "b7W1K0ozIw0s",
        "outputId": "38eef3cb-5231-41b2-e471-17582092ed3b"
      },
      "source": [
        "type(a)"
      ],
      "execution_count": null,
      "outputs": [
        {
          "output_type": "execute_result",
          "data": {
            "text/plain": [
              "float"
            ]
          },
          "metadata": {
            "tags": []
          },
          "execution_count": 40
        }
      ]
    },
    {
      "cell_type": "code",
      "metadata": {
        "id": "KiscWPCJI8x1"
      },
      "source": [
        "a = \"5 + 5\""
      ],
      "execution_count": null,
      "outputs": []
    },
    {
      "cell_type": "code",
      "metadata": {
        "colab": {
          "base_uri": "https://localhost:8080/"
        },
        "id": "A_zbwVWUI8vA",
        "outputId": "194bcae0-ccfc-40b5-a141-cc7dadfb4b38"
      },
      "source": [
        "print(a)"
      ],
      "execution_count": null,
      "outputs": [
        {
          "output_type": "stream",
          "text": [
            "5 + 5\n"
          ],
          "name": "stdout"
        }
      ]
    },
    {
      "cell_type": "code",
      "metadata": {
        "colab": {
          "base_uri": "https://localhost:8080/"
        },
        "id": "dwBWExGuI8rN",
        "outputId": "b2b37942-2c51-4d47-8894-e3a9f1b64553"
      },
      "source": [
        "type(a)"
      ],
      "execution_count": null,
      "outputs": [
        {
          "output_type": "execute_result",
          "data": {
            "text/plain": [
              "str"
            ]
          },
          "metadata": {
            "tags": []
          },
          "execution_count": 43
        }
      ]
    },
    {
      "cell_type": "code",
      "metadata": {
        "colab": {
          "base_uri": "https://localhost:8080/"
        },
        "id": "CvNgKkb0I8or",
        "outputId": "ab14feee-a284-4464-b493-7a9a3309f853"
      },
      "source": [
        "type(type)"
      ],
      "execution_count": null,
      "outputs": [
        {
          "output_type": "execute_result",
          "data": {
            "text/plain": [
              "type"
            ]
          },
          "metadata": {
            "tags": []
          },
          "execution_count": 45
        }
      ]
    },
    {
      "cell_type": "code",
      "metadata": {
        "colab": {
          "base_uri": "https://localhost:8080/"
        },
        "id": "lYKAVO3kKoj-",
        "outputId": "1e2a5527-1bea-4ae2-c68a-c30836d0f6d8"
      },
      "source": [
        "name = \"Hemanthsai\"\n",
        "print(type(name))"
      ],
      "execution_count": null,
      "outputs": [
        {
          "output_type": "stream",
          "text": [
            "<class 'str'>\n"
          ],
          "name": "stdout"
        }
      ]
    },
    {
      "cell_type": "code",
      "metadata": {
        "colab": {
          "base_uri": "https://localhost:8080/"
        },
        "id": "183nyaVEI8lz",
        "outputId": "822c4ed8-5c40-4677-f01f-bd431f30d98d"
      },
      "source": [
        "name = input(\"Enter your name:\")\n",
        "print(\"Name : \",name)"
      ],
      "execution_count": null,
      "outputs": [
        {
          "output_type": "stream",
          "text": [
            "Enter your name:Hemanthsai\n",
            "Name :  Hemanthsai\n"
          ],
          "name": "stdout"
        }
      ]
    },
    {
      "cell_type": "code",
      "metadata": {
        "colab": {
          "base_uri": "https://localhost:8080/"
        },
        "id": "PlE6Zw2aI8jB",
        "outputId": "b265f845-914d-44f9-8f08-02da50e4fd0b"
      },
      "source": [
        "a = input(\"Enter a :\")\n",
        "b = input(\"Enter b :\")\n",
        "print(a+b)"
      ],
      "execution_count": null,
      "outputs": [
        {
          "output_type": "stream",
          "text": [
            "Enter a :10\n",
            "Enter b :20\n",
            "1020\n"
          ],
          "name": "stdout"
        }
      ]
    },
    {
      "cell_type": "code",
      "metadata": {
        "colab": {
          "base_uri": "https://localhost:8080/"
        },
        "id": "s4pzUVlWI8f0",
        "outputId": "a2da3ed8-af13-4c14-9192-a7a5e9b8a4eb"
      },
      "source": [
        "a = input(\"Enter a:\")\n",
        "b = input(\"Enter b:\")\n",
        "print(int(a+b))"
      ],
      "execution_count": null,
      "outputs": [
        {
          "output_type": "stream",
          "text": [
            "Enter a:10\n",
            "Enter b:20\n",
            "1020\n"
          ],
          "name": "stdout"
        }
      ]
    },
    {
      "cell_type": "code",
      "metadata": {
        "id": "dI5xF1j3I8c9"
      },
      "source": [
        "var = 10"
      ],
      "execution_count": null,
      "outputs": []
    },
    {
      "cell_type": "code",
      "metadata": {
        "id": "PkA9oVSRJyNK"
      },
      "source": [
        "var_ = 10"
      ],
      "execution_count": null,
      "outputs": []
    },
    {
      "cell_type": "code",
      "metadata": {
        "id": "jqNgPj3PJyJt"
      },
      "source": [
        "_var = 10"
      ],
      "execution_count": null,
      "outputs": []
    },
    {
      "cell_type": "code",
      "metadata": {
        "id": "y1qmAQvfJyG1"
      },
      "source": [
        "var100 = 10"
      ],
      "execution_count": null,
      "outputs": []
    },
    {
      "cell_type": "code",
      "metadata": {
        "id": "0PjitaThJyEQ"
      },
      "source": [
        "# illegal variable name\n",
        "# 100var = 10\n"
      ],
      "execution_count": null,
      "outputs": []
    },
    {
      "cell_type": "code",
      "metadata": {
        "id": "RpLG24X3JyBY"
      },
      "source": [
        "a,b = 10,20"
      ],
      "execution_count": null,
      "outputs": []
    },
    {
      "cell_type": "code",
      "metadata": {
        "colab": {
          "base_uri": "https://localhost:8080/"
        },
        "id": "4jDlonESJx-v",
        "outputId": "2e71cc85-2c47-41e1-f917-648775ac45fc"
      },
      "source": [
        "print(a,b)"
      ],
      "execution_count": null,
      "outputs": [
        {
          "output_type": "stream",
          "text": [
            "10 20\n"
          ],
          "name": "stdout"
        }
      ]
    },
    {
      "cell_type": "code",
      "metadata": {
        "colab": {
          "base_uri": "https://localhost:8080/"
        },
        "id": "NUfoLoTQJx8t",
        "outputId": "323b668d-5281-41ac-d2d4-b24590973e94"
      },
      "source": [
        "a,b,c = 10,20,30\n",
        "print(a,b,c)"
      ],
      "execution_count": null,
      "outputs": [
        {
          "output_type": "stream",
          "text": [
            "10 20 30\n"
          ],
          "name": "stdout"
        }
      ]
    },
    {
      "cell_type": "code",
      "metadata": {
        "colab": {
          "base_uri": "https://localhost:8080/"
        },
        "id": "jnROfIx8Jx5Q",
        "outputId": "bfd5d36a-3440-4266-bca0-838bf14123a2"
      },
      "source": [
        "#swapping of two numbers\n",
        "a,b = 10,20\n",
        "print(a,b)\n",
        "print(\"\\n\")\n",
        "b,a = 10,20\n",
        "print(a,b)"
      ],
      "execution_count": null,
      "outputs": [
        {
          "output_type": "stream",
          "text": [
            "10 20\n",
            "\n",
            "\n",
            "20 10\n"
          ],
          "name": "stdout"
        }
      ]
    },
    {
      "cell_type": "code",
      "metadata": {
        "id": "CURFbh6vJx2e"
      },
      "source": [
        "num = 1000"
      ],
      "execution_count": null,
      "outputs": []
    },
    {
      "cell_type": "code",
      "metadata": {
        "colab": {
          "base_uri": "https://localhost:8080/"
        },
        "id": "vpiOEpLmLn6h",
        "outputId": "45270db4-9ddd-4e67-963a-1fea18f604c9"
      },
      "source": [
        "float(num)"
      ],
      "execution_count": null,
      "outputs": [
        {
          "output_type": "execute_result",
          "data": {
            "text/plain": [
              "1000.0"
            ]
          },
          "metadata": {
            "tags": []
          },
          "execution_count": 64
        }
      ]
    },
    {
      "cell_type": "code",
      "metadata": {
        "colab": {
          "base_uri": "https://localhost:8080/"
        },
        "id": "nmUdt7NaLn22",
        "outputId": "37644714-40f0-465e-aeb0-4983dc30a12a"
      },
      "source": [
        "complex(num)"
      ],
      "execution_count": null,
      "outputs": [
        {
          "output_type": "execute_result",
          "data": {
            "text/plain": [
              "(1000+0j)"
            ]
          },
          "metadata": {
            "tags": []
          },
          "execution_count": 65
        }
      ]
    },
    {
      "cell_type": "code",
      "metadata": {
        "colab": {
          "base_uri": "https://localhost:8080/"
        },
        "id": "02_1uKeYLnow",
        "outputId": "42498ab7-9324-41d6-e2f2-e6de9c772804"
      },
      "source": [
        "int(100.00011)"
      ],
      "execution_count": null,
      "outputs": [
        {
          "output_type": "execute_result",
          "data": {
            "text/plain": [
              "100"
            ]
          },
          "metadata": {
            "tags": []
          },
          "execution_count": 70
        }
      ]
    },
    {
      "cell_type": "code",
      "metadata": {
        "colab": {
          "base_uri": "https://localhost:8080/"
        },
        "id": "cZyVJ_SQLnmZ",
        "outputId": "84bab6fe-10d6-46dd-d6b4-d8db2a131e3d"
      },
      "source": [
        "float(101010)"
      ],
      "execution_count": null,
      "outputs": [
        {
          "output_type": "execute_result",
          "data": {
            "text/plain": [
              "101010.0"
            ]
          },
          "metadata": {
            "tags": []
          },
          "execution_count": 71
        }
      ]
    },
    {
      "cell_type": "markdown",
      "metadata": {
        "id": "sHqlWI7hMEoj"
      },
      "source": [
        "#Operators"
      ]
    },
    {
      "cell_type": "code",
      "metadata": {
        "colab": {
          "base_uri": "https://localhost:8080/"
        },
        "id": "GOPnX77GLnkF",
        "outputId": "9a0a951a-f8c3-4b5b-87d6-3cb9632c2b70"
      },
      "source": [
        "3+2"
      ],
      "execution_count": null,
      "outputs": [
        {
          "output_type": "execute_result",
          "data": {
            "text/plain": [
              "5"
            ]
          },
          "metadata": {
            "tags": []
          },
          "execution_count": 72
        }
      ]
    },
    {
      "cell_type": "code",
      "metadata": {
        "id": "gbtfmQksLniE"
      },
      "source": [
        "a = 10\n",
        "b = 34.3"
      ],
      "execution_count": null,
      "outputs": []
    },
    {
      "cell_type": "code",
      "metadata": {
        "colab": {
          "base_uri": "https://localhost:8080/"
        },
        "id": "ILuMx5SZLnfo",
        "outputId": "b569f74d-090d-4f2f-bc02-fd335f34d2e9"
      },
      "source": [
        "print(a+b)"
      ],
      "execution_count": null,
      "outputs": [
        {
          "output_type": "stream",
          "text": [
            "44.3\n"
          ],
          "name": "stdout"
        }
      ]
    },
    {
      "cell_type": "code",
      "metadata": {
        "colab": {
          "base_uri": "https://localhost:8080/"
        },
        "id": "k-P5lSNULnde",
        "outputId": "2a0dc430-5b76-42d2-c44a-31cb9a48761a"
      },
      "source": [
        "print(a-b)"
      ],
      "execution_count": null,
      "outputs": [
        {
          "output_type": "stream",
          "text": [
            "-24.299999999999997\n"
          ],
          "name": "stdout"
        }
      ]
    },
    {
      "cell_type": "code",
      "metadata": {
        "colab": {
          "base_uri": "https://localhost:8080/"
        },
        "id": "q197002SLnbG",
        "outputId": "4a52f7c8-a156-460e-d80f-4e34ad313dbb"
      },
      "source": [
        "print(a/b)"
      ],
      "execution_count": null,
      "outputs": [
        {
          "output_type": "stream",
          "text": [
            "0.2915451895043732\n"
          ],
          "name": "stdout"
        }
      ]
    },
    {
      "cell_type": "code",
      "metadata": {
        "colab": {
          "base_uri": "https://localhost:8080/"
        },
        "id": "-lg1Zv8rMNYS",
        "outputId": "a1ad7c50-d11a-4016-b05c-cd6beabcb5fe"
      },
      "source": [
        "print(a//b)"
      ],
      "execution_count": null,
      "outputs": [
        {
          "output_type": "stream",
          "text": [
            "0.0\n"
          ],
          "name": "stdout"
        }
      ]
    },
    {
      "cell_type": "code",
      "metadata": {
        "colab": {
          "base_uri": "https://localhost:8080/"
        },
        "id": "Qsc4kqReMNRu",
        "outputId": "f62594fb-8335-4c5d-a734-2587093237f9"
      },
      "source": [
        "print(4/2)   "
      ],
      "execution_count": null,
      "outputs": [
        {
          "output_type": "stream",
          "text": [
            "2.0\n"
          ],
          "name": "stdout"
        }
      ]
    },
    {
      "cell_type": "code",
      "metadata": {
        "colab": {
          "base_uri": "https://localhost:8080/"
        },
        "id": "CguHTxPkMNJt",
        "outputId": "09b79583-0c66-491c-9e53-c3ae0657fba8"
      },
      "source": [
        "print(4//2)  #floor division"
      ],
      "execution_count": null,
      "outputs": [
        {
          "output_type": "stream",
          "text": [
            "2\n"
          ],
          "name": "stdout"
        }
      ]
    },
    {
      "cell_type": "code",
      "metadata": {
        "id": "vi6mABUKMNDp"
      },
      "source": [
        "a = 10\n",
        "b = 20"
      ],
      "execution_count": null,
      "outputs": []
    },
    {
      "cell_type": "code",
      "metadata": {
        "colab": {
          "base_uri": "https://localhost:8080/"
        },
        "id": "3I9PslXCMM9w",
        "outputId": "8bb443ee-1648-4c40-adbe-66626093850b"
      },
      "source": [
        "print(a**b)\n",
        "print(2**2)"
      ],
      "execution_count": null,
      "outputs": [
        {
          "output_type": "stream",
          "text": [
            "100000000000000000000\n",
            "4\n"
          ],
          "name": "stdout"
        }
      ]
    },
    {
      "cell_type": "code",
      "metadata": {
        "colab": {
          "base_uri": "https://localhost:8080/"
        },
        "id": "fBSl1m_5MM40",
        "outputId": "d8892c87-ce35-402b-cb24-d7fd336ea7c8"
      },
      "source": [
        "print(a%b)"
      ],
      "execution_count": null,
      "outputs": [
        {
          "output_type": "stream",
          "text": [
            "10\n"
          ],
          "name": "stdout"
        }
      ]
    },
    {
      "cell_type": "code",
      "metadata": {
        "colab": {
          "base_uri": "https://localhost:8080/"
        },
        "id": "CXn0Ehe1MMy7",
        "outputId": "f75babe6-3d57-4dca-fd23-a512054f8b57"
      },
      "source": [
        "a+=10\n",
        "print(a)"
      ],
      "execution_count": null,
      "outputs": [
        {
          "output_type": "stream",
          "text": [
            "30\n"
          ],
          "name": "stdout"
        }
      ]
    },
    {
      "cell_type": "code",
      "metadata": {
        "colab": {
          "base_uri": "https://localhost:8080/"
        },
        "id": "GgypNjstMMt-",
        "outputId": "4aec11ab-3d7a-46fd-86fa-75251c35d086"
      },
      "source": [
        "a-=10\n",
        "print(a)"
      ],
      "execution_count": null,
      "outputs": [
        {
          "output_type": "stream",
          "text": [
            "20\n"
          ],
          "name": "stdout"
        }
      ]
    },
    {
      "cell_type": "code",
      "metadata": {
        "colab": {
          "base_uri": "https://localhost:8080/"
        },
        "id": "tXjHh1LpMMpH",
        "outputId": "6b749806-9fd2-49b8-bca9-6482a442ef3f"
      },
      "source": [
        "a/=10\n",
        "print(a)"
      ],
      "execution_count": null,
      "outputs": [
        {
          "output_type": "stream",
          "text": [
            "2.0\n"
          ],
          "name": "stdout"
        }
      ]
    },
    {
      "cell_type": "code",
      "metadata": {
        "colab": {
          "base_uri": "https://localhost:8080/"
        },
        "id": "LS0Lspj2MMkd",
        "outputId": "63c0d3a5-662c-4a4f-e9ee-2056cde60316"
      },
      "source": [
        "a%=4\n",
        "print(a)"
      ],
      "execution_count": null,
      "outputs": [
        {
          "output_type": "stream",
          "text": [
            "2.0\n"
          ],
          "name": "stdout"
        }
      ]
    },
    {
      "cell_type": "code",
      "metadata": {
        "colab": {
          "base_uri": "https://localhost:8080/"
        },
        "id": "Z4bnTxVhMMgI",
        "outputId": "1e31a57e-c4a4-4a53-b138-ccf599a1221f"
      },
      "source": [
        "a**=4\n",
        "print(a)"
      ],
      "execution_count": null,
      "outputs": [
        {
          "output_type": "stream",
          "text": [
            "16.0\n"
          ],
          "name": "stdout"
        }
      ]
    },
    {
      "cell_type": "code",
      "metadata": {
        "colab": {
          "base_uri": "https://localhost:8080/"
        },
        "id": "UeTLuf6CMMbM",
        "outputId": "8e68a32a-921d-4f65-cf7b-eed9ac1e13b2"
      },
      "source": [
        "print(10 & 10)"
      ],
      "execution_count": null,
      "outputs": [
        {
          "output_type": "stream",
          "text": [
            "10\n"
          ],
          "name": "stdout"
        }
      ]
    },
    {
      "cell_type": "code",
      "metadata": {
        "colab": {
          "base_uri": "https://localhost:8080/"
        },
        "id": "hFhrO9aEMMXD",
        "outputId": "cfaa34dd-4665-4afa-f5c3-b296701c43e2"
      },
      "source": [
        "print(10 | 10)"
      ],
      "execution_count": null,
      "outputs": [
        {
          "output_type": "stream",
          "text": [
            "10\n"
          ],
          "name": "stdout"
        }
      ]
    },
    {
      "cell_type": "code",
      "metadata": {
        "colab": {
          "base_uri": "https://localhost:8080/"
        },
        "id": "FMXOFVy5MMPr",
        "outputId": "0d330fc8-7224-4607-bfa5-c2db5e423a43"
      },
      "source": [
        "print(4>>1)"
      ],
      "execution_count": null,
      "outputs": [
        {
          "output_type": "stream",
          "text": [
            "2\n"
          ],
          "name": "stdout"
        }
      ]
    },
    {
      "cell_type": "code",
      "metadata": {
        "colab": {
          "base_uri": "https://localhost:8080/"
        },
        "id": "U187mUVPMMMl",
        "outputId": "2922e15e-110d-4194-fc09-486433a0c50c"
      },
      "source": [
        "print(4<<1)"
      ],
      "execution_count": null,
      "outputs": [
        {
          "output_type": "stream",
          "text": [
            "8\n"
          ],
          "name": "stdout"
        }
      ]
    },
    {
      "cell_type": "code",
      "metadata": {
        "id": "utBbFZctMMJQ"
      },
      "source": [
        "a = 10\n",
        "b = 20"
      ],
      "execution_count": null,
      "outputs": []
    },
    {
      "cell_type": "code",
      "metadata": {
        "colab": {
          "base_uri": "https://localhost:8080/"
        },
        "id": "-FE_67nHMMGc",
        "outputId": "7a8f6803-56ed-4472-cdf8-a855e646ed6b"
      },
      "source": [
        "print(a==b)\n",
        "print(a>b)\n",
        "print(a<b)\n",
        "print(a!=b)\n",
        "print(a>=b)\n",
        "print(a<=b)"
      ],
      "execution_count": null,
      "outputs": [
        {
          "output_type": "stream",
          "text": [
            "False\n",
            "False\n",
            "True\n",
            "True\n",
            "False\n",
            "True\n"
          ],
          "name": "stdout"
        }
      ]
    },
    {
      "cell_type": "code",
      "metadata": {
        "id": "WUht46qdMMDr"
      },
      "source": [
        "a = \"1000\"\n",
        "b = 1000"
      ],
      "execution_count": null,
      "outputs": []
    },
    {
      "cell_type": "code",
      "metadata": {
        "colab": {
          "base_uri": "https://localhost:8080/"
        },
        "id": "5Vh3jAe4MMAv",
        "outputId": "1bb9e290-6882-495a-bbf3-e086798ca9ac"
      },
      "source": [
        "print(a==b)"
      ],
      "execution_count": null,
      "outputs": [
        {
          "output_type": "stream",
          "text": [
            "False\n"
          ],
          "name": "stdout"
        }
      ]
    },
    {
      "cell_type": "code",
      "metadata": {
        "id": "TDUm8Sg7ML5i"
      },
      "source": [
        "a = 10\n",
        "b = 30"
      ],
      "execution_count": null,
      "outputs": []
    },
    {
      "cell_type": "code",
      "metadata": {
        "colab": {
          "base_uri": "https://localhost:8080/"
        },
        "id": "yVqqNTVdML2p",
        "outputId": "48835b74-c97d-449d-b308-881e03220827"
      },
      "source": [
        "a is a"
      ],
      "execution_count": null,
      "outputs": [
        {
          "output_type": "execute_result",
          "data": {
            "text/plain": [
              "True"
            ]
          },
          "metadata": {
            "tags": []
          },
          "execution_count": 113
        }
      ]
    },
    {
      "cell_type": "code",
      "metadata": {
        "colab": {
          "base_uri": "https://localhost:8080/"
        },
        "id": "4DpjXe5uML0N",
        "outputId": "4e3140d6-96c5-4616-8ee9-342ef5c47349"
      },
      "source": [
        "b is b"
      ],
      "execution_count": null,
      "outputs": [
        {
          "output_type": "execute_result",
          "data": {
            "text/plain": [
              "True"
            ]
          },
          "metadata": {
            "tags": []
          },
          "execution_count": 114
        }
      ]
    },
    {
      "cell_type": "code",
      "metadata": {
        "colab": {
          "base_uri": "https://localhost:8080/"
        },
        "id": "L9H8qEAaMLxz",
        "outputId": "e3fe872e-4128-44f4-c7d0-9321b064c9b0"
      },
      "source": [
        "a is b"
      ],
      "execution_count": null,
      "outputs": [
        {
          "output_type": "execute_result",
          "data": {
            "text/plain": [
              "False"
            ]
          },
          "metadata": {
            "tags": []
          },
          "execution_count": 115
        }
      ]
    },
    {
      "cell_type": "code",
      "metadata": {
        "colab": {
          "base_uri": "https://localhost:8080/"
        },
        "id": "9JbggEN-MLvg",
        "outputId": "c52297a8-718c-486a-f4e8-fe052b28bf76"
      },
      "source": [
        "b is a"
      ],
      "execution_count": null,
      "outputs": [
        {
          "output_type": "execute_result",
          "data": {
            "text/plain": [
              "False"
            ]
          },
          "metadata": {
            "tags": []
          },
          "execution_count": 116
        }
      ]
    },
    {
      "cell_type": "code",
      "metadata": {
        "colab": {
          "base_uri": "https://localhost:8080/"
        },
        "id": "Rgu42qIVMLtJ",
        "outputId": "41992bff-0443-4b6d-97b0-4449ce064e82"
      },
      "source": [
        "a is not a"
      ],
      "execution_count": null,
      "outputs": [
        {
          "output_type": "execute_result",
          "data": {
            "text/plain": [
              "False"
            ]
          },
          "metadata": {
            "tags": []
          },
          "execution_count": 117
        }
      ]
    },
    {
      "cell_type": "code",
      "metadata": {
        "colab": {
          "base_uri": "https://localhost:8080/"
        },
        "id": "vWXJLle-MLq0",
        "outputId": "4da7cae6-9ba1-47c9-90f3-e67c9714f817"
      },
      "source": [
        "b is not a"
      ],
      "execution_count": null,
      "outputs": [
        {
          "output_type": "execute_result",
          "data": {
            "text/plain": [
              "True"
            ]
          },
          "metadata": {
            "tags": []
          },
          "execution_count": 118
        }
      ]
    },
    {
      "cell_type": "code",
      "metadata": {
        "colab": {
          "base_uri": "https://localhost:8080/"
        },
        "id": "0o6jNf9WMLoi",
        "outputId": "4afb94b7-ff57-41c7-b835-7ffc4c18d438"
      },
      "source": [
        "b is not b"
      ],
      "execution_count": null,
      "outputs": [
        {
          "output_type": "execute_result",
          "data": {
            "text/plain": [
              "False"
            ]
          },
          "metadata": {
            "tags": []
          },
          "execution_count": 119
        }
      ]
    },
    {
      "cell_type": "code",
      "metadata": {
        "colab": {
          "base_uri": "https://localhost:8080/"
        },
        "id": "H_f7cRWUOwu8",
        "outputId": "02b32e4e-5dae-44ac-b599-e4fa1e8b0907"
      },
      "source": [
        "b is not a"
      ],
      "execution_count": null,
      "outputs": [
        {
          "output_type": "execute_result",
          "data": {
            "text/plain": [
              "True"
            ]
          },
          "metadata": {
            "tags": []
          },
          "execution_count": 121
        }
      ]
    },
    {
      "cell_type": "code",
      "metadata": {
        "id": "DPhHBYmqOwri"
      },
      "source": [
        "s = \"Smile Please\""
      ],
      "execution_count": null,
      "outputs": []
    },
    {
      "cell_type": "code",
      "metadata": {
        "colab": {
          "base_uri": "https://localhost:8080/"
        },
        "id": "WWHROxKzOwqA",
        "outputId": "b9d1dc9d-725f-4783-e65f-58619ca9192c"
      },
      "source": [
        "\"S\" in s"
      ],
      "execution_count": null,
      "outputs": [
        {
          "output_type": "execute_result",
          "data": {
            "text/plain": [
              "True"
            ]
          },
          "metadata": {
            "tags": []
          },
          "execution_count": 124
        }
      ]
    },
    {
      "cell_type": "code",
      "metadata": {
        "colab": {
          "base_uri": "https://localhost:8080/"
        },
        "id": "JA2LxzLBOwml",
        "outputId": "3cd23de4-3632-4f3d-9fbd-f77f12844ff2"
      },
      "source": [
        "\"s\" in s"
      ],
      "execution_count": null,
      "outputs": [
        {
          "output_type": "execute_result",
          "data": {
            "text/plain": [
              "True"
            ]
          },
          "metadata": {
            "tags": []
          },
          "execution_count": 125
        }
      ]
    },
    {
      "cell_type": "code",
      "metadata": {
        "colab": {
          "base_uri": "https://localhost:8080/"
        },
        "id": "6EDgf5wSOwje",
        "outputId": "5ed4a619-3de9-4057-e54b-2f0030812f6c"
      },
      "source": [
        "\"P\" in s"
      ],
      "execution_count": null,
      "outputs": [
        {
          "output_type": "execute_result",
          "data": {
            "text/plain": [
              "True"
            ]
          },
          "metadata": {
            "tags": []
          },
          "execution_count": 126
        }
      ]
    },
    {
      "cell_type": "code",
      "metadata": {
        "colab": {
          "base_uri": "https://localhost:8080/"
        },
        "id": "-feGRfdWOwg4",
        "outputId": "250079b7-95ba-4e6d-ccde-41e40e16fffc"
      },
      "source": [
        "\"Smile\" in s"
      ],
      "execution_count": null,
      "outputs": [
        {
          "output_type": "execute_result",
          "data": {
            "text/plain": [
              "True"
            ]
          },
          "metadata": {
            "tags": []
          },
          "execution_count": 128
        }
      ]
    },
    {
      "cell_type": "code",
      "metadata": {
        "colab": {
          "base_uri": "https://localhost:8080/"
        },
        "id": "OU0PY_gpPY6d",
        "outputId": "282bb926-fd84-4355-81f2-82c81f6b13a5"
      },
      "source": [
        "\"sss\" not in s"
      ],
      "execution_count": null,
      "outputs": [
        {
          "output_type": "execute_result",
          "data": {
            "text/plain": [
              "True"
            ]
          },
          "metadata": {
            "tags": []
          },
          "execution_count": 129
        }
      ]
    },
    {
      "cell_type": "code",
      "metadata": {
        "colab": {
          "base_uri": "https://localhost:8080/"
        },
        "id": "TBEzNKpOPY3D",
        "outputId": "fd62260d-4192-4216-83e0-77d144b58dfb"
      },
      "source": [
        "\"Please\" not in s"
      ],
      "execution_count": null,
      "outputs": [
        {
          "output_type": "execute_result",
          "data": {
            "text/plain": [
              "False"
            ]
          },
          "metadata": {
            "tags": []
          },
          "execution_count": 130
        }
      ]
    },
    {
      "cell_type": "code",
      "metadata": {
        "id": "z9VZFhJ7PYjH"
      },
      "source": [
        ""
      ],
      "execution_count": null,
      "outputs": []
    },
    {
      "cell_type": "markdown",
      "metadata": {
        "id": "oQgZIi0WuD8J"
      },
      "source": [
        "#Strings"
      ]
    },
    {
      "cell_type": "code",
      "metadata": {
        "colab": {
          "base_uri": "https://localhost:8080/"
        },
        "id": "oBRsFphGuE9b",
        "outputId": "90000611-c1f4-4416-e43c-8d5d9bcaf3da"
      },
      "source": [
        "str = \"Hemanthsai\"\n",
        "print(str)"
      ],
      "execution_count": null,
      "outputs": [
        {
          "output_type": "stream",
          "text": [
            "Hemanthsai\n"
          ],
          "name": "stdout"
        }
      ]
    },
    {
      "cell_type": "code",
      "metadata": {
        "id": "WoBr-YQ1uMg_"
      },
      "source": [
        "s = 'Hemanthsai'"
      ],
      "execution_count": null,
      "outputs": []
    },
    {
      "cell_type": "code",
      "metadata": {
        "colab": {
          "base_uri": "https://localhost:8080/"
        },
        "id": "yrcWYWfjubtf",
        "outputId": "304cf700-f988-4f30-be73-27d662900723"
      },
      "source": [
        "print(s)"
      ],
      "execution_count": null,
      "outputs": [
        {
          "output_type": "stream",
          "text": [
            "Hemanthsai\n"
          ],
          "name": "stdout"
        }
      ]
    },
    {
      "cell_type": "code",
      "metadata": {
        "colab": {
          "base_uri": "https://localhost:8080/"
        },
        "id": "VPEmUouSuc2w",
        "outputId": "f6c846eb-3910-43b7-d4a0-0d3f02cced71"
      },
      "source": [
        "s = \"\"\"Hemanthsai\"\"\"\n",
        "print(s)"
      ],
      "execution_count": null,
      "outputs": [
        {
          "output_type": "stream",
          "text": [
            "Hemanthsai\n"
          ],
          "name": "stdout"
        }
      ]
    },
    {
      "cell_type": "code",
      "metadata": {
        "colab": {
          "base_uri": "https://localhost:8080/"
        },
        "id": "7M9lwK09uo98",
        "outputId": "19962e3e-ce01-49c7-a471-3f0c29480b7b"
      },
      "source": [
        "s = \"\"\"Hemanthsai\n",
        "Hemanthsai Hemanthsai\"\"\"\n",
        "print(s)"
      ],
      "execution_count": null,
      "outputs": [
        {
          "output_type": "stream",
          "text": [
            "Hemanthsai\n",
            "Hemanthsai Hemanthsai\n"
          ],
          "name": "stdout"
        }
      ]
    },
    {
      "cell_type": "code",
      "metadata": {
        "colab": {
          "base_uri": "https://localhost:8080/"
        },
        "id": "lo2j1lGrusDo",
        "outputId": "21f7a164-9ca7-4235-f7b3-0c1a0ea1c9e4"
      },
      "source": [
        "s = \"\"\"Hemanthsai \\\n",
        "Hemanthsai \\\n",
        "Hemanthsai\"\"\"\n",
        "print(s)"
      ],
      "execution_count": null,
      "outputs": [
        {
          "output_type": "stream",
          "text": [
            "Hemanthsai Hemanthsai Hemanthsai\n"
          ],
          "name": "stdout"
        }
      ]
    },
    {
      "cell_type": "code",
      "metadata": {
        "id": "R3hHWpJrQ3yG"
      },
      "source": [
        "a = \"Hemanth\"\n",
        "b = \"Sai\""
      ],
      "execution_count": null,
      "outputs": []
    },
    {
      "cell_type": "code",
      "metadata": {
        "colab": {
          "base_uri": "https://localhost:8080/"
        },
        "id": "g3SiHnTIQ9bY",
        "outputId": "2d3bb158-f754-4791-de72-f666c99b00dd"
      },
      "source": [
        "print(a+b)"
      ],
      "execution_count": null,
      "outputs": [
        {
          "output_type": "stream",
          "text": [
            "HemanthSai\n"
          ],
          "name": "stdout"
        }
      ]
    },
    {
      "cell_type": "code",
      "metadata": {
        "colab": {
          "base_uri": "https://localhost:8080/"
        },
        "id": "aeWOGYMIQ_oT",
        "outputId": "97740d5a-5f3a-4daa-d683-ec61484a9576"
      },
      "source": [
        "print(type(a+b))"
      ],
      "execution_count": null,
      "outputs": [
        {
          "output_type": "stream",
          "text": [
            "<class 'str'>\n"
          ],
          "name": "stdout"
        }
      ]
    },
    {
      "cell_type": "code",
      "metadata": {
        "id": "LKa_1Gt8u1Ce"
      },
      "source": [
        "s = \"Vidya Jyothi Institute of Technology\""
      ],
      "execution_count": null,
      "outputs": []
    },
    {
      "cell_type": "code",
      "metadata": {
        "colab": {
          "base_uri": "https://localhost:8080/",
          "height": 35
        },
        "id": "btDTEdeLu73c",
        "outputId": "35db29fc-b8fd-4850-8b4b-c647f3c522e4"
      },
      "source": [
        "s[0]"
      ],
      "execution_count": null,
      "outputs": [
        {
          "output_type": "execute_result",
          "data": {
            "application/vnd.google.colaboratory.intrinsic+json": {
              "type": "string"
            },
            "text/plain": [
              "'V'"
            ]
          },
          "metadata": {
            "tags": []
          },
          "execution_count": 17
        }
      ]
    },
    {
      "cell_type": "code",
      "metadata": {
        "colab": {
          "base_uri": "https://localhost:8080/",
          "height": 35
        },
        "id": "vN1Pwr2QvX6N",
        "outputId": "2330ee85-d902-46f2-d08b-599ec6d74537"
      },
      "source": [
        "s[4]"
      ],
      "execution_count": null,
      "outputs": [
        {
          "output_type": "execute_result",
          "data": {
            "application/vnd.google.colaboratory.intrinsic+json": {
              "type": "string"
            },
            "text/plain": [
              "'a'"
            ]
          },
          "metadata": {
            "tags": []
          },
          "execution_count": 18
        }
      ]
    },
    {
      "cell_type": "code",
      "metadata": {
        "colab": {
          "base_uri": "https://localhost:8080/",
          "height": 35
        },
        "id": "MOmnG-nWvpAM",
        "outputId": "64918868-86cc-46ae-ba4b-479947159233"
      },
      "source": [
        "s[6]"
      ],
      "execution_count": null,
      "outputs": [
        {
          "output_type": "execute_result",
          "data": {
            "application/vnd.google.colaboratory.intrinsic+json": {
              "type": "string"
            },
            "text/plain": [
              "'J'"
            ]
          },
          "metadata": {
            "tags": []
          },
          "execution_count": 19
        }
      ]
    },
    {
      "cell_type": "code",
      "metadata": {
        "colab": {
          "base_uri": "https://localhost:8080/",
          "height": 35
        },
        "id": "fSAIGlCMvqVX",
        "outputId": "7cc6645f-c9f8-49fc-a5bb-15bf311515dc"
      },
      "source": [
        "s[1]"
      ],
      "execution_count": null,
      "outputs": [
        {
          "output_type": "execute_result",
          "data": {
            "application/vnd.google.colaboratory.intrinsic+json": {
              "type": "string"
            },
            "text/plain": [
              "'i'"
            ]
          },
          "metadata": {
            "tags": []
          },
          "execution_count": 20
        }
      ]
    },
    {
      "cell_type": "code",
      "metadata": {
        "colab": {
          "base_uri": "https://localhost:8080/",
          "height": 35
        },
        "id": "RBZyHZ7lvsZ0",
        "outputId": "ff013626-3b70-4bfb-8ee8-780df72a377a"
      },
      "source": [
        "s[-1]"
      ],
      "execution_count": null,
      "outputs": [
        {
          "output_type": "execute_result",
          "data": {
            "application/vnd.google.colaboratory.intrinsic+json": {
              "type": "string"
            },
            "text/plain": [
              "'y'"
            ]
          },
          "metadata": {
            "tags": []
          },
          "execution_count": 21
        }
      ]
    },
    {
      "cell_type": "code",
      "metadata": {
        "colab": {
          "base_uri": "https://localhost:8080/",
          "height": 35
        },
        "id": "7S09Mpwuwyox",
        "outputId": "0579536c-d4e4-45e3-b194-0810b1013bf0"
      },
      "source": [
        "s[-3]"
      ],
      "execution_count": null,
      "outputs": [
        {
          "output_type": "execute_result",
          "data": {
            "application/vnd.google.colaboratory.intrinsic+json": {
              "type": "string"
            },
            "text/plain": [
              "'o'"
            ]
          },
          "metadata": {
            "tags": []
          },
          "execution_count": 22
        }
      ]
    },
    {
      "cell_type": "code",
      "metadata": {
        "colab": {
          "base_uri": "https://localhost:8080/",
          "height": 35
        },
        "id": "7YuMb3kYwzSr",
        "outputId": "645147b7-d052-41b3-b622-39818746062a"
      },
      "source": [
        "s[1:5]"
      ],
      "execution_count": null,
      "outputs": [
        {
          "output_type": "execute_result",
          "data": {
            "application/vnd.google.colaboratory.intrinsic+json": {
              "type": "string"
            },
            "text/plain": [
              "'idya'"
            ]
          },
          "metadata": {
            "tags": []
          },
          "execution_count": 23
        }
      ]
    },
    {
      "cell_type": "code",
      "metadata": {
        "colab": {
          "base_uri": "https://localhost:8080/",
          "height": 35
        },
        "id": "kwJS5Juuxxpx",
        "outputId": "1b8a4f89-fdf7-4b93-e4ca-cdf6414d8215"
      },
      "source": [
        "s[1:7]"
      ],
      "execution_count": null,
      "outputs": [
        {
          "output_type": "execute_result",
          "data": {
            "application/vnd.google.colaboratory.intrinsic+json": {
              "type": "string"
            },
            "text/plain": [
              "'idya J'"
            ]
          },
          "metadata": {
            "tags": []
          },
          "execution_count": 24
        }
      ]
    },
    {
      "cell_type": "code",
      "metadata": {
        "colab": {
          "base_uri": "https://localhost:8080/",
          "height": 35
        },
        "id": "XkeMpgw_yydr",
        "outputId": "fcad1315-e0ba-40b3-ee59-766632aa7b7e"
      },
      "source": [
        "s[4:10]"
      ],
      "execution_count": null,
      "outputs": [
        {
          "output_type": "execute_result",
          "data": {
            "application/vnd.google.colaboratory.intrinsic+json": {
              "type": "string"
            },
            "text/plain": [
              "'a Jyot'"
            ]
          },
          "metadata": {
            "tags": []
          },
          "execution_count": 25
        }
      ]
    },
    {
      "cell_type": "code",
      "metadata": {
        "colab": {
          "base_uri": "https://localhost:8080/",
          "height": 35
        },
        "id": "ZgdF7J8oyz2L",
        "outputId": "84096911-ffbe-4b90-86e9-cb9cdca3be64"
      },
      "source": [
        "s[5:2]"
      ],
      "execution_count": null,
      "outputs": [
        {
          "output_type": "execute_result",
          "data": {
            "application/vnd.google.colaboratory.intrinsic+json": {
              "type": "string"
            },
            "text/plain": [
              "''"
            ]
          },
          "metadata": {
            "tags": []
          },
          "execution_count": 26
        }
      ]
    },
    {
      "cell_type": "code",
      "metadata": {
        "colab": {
          "base_uri": "https://localhost:8080/",
          "height": 35
        },
        "id": "TweJi3_dy0_O",
        "outputId": "065344dd-74ba-421f-e49b-0580e5949da4"
      },
      "source": [
        "s[4:234]"
      ],
      "execution_count": null,
      "outputs": [
        {
          "output_type": "execute_result",
          "data": {
            "application/vnd.google.colaboratory.intrinsic+json": {
              "type": "string"
            },
            "text/plain": [
              "'a Jyothi Institute of Technology'"
            ]
          },
          "metadata": {
            "tags": []
          },
          "execution_count": 27
        }
      ]
    },
    {
      "cell_type": "code",
      "metadata": {
        "colab": {
          "base_uri": "https://localhost:8080/",
          "height": 35
        },
        "id": "kWacTKX5zC4x",
        "outputId": "336d97d2-6031-4aee-95c1-e1be64042209"
      },
      "source": [
        "s[-1:]"
      ],
      "execution_count": null,
      "outputs": [
        {
          "output_type": "execute_result",
          "data": {
            "application/vnd.google.colaboratory.intrinsic+json": {
              "type": "string"
            },
            "text/plain": [
              "'y'"
            ]
          },
          "metadata": {
            "tags": []
          },
          "execution_count": 28
        }
      ]
    },
    {
      "cell_type": "code",
      "metadata": {
        "colab": {
          "base_uri": "https://localhost:8080/",
          "height": 35
        },
        "id": "MMWRbfjozNSB",
        "outputId": "8ba66ec7-3741-4bf8-a36d-8f79a7bb5319"
      },
      "source": [
        "s[-3]"
      ],
      "execution_count": null,
      "outputs": [
        {
          "output_type": "execute_result",
          "data": {
            "application/vnd.google.colaboratory.intrinsic+json": {
              "type": "string"
            },
            "text/plain": [
              "'o'"
            ]
          },
          "metadata": {
            "tags": []
          },
          "execution_count": 29
        }
      ]
    },
    {
      "cell_type": "code",
      "metadata": {
        "colab": {
          "base_uri": "https://localhost:8080/"
        },
        "id": "FXmhUTKMzXqL",
        "outputId": "a5a97cf0-4827-4537-949d-73916a1110e2"
      },
      "source": [
        "print(s[-1:3])"
      ],
      "execution_count": null,
      "outputs": [
        {
          "output_type": "stream",
          "text": [
            "\n"
          ],
          "name": "stdout"
        }
      ]
    },
    {
      "cell_type": "code",
      "metadata": {
        "colab": {
          "base_uri": "https://localhost:8080/",
          "height": 35
        },
        "id": "ROD4qfuWzkM_",
        "outputId": "4dd982a9-d97f-4777-a3a8-09b939b88a90"
      },
      "source": [
        "s[-1:-3:-1]"
      ],
      "execution_count": null,
      "outputs": [
        {
          "output_type": "execute_result",
          "data": {
            "application/vnd.google.colaboratory.intrinsic+json": {
              "type": "string"
            },
            "text/plain": [
              "'yg'"
            ]
          },
          "metadata": {
            "tags": []
          },
          "execution_count": 31
        }
      ]
    },
    {
      "cell_type": "code",
      "metadata": {
        "id": "W3ot9581q71U"
      },
      "source": [
        "s = \"My name is Hemanth Sai\""
      ],
      "execution_count": null,
      "outputs": []
    },
    {
      "cell_type": "code",
      "metadata": {
        "id": "cb_AQmgOq_Zj",
        "colab": {
          "base_uri": "https://localhost:8080/"
        },
        "outputId": "4cea5bc1-73c6-4f0e-d81b-49d72bb8db9b"
      },
      "source": [
        "print(len(s))"
      ],
      "execution_count": null,
      "outputs": [
        {
          "output_type": "stream",
          "text": [
            "22\n"
          ],
          "name": "stdout"
        }
      ]
    },
    {
      "cell_type": "code",
      "metadata": {
        "colab": {
          "base_uri": "https://localhost:8080/"
        },
        "id": "mdEOzTsERlrx",
        "outputId": "5b9d92fa-0d09-43f7-dc7e-86ba236f7923"
      },
      "source": [
        "print(s[0])"
      ],
      "execution_count": null,
      "outputs": [
        {
          "output_type": "stream",
          "text": [
            "M\n"
          ],
          "name": "stdout"
        }
      ]
    },
    {
      "cell_type": "code",
      "metadata": {
        "colab": {
          "base_uri": "https://localhost:8080/"
        },
        "id": "7xZu6ckGRn_n",
        "outputId": "83098228-d9fa-4819-dd4f-efcf25c133c1"
      },
      "source": [
        "print(s[0:10])"
      ],
      "execution_count": null,
      "outputs": [
        {
          "output_type": "stream",
          "text": [
            "My name is\n"
          ],
          "name": "stdout"
        }
      ]
    },
    {
      "cell_type": "code",
      "metadata": {
        "colab": {
          "base_uri": "https://localhost:8080/"
        },
        "id": "aew6H_BpRqBO",
        "outputId": "aceed462-3ceb-40cc-fbb3-925661c057db"
      },
      "source": [
        "print(s[0:-1])"
      ],
      "execution_count": null,
      "outputs": [
        {
          "output_type": "stream",
          "text": [
            "My name is Hemanth Sa\n"
          ],
          "name": "stdout"
        }
      ]
    },
    {
      "cell_type": "code",
      "metadata": {
        "colab": {
          "base_uri": "https://localhost:8080/"
        },
        "id": "fl4J-rnbRr0N",
        "outputId": "9b8421b8-7220-4b8a-d6c4-0774f359e623"
      },
      "source": [
        "print(s[0:])"
      ],
      "execution_count": null,
      "outputs": [
        {
          "output_type": "stream",
          "text": [
            "My name is Hemanth Sai\n"
          ],
          "name": "stdout"
        }
      ]
    },
    {
      "cell_type": "code",
      "metadata": {
        "colab": {
          "base_uri": "https://localhost:8080/"
        },
        "id": "aeEA_XImRtEp",
        "outputId": "888937dd-d333-475d-8edd-965d5bfb689c"
      },
      "source": [
        "print(s[-1])"
      ],
      "execution_count": null,
      "outputs": [
        {
          "output_type": "stream",
          "text": [
            "i\n"
          ],
          "name": "stdout"
        }
      ]
    },
    {
      "cell_type": "code",
      "metadata": {
        "colab": {
          "base_uri": "https://localhost:8080/"
        },
        "id": "HeevAnbeRvXd",
        "outputId": "f47b7a07-e700-452f-b32d-6a2971424f60"
      },
      "source": [
        "print(s[0:10:2])"
      ],
      "execution_count": null,
      "outputs": [
        {
          "output_type": "stream",
          "text": [
            "M aei\n"
          ],
          "name": "stdout"
        }
      ]
    },
    {
      "cell_type": "code",
      "metadata": {
        "colab": {
          "base_uri": "https://localhost:8080/"
        },
        "id": "w91CCXxSRyLv",
        "outputId": "c7043732-f7d9-4f82-c56b-a8be202734a3"
      },
      "source": [
        "print(s[-1:-3])"
      ],
      "execution_count": null,
      "outputs": [
        {
          "output_type": "stream",
          "text": [
            "\n"
          ],
          "name": "stdout"
        }
      ]
    },
    {
      "cell_type": "code",
      "metadata": {
        "colab": {
          "base_uri": "https://localhost:8080/"
        },
        "id": "IrLYcQqdR-YJ",
        "outputId": "1159afea-b4db-4887-f74d-2f7e83838062"
      },
      "source": [
        "print(s[-3:-1])"
      ],
      "execution_count": null,
      "outputs": [
        {
          "output_type": "stream",
          "text": [
            "Sa\n"
          ],
          "name": "stdout"
        }
      ]
    },
    {
      "cell_type": "code",
      "metadata": {
        "colab": {
          "base_uri": "https://localhost:8080/"
        },
        "id": "2JHylE_dSAv5",
        "outputId": "ed3429a7-9a3d-4519-9023-011f76ec011d"
      },
      "source": [
        "print(s[-3:])"
      ],
      "execution_count": null,
      "outputs": [
        {
          "output_type": "stream",
          "text": [
            "Sai\n"
          ],
          "name": "stdout"
        }
      ]
    },
    {
      "cell_type": "code",
      "metadata": {
        "colab": {
          "base_uri": "https://localhost:8080/",
          "height": 35
        },
        "id": "bfnG63OBSDLL",
        "outputId": "51b7ceba-25f9-43c7-94e7-3a45ec31faad"
      },
      "source": [
        "s[-3]"
      ],
      "execution_count": null,
      "outputs": [
        {
          "output_type": "execute_result",
          "data": {
            "application/vnd.google.colaboratory.intrinsic+json": {
              "type": "string"
            },
            "text/plain": [
              "'S'"
            ]
          },
          "metadata": {
            "tags": []
          },
          "execution_count": 149
        }
      ]
    },
    {
      "cell_type": "code",
      "metadata": {
        "colab": {
          "base_uri": "https://localhost:8080/",
          "height": 35
        },
        "id": "KCpfwiodSYKF",
        "outputId": "10042c78-3434-4763-fae8-f559dd4c4180"
      },
      "source": [
        "s[::]"
      ],
      "execution_count": null,
      "outputs": [
        {
          "output_type": "execute_result",
          "data": {
            "application/vnd.google.colaboratory.intrinsic+json": {
              "type": "string"
            },
            "text/plain": [
              "'My name is Hemanth Sai'"
            ]
          },
          "metadata": {
            "tags": []
          },
          "execution_count": 150
        }
      ]
    },
    {
      "cell_type": "code",
      "metadata": {
        "colab": {
          "base_uri": "https://localhost:8080/"
        },
        "id": "hqVHOYNCSZVS",
        "outputId": "dd073dc3-8bba-4f0f-f486-d1c87be9a770"
      },
      "source": [
        "print(s)\n",
        "print()\n",
        "print(s[::-1])  # string reverse"
      ],
      "execution_count": null,
      "outputs": [
        {
          "output_type": "stream",
          "text": [
            "My name is Hemanth Sai\n",
            "\n",
            "iaS htnameH si eman yM\n"
          ],
          "name": "stdout"
        }
      ]
    },
    {
      "cell_type": "code",
      "metadata": {
        "id": "_BSQW8ecSaxh"
      },
      "source": [
        "name = \"Hemanthsai\""
      ],
      "execution_count": null,
      "outputs": []
    },
    {
      "cell_type": "code",
      "metadata": {
        "colab": {
          "base_uri": "https://localhost:8080/",
          "height": 35
        },
        "id": "2V4zSG3nSpx5",
        "outputId": "e8ed9913-4903-4da5-ccc1-f73f9f15c19f"
      },
      "source": [
        "name.capitalize()"
      ],
      "execution_count": null,
      "outputs": [
        {
          "output_type": "execute_result",
          "data": {
            "application/vnd.google.colaboratory.intrinsic+json": {
              "type": "string"
            },
            "text/plain": [
              "'Hemanthsai'"
            ]
          },
          "metadata": {
            "tags": []
          },
          "execution_count": 158
        }
      ]
    },
    {
      "cell_type": "code",
      "metadata": {
        "colab": {
          "base_uri": "https://localhost:8080/",
          "height": 35
        },
        "id": "eiQ_M3F9Srk0",
        "outputId": "8b3a2234-300a-40a5-fa27-0f419b7069d6"
      },
      "source": [
        "name.upper()"
      ],
      "execution_count": null,
      "outputs": [
        {
          "output_type": "execute_result",
          "data": {
            "application/vnd.google.colaboratory.intrinsic+json": {
              "type": "string"
            },
            "text/plain": [
              "'HEMANTHSAI'"
            ]
          },
          "metadata": {
            "tags": []
          },
          "execution_count": 159
        }
      ]
    },
    {
      "cell_type": "code",
      "metadata": {
        "colab": {
          "base_uri": "https://localhost:8080/",
          "height": 35
        },
        "id": "qFp5ubyPSvYe",
        "outputId": "3b83d7d7-f9d9-4e46-fe7a-58c576cbe2c3"
      },
      "source": [
        "name.lower()"
      ],
      "execution_count": null,
      "outputs": [
        {
          "output_type": "execute_result",
          "data": {
            "application/vnd.google.colaboratory.intrinsic+json": {
              "type": "string"
            },
            "text/plain": [
              "'hemanthsai'"
            ]
          },
          "metadata": {
            "tags": []
          },
          "execution_count": 160
        }
      ]
    },
    {
      "cell_type": "code",
      "metadata": {
        "colab": {
          "base_uri": "https://localhost:8080/"
        },
        "id": "PKrbcQGgSwVZ",
        "outputId": "36fd8e6c-281d-451f-a8f8-e8ef4c01fdc8"
      },
      "source": [
        "len(name)"
      ],
      "execution_count": null,
      "outputs": [
        {
          "output_type": "execute_result",
          "data": {
            "text/plain": [
              "10"
            ]
          },
          "metadata": {
            "tags": []
          },
          "execution_count": 161
        }
      ]
    },
    {
      "cell_type": "code",
      "metadata": {
        "colab": {
          "base_uri": "https://localhost:8080/"
        },
        "id": "-OEA_uzhSyS_",
        "outputId": "37df4f13-25d9-48eb-ec72-315d96c3e2d8"
      },
      "source": [
        "name.istitle()"
      ],
      "execution_count": null,
      "outputs": [
        {
          "output_type": "execute_result",
          "data": {
            "text/plain": [
              "True"
            ]
          },
          "metadata": {
            "tags": []
          },
          "execution_count": 162
        }
      ]
    },
    {
      "cell_type": "code",
      "metadata": {
        "colab": {
          "base_uri": "https://localhost:8080/"
        },
        "id": "7pWZ9ZajS1qW",
        "outputId": "7b8a062e-9c3b-45ec-c2ae-7ebe6e2d84b7"
      },
      "source": [
        "name.isalpha()"
      ],
      "execution_count": null,
      "outputs": [
        {
          "output_type": "execute_result",
          "data": {
            "text/plain": [
              "True"
            ]
          },
          "metadata": {
            "tags": []
          },
          "execution_count": 163
        }
      ]
    },
    {
      "cell_type": "code",
      "metadata": {
        "colab": {
          "base_uri": "https://localhost:8080/"
        },
        "id": "r4zHimbRS6u7",
        "outputId": "34e6c193-eab6-454b-b911-83a40095e2b7"
      },
      "source": [
        "name.isnumeric()"
      ],
      "execution_count": null,
      "outputs": [
        {
          "output_type": "execute_result",
          "data": {
            "text/plain": [
              "False"
            ]
          },
          "metadata": {
            "tags": []
          },
          "execution_count": 164
        }
      ]
    },
    {
      "cell_type": "code",
      "metadata": {
        "colab": {
          "base_uri": "https://localhost:8080/"
        },
        "id": "CaX4-FurS8Wk",
        "outputId": "a92632e0-728d-4602-f166-4d587ef373be"
      },
      "source": [
        "name.isalnum()"
      ],
      "execution_count": null,
      "outputs": [
        {
          "output_type": "execute_result",
          "data": {
            "text/plain": [
              "True"
            ]
          },
          "metadata": {
            "tags": []
          },
          "execution_count": 165
        }
      ]
    },
    {
      "cell_type": "code",
      "metadata": {
        "colab": {
          "base_uri": "https://localhost:8080/"
        },
        "id": "LsfvQKbjS9n_",
        "outputId": "5bbb3f67-8a82-4835-9927-0493755ecb37"
      },
      "source": [
        "name.isdigit()"
      ],
      "execution_count": null,
      "outputs": [
        {
          "output_type": "execute_result",
          "data": {
            "text/plain": [
              "False"
            ]
          },
          "metadata": {
            "tags": []
          },
          "execution_count": 166
        }
      ]
    },
    {
      "cell_type": "code",
      "metadata": {
        "id": "wf0YAW2bTAud"
      },
      "source": [
        "a = '1'"
      ],
      "execution_count": null,
      "outputs": []
    },
    {
      "cell_type": "code",
      "metadata": {
        "colab": {
          "base_uri": "https://localhost:8080/"
        },
        "id": "zOA3ge7GTCif",
        "outputId": "e1ced05e-e70c-4bd7-acb7-d10acd54a0dc"
      },
      "source": [
        "a.isdigit()"
      ],
      "execution_count": null,
      "outputs": [
        {
          "output_type": "execute_result",
          "data": {
            "text/plain": [
              "True"
            ]
          },
          "metadata": {
            "tags": []
          },
          "execution_count": 175
        }
      ]
    },
    {
      "cell_type": "code",
      "metadata": {
        "colab": {
          "base_uri": "https://localhost:8080/"
        },
        "id": "tJpVXdUxTFqY",
        "outputId": "245a56d5-50d4-4629-97e1-4a905076773d"
      },
      "source": [
        "name.startswith('H')"
      ],
      "execution_count": null,
      "outputs": [
        {
          "output_type": "execute_result",
          "data": {
            "text/plain": [
              "True"
            ]
          },
          "metadata": {
            "tags": []
          },
          "execution_count": 176
        }
      ]
    },
    {
      "cell_type": "code",
      "metadata": {
        "colab": {
          "base_uri": "https://localhost:8080/"
        },
        "id": "TWfERkG9TUXI",
        "outputId": "2b183714-3eac-41b9-a157-e5ed8eb715bf"
      },
      "source": [
        "name.startswith(\"Heman\")"
      ],
      "execution_count": null,
      "outputs": [
        {
          "output_type": "execute_result",
          "data": {
            "text/plain": [
              "True"
            ]
          },
          "metadata": {
            "tags": []
          },
          "execution_count": 177
        }
      ]
    },
    {
      "cell_type": "code",
      "metadata": {
        "colab": {
          "base_uri": "https://localhost:8080/"
        },
        "id": "lXVN8JBXTWfK",
        "outputId": "29f99076-4584-44c5-9f47-0b67962855ec"
      },
      "source": [
        "name.startswith(\"s\")"
      ],
      "execution_count": null,
      "outputs": [
        {
          "output_type": "execute_result",
          "data": {
            "text/plain": [
              "False"
            ]
          },
          "metadata": {
            "tags": []
          },
          "execution_count": 178
        }
      ]
    },
    {
      "cell_type": "code",
      "metadata": {
        "colab": {
          "base_uri": "https://localhost:8080/"
        },
        "id": "TPhJKI-HTrXC",
        "outputId": "1e953642-ab80-4f0b-8431-53292a368ac5"
      },
      "source": [
        "name.endswith(\"sai\")"
      ],
      "execution_count": null,
      "outputs": [
        {
          "output_type": "execute_result",
          "data": {
            "text/plain": [
              "True"
            ]
          },
          "metadata": {
            "tags": []
          },
          "execution_count": 179
        }
      ]
    },
    {
      "cell_type": "code",
      "metadata": {
        "colab": {
          "base_uri": "https://localhost:8080/"
        },
        "id": "HbNJSQ6dTuxE",
        "outputId": "9b3a7988-d83e-4a9b-e060-647a9d29a1fc"
      },
      "source": [
        "name.endswith(\"i\")"
      ],
      "execution_count": null,
      "outputs": [
        {
          "output_type": "execute_result",
          "data": {
            "text/plain": [
              "True"
            ]
          },
          "metadata": {
            "tags": []
          },
          "execution_count": 180
        }
      ]
    },
    {
      "cell_type": "code",
      "metadata": {
        "colab": {
          "base_uri": "https://localhost:8080/"
        },
        "id": "4g8y1btjTwTa",
        "outputId": "098077fd-0a07-4c10-f506-6781af479c71"
      },
      "source": [
        "name.endswith(\"\")"
      ],
      "execution_count": null,
      "outputs": [
        {
          "output_type": "execute_result",
          "data": {
            "text/plain": [
              "True"
            ]
          },
          "metadata": {
            "tags": []
          },
          "execution_count": 181
        }
      ]
    },
    {
      "cell_type": "code",
      "metadata": {
        "colab": {
          "base_uri": "https://localhost:8080/"
        },
        "id": "xN2cg27ZTyYI",
        "outputId": "3ca41a59-1337-4c38-e978-02e3d81543f1"
      },
      "source": [
        "name.startswith(\"\")"
      ],
      "execution_count": null,
      "outputs": [
        {
          "output_type": "execute_result",
          "data": {
            "text/plain": [
              "True"
            ]
          },
          "metadata": {
            "tags": []
          },
          "execution_count": 182
        }
      ]
    },
    {
      "cell_type": "code",
      "metadata": {
        "id": "D1u19PBQT05b"
      },
      "source": [
        "s = \"Vidya Jyothi Institute of Technology\""
      ],
      "execution_count": null,
      "outputs": []
    },
    {
      "cell_type": "code",
      "metadata": {
        "colab": {
          "base_uri": "https://localhost:8080/"
        },
        "id": "rxQrNFrBUDAv",
        "outputId": "667fe813-4229-4216-bf55-834c15e9b0b2"
      },
      "source": [
        "s.count(\"V\")"
      ],
      "execution_count": null,
      "outputs": [
        {
          "output_type": "execute_result",
          "data": {
            "text/plain": [
              "1"
            ]
          },
          "metadata": {
            "tags": []
          },
          "execution_count": 184
        }
      ]
    },
    {
      "cell_type": "code",
      "metadata": {
        "colab": {
          "base_uri": "https://localhost:8080/"
        },
        "id": "syHVC95eUE8G",
        "outputId": "254ec6a4-d372-4c9d-cf67-1e25b460ba3d"
      },
      "source": [
        "s.count(\"t\")"
      ],
      "execution_count": null,
      "outputs": [
        {
          "output_type": "execute_result",
          "data": {
            "text/plain": [
              "4"
            ]
          },
          "metadata": {
            "tags": []
          },
          "execution_count": 186
        }
      ]
    },
    {
      "cell_type": "code",
      "metadata": {
        "colab": {
          "base_uri": "https://localhost:8080/"
        },
        "id": "6XMWY5YCUF-z",
        "outputId": "d87241e2-2fd3-4e63-d2f2-3caa63c2b72f"
      },
      "source": [
        "s.count(\"\")"
      ],
      "execution_count": null,
      "outputs": [
        {
          "output_type": "execute_result",
          "data": {
            "text/plain": [
              "37"
            ]
          },
          "metadata": {
            "tags": []
          },
          "execution_count": 187
        }
      ]
    },
    {
      "cell_type": "code",
      "metadata": {
        "colab": {
          "base_uri": "https://localhost:8080/"
        },
        "id": "qoUTbLoKUJRi",
        "outputId": "9e0e1fb8-b94c-4ad6-ef1c-7503520c219f"
      },
      "source": [
        "len(s)"
      ],
      "execution_count": null,
      "outputs": [
        {
          "output_type": "execute_result",
          "data": {
            "text/plain": [
              "36"
            ]
          },
          "metadata": {
            "tags": []
          },
          "execution_count": 188
        }
      ]
    },
    {
      "cell_type": "code",
      "metadata": {
        "colab": {
          "base_uri": "https://localhost:8080/"
        },
        "id": "mRsxNHs3UMUd",
        "outputId": "378ce956-3aef-4071-a119-08bb9717feac"
      },
      "source": [
        "s.count(\" \")"
      ],
      "execution_count": null,
      "outputs": [
        {
          "output_type": "execute_result",
          "data": {
            "text/plain": [
              "4"
            ]
          },
          "metadata": {
            "tags": []
          },
          "execution_count": 189
        }
      ]
    },
    {
      "cell_type": "code",
      "metadata": {
        "colab": {
          "base_uri": "https://localhost:8080/"
        },
        "id": "5_HHZowMUP0w",
        "outputId": "7f5c6a3d-afce-4349-c435-7a7c54c77acd"
      },
      "source": [
        "s.find(\"\")"
      ],
      "execution_count": null,
      "outputs": [
        {
          "output_type": "execute_result",
          "data": {
            "text/plain": [
              "0"
            ]
          },
          "metadata": {
            "tags": []
          },
          "execution_count": 190
        }
      ]
    },
    {
      "cell_type": "code",
      "metadata": {
        "colab": {
          "base_uri": "https://localhost:8080/"
        },
        "id": "bzBvPZP2UWQc",
        "outputId": "e3524813-232c-4bb7-e831-546165e52ce1"
      },
      "source": [
        "s.find(\" \")"
      ],
      "execution_count": null,
      "outputs": [
        {
          "output_type": "execute_result",
          "data": {
            "text/plain": [
              "5"
            ]
          },
          "metadata": {
            "tags": []
          },
          "execution_count": 191
        }
      ]
    },
    {
      "cell_type": "code",
      "metadata": {
        "colab": {
          "base_uri": "https://localhost:8080/"
        },
        "id": "cHpVfIdPUXev",
        "outputId": "5cec31e5-b50e-4c47-e70c-69fc86f0381b"
      },
      "source": [
        "s.find(\"Vidya\")"
      ],
      "execution_count": null,
      "outputs": [
        {
          "output_type": "execute_result",
          "data": {
            "text/plain": [
              "0"
            ]
          },
          "metadata": {
            "tags": []
          },
          "execution_count": 192
        }
      ]
    },
    {
      "cell_type": "code",
      "metadata": {
        "colab": {
          "base_uri": "https://localhost:8080/"
        },
        "id": "JvEMaDyzUYgC",
        "outputId": "30bf3c39-3d65-435f-abf3-dac05db30b21"
      },
      "source": [
        "s.find(\"dya\")"
      ],
      "execution_count": null,
      "outputs": [
        {
          "output_type": "execute_result",
          "data": {
            "text/plain": [
              "2"
            ]
          },
          "metadata": {
            "tags": []
          },
          "execution_count": 193
        }
      ]
    },
    {
      "cell_type": "code",
      "metadata": {
        "colab": {
          "base_uri": "https://localhost:8080/"
        },
        "id": "J0CSWIWMUb1f",
        "outputId": "4c1e9a18-3494-4b26-9c5e-5dfef6857da2"
      },
      "source": [
        "s.rfind(\"Tech\")"
      ],
      "execution_count": null,
      "outputs": [
        {
          "output_type": "execute_result",
          "data": {
            "text/plain": [
              "26"
            ]
          },
          "metadata": {
            "tags": []
          },
          "execution_count": 194
        }
      ]
    },
    {
      "cell_type": "code",
      "metadata": {
        "colab": {
          "base_uri": "https://localhost:8080/"
        },
        "id": "dg6XUChtUeCm",
        "outputId": "fbd27e69-dac7-440a-9b7f-951482b9cec4"
      },
      "source": [
        "s.find(\"Tech\")"
      ],
      "execution_count": null,
      "outputs": [
        {
          "output_type": "execute_result",
          "data": {
            "text/plain": [
              "26"
            ]
          },
          "metadata": {
            "tags": []
          },
          "execution_count": 195
        }
      ]
    },
    {
      "cell_type": "code",
      "metadata": {
        "colab": {
          "base_uri": "https://localhost:8080/",
          "height": 35
        },
        "id": "U411THpCUik1",
        "outputId": "ffe16780-bb59-42fe-abc6-62912c805578"
      },
      "source": [
        "s"
      ],
      "execution_count": null,
      "outputs": [
        {
          "output_type": "execute_result",
          "data": {
            "application/vnd.google.colaboratory.intrinsic+json": {
              "type": "string"
            },
            "text/plain": [
              "'Vidya Jyothi Institute of Technology'"
            ]
          },
          "metadata": {
            "tags": []
          },
          "execution_count": 197
        }
      ]
    },
    {
      "cell_type": "code",
      "metadata": {
        "colab": {
          "base_uri": "https://localhost:8080/",
          "height": 35
        },
        "id": "kptwU-ejUqbe",
        "outputId": "7e499a78-d055-409e-d27e-e32e1058b222"
      },
      "source": [
        "s.replace(\"Technology\",\"Tech\")"
      ],
      "execution_count": null,
      "outputs": [
        {
          "output_type": "execute_result",
          "data": {
            "application/vnd.google.colaboratory.intrinsic+json": {
              "type": "string"
            },
            "text/plain": [
              "'Vidya Jyothi Institute of Tech'"
            ]
          },
          "metadata": {
            "tags": []
          },
          "execution_count": 198
        }
      ]
    },
    {
      "cell_type": "code",
      "metadata": {
        "colab": {
          "base_uri": "https://localhost:8080/"
        },
        "id": "T-_LRZp_UyBW",
        "outputId": "8c718d13-181a-48a8-8493-844755dff461"
      },
      "source": [
        "s.split()"
      ],
      "execution_count": null,
      "outputs": [
        {
          "output_type": "execute_result",
          "data": {
            "text/plain": [
              "['Vidya', 'Jyothi', 'Institute', 'of', 'Technology']"
            ]
          },
          "metadata": {
            "tags": []
          },
          "execution_count": 199
        }
      ]
    },
    {
      "cell_type": "code",
      "metadata": {
        "colab": {
          "base_uri": "https://localhost:8080/"
        },
        "id": "GkY00ykrVGhh",
        "outputId": "ed3ef477-963e-407b-95e8-b0456afff3c4"
      },
      "source": [
        "s.split(\" \")"
      ],
      "execution_count": null,
      "outputs": [
        {
          "output_type": "execute_result",
          "data": {
            "text/plain": [
              "['Vidya', 'Jyothi', 'Institute', 'of', 'Technology']"
            ]
          },
          "metadata": {
            "tags": []
          },
          "execution_count": 200
        }
      ]
    },
    {
      "cell_type": "code",
      "metadata": {
        "colab": {
          "base_uri": "https://localhost:8080/"
        },
        "id": "5R2z_kuAVH9x",
        "outputId": "2691d99b-03bc-4325-c0ac-bf0abb50dba3"
      },
      "source": [
        "s.split(\"t\")"
      ],
      "execution_count": null,
      "outputs": [
        {
          "output_type": "execute_result",
          "data": {
            "text/plain": [
              "['Vidya Jyo', 'hi Ins', 'i', 'u', 'e of Technology']"
            ]
          },
          "metadata": {
            "tags": []
          },
          "execution_count": 201
        }
      ]
    },
    {
      "cell_type": "code",
      "metadata": {
        "colab": {
          "base_uri": "https://localhost:8080/"
        },
        "id": "R9xykziDVJbw",
        "outputId": "c93d4c54-2f87-44f0-f4eb-30eb6bd04f11"
      },
      "source": [
        "s.split(\"In\")"
      ],
      "execution_count": null,
      "outputs": [
        {
          "output_type": "execute_result",
          "data": {
            "text/plain": [
              "['Vidya Jyothi ', 'stitute of Technology']"
            ]
          },
          "metadata": {
            "tags": []
          },
          "execution_count": 203
        }
      ]
    },
    {
      "cell_type": "code",
      "metadata": {
        "colab": {
          "base_uri": "https://localhost:8080/",
          "height": 35
        },
        "id": "0mlQX916VNC6",
        "outputId": "b373638d-df75-4452-b718-ae769e559649"
      },
      "source": [
        "s.strip()"
      ],
      "execution_count": null,
      "outputs": [
        {
          "output_type": "execute_result",
          "data": {
            "application/vnd.google.colaboratory.intrinsic+json": {
              "type": "string"
            },
            "text/plain": [
              "'Vidya Jyothi Institute of Technology'"
            ]
          },
          "metadata": {
            "tags": []
          },
          "execution_count": 204
        }
      ]
    },
    {
      "cell_type": "code",
      "metadata": {
        "id": "EJTf6UmMVaPR"
      },
      "source": [
        "st = \"             Vidya Jyothi Institute of Technology                \""
      ],
      "execution_count": null,
      "outputs": []
    },
    {
      "cell_type": "code",
      "metadata": {
        "colab": {
          "base_uri": "https://localhost:8080/",
          "height": 35
        },
        "id": "deLhExG1VhTF",
        "outputId": "6600e5fc-338c-417a-e08c-7ca56c5a5fe1"
      },
      "source": [
        "st.strip()"
      ],
      "execution_count": null,
      "outputs": [
        {
          "output_type": "execute_result",
          "data": {
            "application/vnd.google.colaboratory.intrinsic+json": {
              "type": "string"
            },
            "text/plain": [
              "'Vidya Jyothi Institute of Technology'"
            ]
          },
          "metadata": {
            "tags": []
          },
          "execution_count": 206
        }
      ]
    },
    {
      "cell_type": "code",
      "metadata": {
        "colab": {
          "base_uri": "https://localhost:8080/",
          "height": 35
        },
        "id": "eBOgsMr4ViTi",
        "outputId": "96d28017-9491-4ca0-fe03-99e2c12775b3"
      },
      "source": [
        "st.rstrip()"
      ],
      "execution_count": null,
      "outputs": [
        {
          "output_type": "execute_result",
          "data": {
            "application/vnd.google.colaboratory.intrinsic+json": {
              "type": "string"
            },
            "text/plain": [
              "'             Vidya Jyothi Institute of Technology'"
            ]
          },
          "metadata": {
            "tags": []
          },
          "execution_count": 207
        }
      ]
    },
    {
      "cell_type": "code",
      "metadata": {
        "colab": {
          "base_uri": "https://localhost:8080/",
          "height": 35
        },
        "id": "Th5ct-3GVjVZ",
        "outputId": "52abe09b-a33b-4555-aa51-2d4e3cb7c93e"
      },
      "source": [
        "st.lstrip()"
      ],
      "execution_count": null,
      "outputs": [
        {
          "output_type": "execute_result",
          "data": {
            "application/vnd.google.colaboratory.intrinsic+json": {
              "type": "string"
            },
            "text/plain": [
              "'Vidya Jyothi Institute of Technology                '"
            ]
          },
          "metadata": {
            "tags": []
          },
          "execution_count": 208
        }
      ]
    },
    {
      "cell_type": "code",
      "metadata": {
        "colab": {
          "base_uri": "https://localhost:8080/"
        },
        "id": "VHb38ETGVkjo",
        "outputId": "38e66a7c-8a49-4367-cb13-c8238c6d3d26"
      },
      "source": [
        "st.count(\" \")"
      ],
      "execution_count": null,
      "outputs": [
        {
          "output_type": "execute_result",
          "data": {
            "text/plain": [
              "33"
            ]
          },
          "metadata": {
            "tags": []
          },
          "execution_count": 209
        }
      ]
    },
    {
      "cell_type": "code",
      "metadata": {
        "colab": {
          "base_uri": "https://localhost:8080/",
          "height": 35
        },
        "id": "IH9EtnPNVupu",
        "outputId": "8ebb4d98-d4d4-4fc9-921c-66625ac7690e"
      },
      "source": [
        "s"
      ],
      "execution_count": null,
      "outputs": [
        {
          "output_type": "execute_result",
          "data": {
            "application/vnd.google.colaboratory.intrinsic+json": {
              "type": "string"
            },
            "text/plain": [
              "'Vidya Jyothi Institute of Technology'"
            ]
          },
          "metadata": {
            "tags": []
          },
          "execution_count": 210
        }
      ]
    },
    {
      "cell_type": "code",
      "metadata": {
        "colab": {
          "base_uri": "https://localhost:8080/"
        },
        "id": "vbWfkLETVzUe",
        "outputId": "09d539b2-8fbb-4c7c-f7ab-dee679512f67"
      },
      "source": [
        "s.index(\"Tech\")"
      ],
      "execution_count": null,
      "outputs": [
        {
          "output_type": "execute_result",
          "data": {
            "text/plain": [
              "26"
            ]
          },
          "metadata": {
            "tags": []
          },
          "execution_count": 211
        }
      ]
    },
    {
      "cell_type": "code",
      "metadata": {
        "colab": {
          "base_uri": "https://localhost:8080/"
        },
        "id": "MwKfhKMqV-7c",
        "outputId": "d45f4e1f-30c6-479c-e116-e97ff8891c19"
      },
      "source": [
        "s.find(\"Tech\")"
      ],
      "execution_count": null,
      "outputs": [
        {
          "output_type": "execute_result",
          "data": {
            "text/plain": [
              "26"
            ]
          },
          "metadata": {
            "tags": []
          },
          "execution_count": 212
        }
      ]
    },
    {
      "cell_type": "code",
      "metadata": {
        "colab": {
          "base_uri": "https://localhost:8080/"
        },
        "id": "S_d4xWf8WAps",
        "outputId": "e6458657-3676-4c89-d1f7-78b88ee9ce89"
      },
      "source": [
        "s.isalnum()"
      ],
      "execution_count": null,
      "outputs": [
        {
          "output_type": "execute_result",
          "data": {
            "text/plain": [
              "False"
            ]
          },
          "metadata": {
            "tags": []
          },
          "execution_count": 213
        }
      ]
    },
    {
      "cell_type": "code",
      "metadata": {
        "id": "ou0tqxf-WD9W"
      },
      "source": [
        "a = \"   \""
      ],
      "execution_count": null,
      "outputs": []
    },
    {
      "cell_type": "code",
      "metadata": {
        "colab": {
          "base_uri": "https://localhost:8080/"
        },
        "id": "ix3zeiBHWHxf",
        "outputId": "2819ce5a-7cb3-4e18-9922-d548df114e75"
      },
      "source": [
        "a.isspace()"
      ],
      "execution_count": null,
      "outputs": [
        {
          "output_type": "execute_result",
          "data": {
            "text/plain": [
              "True"
            ]
          },
          "metadata": {
            "tags": []
          },
          "execution_count": 216
        }
      ]
    },
    {
      "cell_type": "code",
      "metadata": {
        "colab": {
          "base_uri": "https://localhost:8080/"
        },
        "id": "x6qKQSxHWI3_",
        "outputId": "bdfd4dff-0180-4782-f2aa-6d3668b44134"
      },
      "source": [
        "a=\"Hemanth\"\n",
        "b=\"Sai\"\n",
        "print(''.join((a,b)))"
      ],
      "execution_count": null,
      "outputs": [
        {
          "output_type": "stream",
          "text": [
            "HemanthSai\n"
          ],
          "name": "stdout"
        }
      ]
    },
    {
      "cell_type": "code",
      "metadata": {
        "colab": {
          "base_uri": "https://localhost:8080/"
        },
        "id": "wthpiu--WdoG",
        "outputId": "fcae1afe-00a0-4595-83d1-c4573ad20166"
      },
      "source": [
        "print('---------'.join((a,b)))"
      ],
      "execution_count": null,
      "outputs": [
        {
          "output_type": "stream",
          "text": [
            "Hemanth---------Sai\n"
          ],
          "name": "stdout"
        }
      ]
    },
    {
      "cell_type": "code",
      "metadata": {
        "colab": {
          "base_uri": "https://localhost:8080/",
          "height": 35
        },
        "id": "PSx4q5HcWisg",
        "outputId": "be9be039-1d34-4ab2-930c-ea5f99644681"
      },
      "source": [
        "s"
      ],
      "execution_count": null,
      "outputs": [
        {
          "output_type": "execute_result",
          "data": {
            "application/vnd.google.colaboratory.intrinsic+json": {
              "type": "string"
            },
            "text/plain": [
              "'Vidya Jyothi Institute of Technology'"
            ]
          },
          "metadata": {
            "tags": []
          },
          "execution_count": 221
        }
      ]
    },
    {
      "cell_type": "code",
      "metadata": {
        "colab": {
          "base_uri": "https://localhost:8080/"
        },
        "id": "BmMxccXmWq-i",
        "outputId": "5b904bff-ea4f-4322-b37e-96b2eb0d1f1f"
      },
      "source": [
        "s.partition(\"Institute\")"
      ],
      "execution_count": null,
      "outputs": [
        {
          "output_type": "execute_result",
          "data": {
            "text/plain": [
              "('Vidya Jyothi ', 'Institute', ' of Technology')"
            ]
          },
          "metadata": {
            "tags": []
          },
          "execution_count": 222
        }
      ]
    },
    {
      "cell_type": "code",
      "metadata": {
        "id": "Rmn4g-7vWvQW"
      },
      "source": [
        "a = \"Hemanthsai\""
      ],
      "execution_count": null,
      "outputs": []
    },
    {
      "cell_type": "code",
      "metadata": {
        "colab": {
          "base_uri": "https://localhost:8080/",
          "height": 35
        },
        "id": "uJogcoVjXAAd",
        "outputId": "6f58e660-19e9-4985-f0b4-ff9f6ddcaf95"
      },
      "source": [
        "a.zfill(30)"
      ],
      "execution_count": null,
      "outputs": [
        {
          "output_type": "execute_result",
          "data": {
            "application/vnd.google.colaboratory.intrinsic+json": {
              "type": "string"
            },
            "text/plain": [
              "'00000000000000000000Hemanthsai'"
            ]
          },
          "metadata": {
            "tags": []
          },
          "execution_count": 224
        }
      ]
    },
    {
      "cell_type": "code",
      "metadata": {
        "id": "RGgSF-aBXB4p"
      },
      "source": [
        ""
      ],
      "execution_count": null,
      "outputs": []
    },
    {
      "cell_type": "markdown",
      "metadata": {
        "id": "_bSRfaorXHyw"
      },
      "source": [
        "#Lists"
      ]
    },
    {
      "cell_type": "code",
      "metadata": {
        "id": "7k0c21bPXJfa"
      },
      "source": [
        "my_list = []"
      ],
      "execution_count": null,
      "outputs": []
    },
    {
      "cell_type": "code",
      "metadata": {
        "colab": {
          "base_uri": "https://localhost:8080/"
        },
        "id": "09mRQeimXRBz",
        "outputId": "edfd6876-5e9b-42e4-ed4b-bc5f3758af76"
      },
      "source": [
        "print(my_list)"
      ],
      "execution_count": null,
      "outputs": [
        {
          "output_type": "stream",
          "text": [
            "[]\n"
          ],
          "name": "stdout"
        }
      ]
    },
    {
      "cell_type": "code",
      "metadata": {
        "id": "EoWlz6VqXSBB"
      },
      "source": [
        "my_list = [10,20,30,\"Hemanthsai\"]"
      ],
      "execution_count": null,
      "outputs": []
    },
    {
      "cell_type": "code",
      "metadata": {
        "colab": {
          "base_uri": "https://localhost:8080/"
        },
        "id": "gCi7cDHrXW-Q",
        "outputId": "db90ac99-6efd-404e-f014-4e2b9249b89c"
      },
      "source": [
        "print(my_list)"
      ],
      "execution_count": null,
      "outputs": [
        {
          "output_type": "stream",
          "text": [
            "[10, 20, 30, 'Hemanthsai']\n"
          ],
          "name": "stdout"
        }
      ]
    },
    {
      "cell_type": "code",
      "metadata": {
        "colab": {
          "base_uri": "https://localhost:8080/"
        },
        "id": "9nP6eZHIXYOV",
        "outputId": "2f6f348e-0552-42c8-a818-b40a9bec3e4b"
      },
      "source": [
        "len(my_list)"
      ],
      "execution_count": null,
      "outputs": [
        {
          "output_type": "execute_result",
          "data": {
            "text/plain": [
              "4"
            ]
          },
          "metadata": {
            "tags": []
          },
          "execution_count": 229
        }
      ]
    },
    {
      "cell_type": "code",
      "metadata": {
        "id": "l2RdZiX4Xcrp"
      },
      "source": [
        "n_list = ['Hemanth',[40,34,645,23,3],\"Sai\"]"
      ],
      "execution_count": null,
      "outputs": []
    },
    {
      "cell_type": "code",
      "metadata": {
        "colab": {
          "base_uri": "https://localhost:8080/"
        },
        "id": "MxeT-UTXXmB9",
        "outputId": "0c8e04fe-d3a4-4271-cba7-e902b0cae2dc"
      },
      "source": [
        "print(n_list)"
      ],
      "execution_count": null,
      "outputs": [
        {
          "output_type": "stream",
          "text": [
            "['Hemanth', [40, 34, 645, 23, 3], 'Sai']\n"
          ],
          "name": "stdout"
        }
      ]
    },
    {
      "cell_type": "code",
      "metadata": {
        "colab": {
          "base_uri": "https://localhost:8080/"
        },
        "id": "F0AIMlzCXnBF",
        "outputId": "5d58ac72-32d1-4507-f8dc-39801eb379be"
      },
      "source": [
        "print(n_list[0])\n",
        "print(n_list[1])\n",
        "print(n_list[2])"
      ],
      "execution_count": null,
      "outputs": [
        {
          "output_type": "stream",
          "text": [
            "Hemanth\n",
            "[40, 34, 645, 23, 3]\n",
            "Sai\n"
          ],
          "name": "stdout"
        }
      ]
    },
    {
      "cell_type": "code",
      "metadata": {
        "colab": {
          "base_uri": "https://localhost:8080/"
        },
        "id": "Gs9D5t6xXyVZ",
        "outputId": "f3359c7c-01a1-457d-9a2c-c5048df6ce2f"
      },
      "source": [
        "print(n_list[0][3])"
      ],
      "execution_count": null,
      "outputs": [
        {
          "output_type": "stream",
          "text": [
            "a\n"
          ],
          "name": "stdout"
        }
      ]
    },
    {
      "cell_type": "code",
      "metadata": {
        "colab": {
          "base_uri": "https://localhost:8080/"
        },
        "id": "mmafRjPzX2g1",
        "outputId": "f0439867-1c13-4eb4-e3ed-a634f01e74eb"
      },
      "source": [
        "print(n_list[1])"
      ],
      "execution_count": null,
      "outputs": [
        {
          "output_type": "stream",
          "text": [
            "[40, 34, 645, 23, 3]\n"
          ],
          "name": "stdout"
        }
      ]
    },
    {
      "cell_type": "code",
      "metadata": {
        "colab": {
          "base_uri": "https://localhost:8080/"
        },
        "id": "1bq7wogSX5pt",
        "outputId": "43b0b41a-8f43-4798-c09b-e71651b9287f"
      },
      "source": [
        "print(n_list[1][0])"
      ],
      "execution_count": null,
      "outputs": [
        {
          "output_type": "stream",
          "text": [
            "40\n"
          ],
          "name": "stdout"
        }
      ]
    },
    {
      "cell_type": "code",
      "metadata": {
        "id": "1N7obhl1X7pK"
      },
      "source": [
        "lst = [1,2,3,4,5,6,7,8,9,10]"
      ],
      "execution_count": null,
      "outputs": []
    },
    {
      "cell_type": "code",
      "metadata": {
        "colab": {
          "base_uri": "https://localhost:8080/"
        },
        "id": "qkItO4rGYKVb",
        "outputId": "efacebf0-f87e-4ab0-b041-696b499a54ba"
      },
      "source": [
        "print(len(lst))"
      ],
      "execution_count": null,
      "outputs": [
        {
          "output_type": "stream",
          "text": [
            "10\n"
          ],
          "name": "stdout"
        }
      ]
    },
    {
      "cell_type": "code",
      "metadata": {
        "colab": {
          "base_uri": "https://localhost:8080/"
        },
        "id": "vqjKbc89YLAp",
        "outputId": "27f9d9a1-c0b9-46e0-ac28-584862cb058c"
      },
      "source": [
        "lst[-1]"
      ],
      "execution_count": null,
      "outputs": [
        {
          "output_type": "execute_result",
          "data": {
            "text/plain": [
              "10"
            ]
          },
          "metadata": {
            "tags": []
          },
          "execution_count": 240
        }
      ]
    },
    {
      "cell_type": "code",
      "metadata": {
        "colab": {
          "base_uri": "https://localhost:8080/"
        },
        "id": "lyl_gENkYNh5",
        "outputId": "064bb624-351e-4165-9294-f5946c747a4f"
      },
      "source": [
        "lst[0:10]"
      ],
      "execution_count": null,
      "outputs": [
        {
          "output_type": "execute_result",
          "data": {
            "text/plain": [
              "[1, 2, 3, 4, 5, 6, 7, 8, 9, 10]"
            ]
          },
          "metadata": {
            "tags": []
          },
          "execution_count": 241
        }
      ]
    },
    {
      "cell_type": "code",
      "metadata": {
        "colab": {
          "base_uri": "https://localhost:8080/"
        },
        "id": "_-lXUPItYQrr",
        "outputId": "c3563140-9a49-4de8-a68c-06d6ba60ae1e"
      },
      "source": [
        "lst[0:]"
      ],
      "execution_count": null,
      "outputs": [
        {
          "output_type": "execute_result",
          "data": {
            "text/plain": [
              "[1, 2, 3, 4, 5, 6, 7, 8, 9, 10]"
            ]
          },
          "metadata": {
            "tags": []
          },
          "execution_count": 242
        }
      ]
    },
    {
      "cell_type": "code",
      "metadata": {
        "colab": {
          "base_uri": "https://localhost:8080/"
        },
        "id": "gvT5k129YRsV",
        "outputId": "538d59e6-1dc6-4b14-9195-44bdfc8ec2ce"
      },
      "source": [
        "lst[:]"
      ],
      "execution_count": null,
      "outputs": [
        {
          "output_type": "execute_result",
          "data": {
            "text/plain": [
              "[1, 2, 3, 4, 5, 6, 7, 8, 9, 10]"
            ]
          },
          "metadata": {
            "tags": []
          },
          "execution_count": 243
        }
      ]
    },
    {
      "cell_type": "code",
      "metadata": {
        "colab": {
          "base_uri": "https://localhost:8080/"
        },
        "id": "DERNchYLYSTJ",
        "outputId": "8788c144-6fff-4f52-fcb7-843b33b18d44"
      },
      "source": [
        "lst[:-1]"
      ],
      "execution_count": null,
      "outputs": [
        {
          "output_type": "execute_result",
          "data": {
            "text/plain": [
              "[1, 2, 3, 4, 5, 6, 7, 8, 9]"
            ]
          },
          "metadata": {
            "tags": []
          },
          "execution_count": 244
        }
      ]
    },
    {
      "cell_type": "code",
      "metadata": {
        "colab": {
          "base_uri": "https://localhost:8080/"
        },
        "id": "TzzpObKzYTIO",
        "outputId": "db6f6251-5ec8-4800-c035-6f5940ed3f21"
      },
      "source": [
        "lst[-1]"
      ],
      "execution_count": null,
      "outputs": [
        {
          "output_type": "execute_result",
          "data": {
            "text/plain": [
              "10"
            ]
          },
          "metadata": {
            "tags": []
          },
          "execution_count": 245
        }
      ]
    },
    {
      "cell_type": "code",
      "metadata": {
        "colab": {
          "base_uri": "https://localhost:8080/"
        },
        "id": "huv7mKBZYTp8",
        "outputId": "585d95dd-7608-45e0-9d7c-9789bf8cd49a"
      },
      "source": [
        "lst[::]"
      ],
      "execution_count": null,
      "outputs": [
        {
          "output_type": "execute_result",
          "data": {
            "text/plain": [
              "[1, 2, 3, 4, 5, 6, 7, 8, 9, 10]"
            ]
          },
          "metadata": {
            "tags": []
          },
          "execution_count": 246
        }
      ]
    },
    {
      "cell_type": "code",
      "metadata": {
        "colab": {
          "base_uri": "https://localhost:8080/"
        },
        "id": "uRqWlFPuYUir",
        "outputId": "ac80a4bc-61b8-4dcb-fce1-3e7b9edb86bd"
      },
      "source": [
        "lst[0:8:2]"
      ],
      "execution_count": null,
      "outputs": [
        {
          "output_type": "execute_result",
          "data": {
            "text/plain": [
              "[1, 3, 5, 7]"
            ]
          },
          "metadata": {
            "tags": []
          },
          "execution_count": 247
        }
      ]
    },
    {
      "cell_type": "code",
      "metadata": {
        "colab": {
          "base_uri": "https://localhost:8080/"
        },
        "id": "B_HMN_umYWLq",
        "outputId": "2894494c-31d1-468c-f00b-8a631d5bf526"
      },
      "source": [
        "lst[::-1] #reverse of a list"
      ],
      "execution_count": null,
      "outputs": [
        {
          "output_type": "execute_result",
          "data": {
            "text/plain": [
              "[10, 9, 8, 7, 6, 5, 4, 3, 2, 1]"
            ]
          },
          "metadata": {
            "tags": []
          },
          "execution_count": 249
        }
      ]
    },
    {
      "cell_type": "code",
      "metadata": {
        "id": "oLPZ3IIqYXOo"
      },
      "source": [
        "lst = ['jan','feb','mar']"
      ],
      "execution_count": null,
      "outputs": []
    },
    {
      "cell_type": "code",
      "metadata": {
        "id": "APRdHWQMYo8r"
      },
      "source": [
        "lst.append('apr')"
      ],
      "execution_count": null,
      "outputs": []
    },
    {
      "cell_type": "code",
      "metadata": {
        "colab": {
          "base_uri": "https://localhost:8080/"
        },
        "id": "Rld--f0VYrXR",
        "outputId": "0e4a46ba-5b41-4fd2-dccc-43d1eebc781f"
      },
      "source": [
        "print(lst)"
      ],
      "execution_count": null,
      "outputs": [
        {
          "output_type": "stream",
          "text": [
            "['jan', 'feb', 'mar', 'apr']\n"
          ],
          "name": "stdout"
        }
      ]
    },
    {
      "cell_type": "code",
      "metadata": {
        "id": "VDR3a2VmYs9x"
      },
      "source": [
        "lst.insert(4,'may')"
      ],
      "execution_count": null,
      "outputs": []
    },
    {
      "cell_type": "code",
      "metadata": {
        "colab": {
          "base_uri": "https://localhost:8080/"
        },
        "id": "6vBgZwttYwhJ",
        "outputId": "df1efcfd-216f-49c7-92d4-a61614caa8c3"
      },
      "source": [
        "lst"
      ],
      "execution_count": null,
      "outputs": [
        {
          "output_type": "execute_result",
          "data": {
            "text/plain": [
              "['jan', 'feb', 'mar', 'apr', 'may']"
            ]
          },
          "metadata": {
            "tags": []
          },
          "execution_count": 255
        }
      ]
    },
    {
      "cell_type": "code",
      "metadata": {
        "id": "mhnnBIg_Y0Ep"
      },
      "source": [
        "lst.append(lst)"
      ],
      "execution_count": null,
      "outputs": []
    },
    {
      "cell_type": "code",
      "metadata": {
        "colab": {
          "base_uri": "https://localhost:8080/"
        },
        "id": "wcj1WogWY3xD",
        "outputId": "a5396b8d-0bab-4163-bdc3-5cf808fe30f7"
      },
      "source": [
        "lst"
      ],
      "execution_count": null,
      "outputs": [
        {
          "output_type": "execute_result",
          "data": {
            "text/plain": [
              "['jan', 'feb', 'mar', 'apr', 'may', [...]]"
            ]
          },
          "metadata": {
            "tags": []
          },
          "execution_count": 257
        }
      ]
    },
    {
      "cell_type": "code",
      "metadata": {
        "colab": {
          "base_uri": "https://localhost:8080/"
        },
        "id": "XTggCKOGY4CN",
        "outputId": "4b7d02e0-c098-40ac-e3b0-30f651bf8059"
      },
      "source": [
        "lst"
      ],
      "execution_count": null,
      "outputs": [
        {
          "output_type": "execute_result",
          "data": {
            "text/plain": [
              "['jan', 'feb', 'mar', 'apr', 'may', [...]]"
            ]
          },
          "metadata": {
            "tags": []
          },
          "execution_count": 258
        }
      ]
    },
    {
      "cell_type": "code",
      "metadata": {
        "colab": {
          "base_uri": "https://localhost:8080/"
        },
        "id": "Hz-NnuofY8aY",
        "outputId": "2dc18ecb-b2ed-4f33-e5a3-82d98d956155"
      },
      "source": [
        "lst[-1]"
      ],
      "execution_count": null,
      "outputs": [
        {
          "output_type": "execute_result",
          "data": {
            "text/plain": [
              "['jan', 'feb', 'mar', 'apr', 'may', [...]]"
            ]
          },
          "metadata": {
            "tags": []
          },
          "execution_count": 259
        }
      ]
    },
    {
      "cell_type": "code",
      "metadata": {
        "colab": {
          "base_uri": "https://localhost:8080/"
        },
        "id": "T6poW6fcY9zV",
        "outputId": "4510f04b-e0a9-440f-cefd-e34169376cdb"
      },
      "source": [
        "lst[-1][-1][-1][-1][-1]"
      ],
      "execution_count": null,
      "outputs": [
        {
          "output_type": "execute_result",
          "data": {
            "text/plain": [
              "['jan', 'feb', 'mar', 'apr', 'may', [...]]"
            ]
          },
          "metadata": {
            "tags": []
          },
          "execution_count": 261
        }
      ]
    },
    {
      "cell_type": "code",
      "metadata": {
        "id": "JmquFtcsZBSi"
      },
      "source": [
        "lst = ['jan','feb','mar','apr']"
      ],
      "execution_count": null,
      "outputs": []
    },
    {
      "cell_type": "code",
      "metadata": {
        "colab": {
          "base_uri": "https://localhost:8080/"
        },
        "id": "uLqRvV7cZKiP",
        "outputId": "34b1e805-dd89-4252-9d5f-c614c16b972a"
      },
      "source": [
        "lst"
      ],
      "execution_count": null,
      "outputs": [
        {
          "output_type": "execute_result",
          "data": {
            "text/plain": [
              "['jan', 'feb', 'mar', 'apr']"
            ]
          },
          "metadata": {
            "tags": []
          },
          "execution_count": 263
        }
      ]
    },
    {
      "cell_type": "code",
      "metadata": {
        "id": "09vtpGluZK2E"
      },
      "source": [
        "lst.extend(lst)"
      ],
      "execution_count": null,
      "outputs": []
    },
    {
      "cell_type": "code",
      "metadata": {
        "colab": {
          "base_uri": "https://localhost:8080/"
        },
        "id": "JxV6J-HrZN4I",
        "outputId": "a5815844-c324-4722-d767-7fb4b8e27edd"
      },
      "source": [
        "lst"
      ],
      "execution_count": null,
      "outputs": [
        {
          "output_type": "execute_result",
          "data": {
            "text/plain": [
              "['jan', 'feb', 'mar', 'apr', 'jan', 'feb', 'mar', 'apr']"
            ]
          },
          "metadata": {
            "tags": []
          },
          "execution_count": 265
        }
      ]
    },
    {
      "cell_type": "code",
      "metadata": {
        "id": "Ol7I-J70ZOQw"
      },
      "source": [
        "a = [1]\n",
        "a.append(a)"
      ],
      "execution_count": null,
      "outputs": []
    },
    {
      "cell_type": "code",
      "metadata": {
        "colab": {
          "base_uri": "https://localhost:8080/"
        },
        "id": "C50_Knt9ZTkq",
        "outputId": "214f872a-dbd9-4e9e-ef99-f3e76b90a258"
      },
      "source": [
        "a"
      ],
      "execution_count": null,
      "outputs": [
        {
          "output_type": "execute_result",
          "data": {
            "text/plain": [
              "[1, [...]]"
            ]
          },
          "metadata": {
            "tags": []
          },
          "execution_count": 267
        }
      ]
    },
    {
      "cell_type": "code",
      "metadata": {
        "colab": {
          "base_uri": "https://localhost:8080/"
        },
        "id": "faOLciMQakTn",
        "outputId": "b9a74b8d-17db-4588-81de-33220cb083de"
      },
      "source": [
        "a[-1]"
      ],
      "execution_count": null,
      "outputs": [
        {
          "output_type": "execute_result",
          "data": {
            "text/plain": [
              "[1, [...]]"
            ]
          },
          "metadata": {
            "tags": []
          },
          "execution_count": 275
        }
      ]
    },
    {
      "cell_type": "code",
      "metadata": {
        "colab": {
          "base_uri": "https://localhost:8080/"
        },
        "id": "Jnlw9tRkamk2",
        "outputId": "8e45b0d7-7fc4-465b-961d-4eaa7b5701ce"
      },
      "source": [
        "a[-1][-1]"
      ],
      "execution_count": null,
      "outputs": [
        {
          "output_type": "execute_result",
          "data": {
            "text/plain": [
              "[1, [...]]"
            ]
          },
          "metadata": {
            "tags": []
          },
          "execution_count": 276
        }
      ]
    },
    {
      "cell_type": "code",
      "metadata": {
        "colab": {
          "base_uri": "https://localhost:8080/"
        },
        "id": "QRqGFTX7aouB",
        "outputId": "e86611d2-5ef1-478c-9371-1f01285e6d9f"
      },
      "source": [
        "a[-1][-1][-1]"
      ],
      "execution_count": null,
      "outputs": [
        {
          "output_type": "execute_result",
          "data": {
            "text/plain": [
              "[1, [...]]"
            ]
          },
          "metadata": {
            "tags": []
          },
          "execution_count": 277
        }
      ]
    },
    {
      "cell_type": "code",
      "metadata": {
        "colab": {
          "base_uri": "https://localhost:8080/"
        },
        "id": "RVJFRu3uZUOb",
        "outputId": "213bd4dd-8203-45eb-c211-3e75a9e80585"
      },
      "source": [
        "a[-1][-1][-1][-1]"
      ],
      "execution_count": null,
      "outputs": [
        {
          "output_type": "execute_result",
          "data": {
            "text/plain": [
              "[1, [...]]"
            ]
          },
          "metadata": {
            "tags": []
          },
          "execution_count": 270
        }
      ]
    },
    {
      "cell_type": "code",
      "metadata": {
        "colab": {
          "base_uri": "https://localhost:8080/"
        },
        "id": "6mkq1XRsarMq",
        "outputId": "96c4c3f8-948a-4c65-bb6b-1e08b2dffcd2"
      },
      "source": [
        "a[-1][-1][-1][-1][-1][-1][-1]"
      ],
      "execution_count": null,
      "outputs": [
        {
          "output_type": "execute_result",
          "data": {
            "text/plain": [
              "[1, [...]]"
            ]
          },
          "metadata": {
            "tags": []
          },
          "execution_count": 278
        }
      ]
    },
    {
      "cell_type": "code",
      "metadata": {
        "id": "jzoWDmICZXM_"
      },
      "source": [
        "A = ['rohan','riyaz',\"Supreeth\"]"
      ],
      "execution_count": null,
      "outputs": []
    },
    {
      "cell_type": "code",
      "metadata": {
        "id": "sjO55rf0aSod"
      },
      "source": [
        "A.append(\"Hemanth\")"
      ],
      "execution_count": null,
      "outputs": []
    },
    {
      "cell_type": "code",
      "metadata": {
        "colab": {
          "base_uri": "https://localhost:8080/"
        },
        "id": "aorFedwuaUWu",
        "outputId": "cda495b8-142a-4436-aa60-9ed918a6ffea"
      },
      "source": [
        "A"
      ],
      "execution_count": null,
      "outputs": [
        {
          "output_type": "execute_result",
          "data": {
            "text/plain": [
              "['rohan', 'riyaz', 'Supreeth', 'Hemanth']"
            ]
          },
          "metadata": {
            "tags": []
          },
          "execution_count": 274
        }
      ]
    },
    {
      "cell_type": "code",
      "metadata": {
        "colab": {
          "base_uri": "https://localhost:8080/"
        },
        "id": "g4QDNn3gaUsh",
        "outputId": "522018be-6308-43ae-ca5e-29bbc6357f79"
      },
      "source": [
        "len(A)"
      ],
      "execution_count": null,
      "outputs": [
        {
          "output_type": "execute_result",
          "data": {
            "text/plain": [
              "4"
            ]
          },
          "metadata": {
            "tags": []
          },
          "execution_count": 279
        }
      ]
    },
    {
      "cell_type": "code",
      "metadata": {
        "id": "ll2s72YMbE1F",
        "colab": {
          "base_uri": "https://localhost:8080/",
          "height": 35
        },
        "outputId": "8ac4d77a-a388-4e1f-bc73-9015a5f43c57"
      },
      "source": [
        "max(A)"
      ],
      "execution_count": null,
      "outputs": [
        {
          "output_type": "execute_result",
          "data": {
            "application/vnd.google.colaboratory.intrinsic+json": {
              "type": "string"
            },
            "text/plain": [
              "'rohan'"
            ]
          },
          "metadata": {
            "tags": []
          },
          "execution_count": 280
        }
      ]
    },
    {
      "cell_type": "code",
      "metadata": {
        "id": "zHLX8M0xbFzn",
        "colab": {
          "base_uri": "https://localhost:8080/",
          "height": 35
        },
        "outputId": "e4142b2e-c0de-48b6-a940-0c6099368e29"
      },
      "source": [
        "min(A)"
      ],
      "execution_count": null,
      "outputs": [
        {
          "output_type": "execute_result",
          "data": {
            "application/vnd.google.colaboratory.intrinsic+json": {
              "type": "string"
            },
            "text/plain": [
              "'Hemanth'"
            ]
          },
          "metadata": {
            "tags": []
          },
          "execution_count": 281
        }
      ]
    },
    {
      "cell_type": "code",
      "metadata": {
        "id": "aMRdY3NXbGq5"
      },
      "source": [
        "A.sort()"
      ],
      "execution_count": null,
      "outputs": []
    },
    {
      "cell_type": "code",
      "metadata": {
        "id": "GtfYIY5WbH8L",
        "colab": {
          "base_uri": "https://localhost:8080/"
        },
        "outputId": "5ba7916b-f44b-4cb2-e943-34947708a4ad"
      },
      "source": [
        "A"
      ],
      "execution_count": null,
      "outputs": [
        {
          "output_type": "execute_result",
          "data": {
            "text/plain": [
              "['Hemanth', 'Supreeth', 'riyaz', 'rohan']"
            ]
          },
          "metadata": {
            "tags": []
          },
          "execution_count": 283
        }
      ]
    },
    {
      "cell_type": "code",
      "metadata": {
        "id": "4hdl4YdxbIuj"
      },
      "source": [
        ""
      ],
      "execution_count": null,
      "outputs": []
    },
    {
      "cell_type": "markdown",
      "metadata": {
        "id": "sOD_oIDk8p8N"
      },
      "source": [
        "#Tuples\n",
        "28, April, 2021"
      ]
    },
    {
      "cell_type": "markdown",
      "metadata": {
        "id": "lXKELgcI84WP"
      },
      "source": [
        "Tuples are immutable"
      ]
    },
    {
      "cell_type": "code",
      "metadata": {
        "id": "NYD8CPaq8rJC"
      },
      "source": [
        "my_tuple = ()"
      ],
      "execution_count": null,
      "outputs": []
    },
    {
      "cell_type": "code",
      "metadata": {
        "colab": {
          "base_uri": "https://localhost:8080/"
        },
        "id": "n2xGF8XP9Ea3",
        "outputId": "37fd0d13-13d6-4756-f421-bc51a20b3bb5"
      },
      "source": [
        "print(my_tuple)"
      ],
      "execution_count": null,
      "outputs": [
        {
          "output_type": "stream",
          "text": [
            "()\n"
          ],
          "name": "stdout"
        }
      ]
    },
    {
      "cell_type": "code",
      "metadata": {
        "id": "11s2HgdH9Ftt"
      },
      "source": [
        "a = (10,20,30,40)"
      ],
      "execution_count": null,
      "outputs": []
    },
    {
      "cell_type": "code",
      "metadata": {
        "colab": {
          "base_uri": "https://localhost:8080/"
        },
        "id": "JAB9z9Lc9Z6t",
        "outputId": "ed20f23e-9efe-4487-cdac-f8c29690e322"
      },
      "source": [
        "print(a)"
      ],
      "execution_count": null,
      "outputs": [
        {
          "output_type": "stream",
          "text": [
            "(10, 20, 30, 40)\n"
          ],
          "name": "stdout"
        }
      ]
    },
    {
      "cell_type": "code",
      "metadata": {
        "id": "mUd5-fHc9ayW"
      },
      "source": [
        "b = (\"Hemanth\",10,\"20\",30,\"Sai\")"
      ],
      "execution_count": null,
      "outputs": []
    },
    {
      "cell_type": "code",
      "metadata": {
        "colab": {
          "base_uri": "https://localhost:8080/"
        },
        "id": "mxI0sPud9erY",
        "outputId": "df3e1815-46c2-42d3-8a83-4f1250dc46ce"
      },
      "source": [
        "print(b)"
      ],
      "execution_count": null,
      "outputs": [
        {
          "output_type": "stream",
          "text": [
            "('Hemanth', 10, '20', 30, 'Sai')\n"
          ],
          "name": "stdout"
        }
      ]
    },
    {
      "cell_type": "code",
      "metadata": {
        "id": "mfSDMUOc9fjt"
      },
      "source": [
        "c = (10,20,(80,234,34,(213,3,23)))"
      ],
      "execution_count": null,
      "outputs": []
    },
    {
      "cell_type": "code",
      "metadata": {
        "colab": {
          "base_uri": "https://localhost:8080/"
        },
        "id": "3CeEn7m19nAQ",
        "outputId": "9d4905c7-e6b2-41b3-ae7d-211252fa33e8"
      },
      "source": [
        "print(c)"
      ],
      "execution_count": null,
      "outputs": [
        {
          "output_type": "stream",
          "text": [
            "(10, 20, (80, 234, 34, (213, 3, 23)))\n"
          ],
          "name": "stdout"
        }
      ]
    },
    {
      "cell_type": "code",
      "metadata": {
        "id": "6i_OnWve9wPz"
      },
      "source": [
        "c = (1,20,4,310,[12,34,(3,4,5)])"
      ],
      "execution_count": null,
      "outputs": []
    },
    {
      "cell_type": "code",
      "metadata": {
        "colab": {
          "base_uri": "https://localhost:8080/"
        },
        "id": "WChKk5Ta91j4",
        "outputId": "2695ac72-d71a-42c2-c12d-e69b4bcb87dd"
      },
      "source": [
        "print(c)"
      ],
      "execution_count": null,
      "outputs": [
        {
          "output_type": "stream",
          "text": [
            "(1, 20, 4, 310, [12, 34, (3, 4, 5)])\n"
          ],
          "name": "stdout"
        }
      ]
    },
    {
      "cell_type": "code",
      "metadata": {
        "id": "rUBFoBb592NM"
      },
      "source": [
        "tp = \"Hemanth\","
      ],
      "execution_count": null,
      "outputs": []
    },
    {
      "cell_type": "code",
      "metadata": {
        "colab": {
          "base_uri": "https://localhost:8080/"
        },
        "id": "iK0ItSv79-E_",
        "outputId": "ade22ad1-6392-4877-ea36-644fe943ec59"
      },
      "source": [
        "type(tp)"
      ],
      "execution_count": null,
      "outputs": [
        {
          "output_type": "execute_result",
          "data": {
            "text/plain": [
              "tuple"
            ]
          },
          "metadata": {
            "tags": []
          },
          "execution_count": 13
        }
      ]
    },
    {
      "cell_type": "code",
      "metadata": {
        "id": "HKVJESzw9-5c"
      },
      "source": [
        "tp = 1,2,3,4,4,5"
      ],
      "execution_count": null,
      "outputs": []
    },
    {
      "cell_type": "code",
      "metadata": {
        "colab": {
          "base_uri": "https://localhost:8080/"
        },
        "id": "pEvwRolb-BcL",
        "outputId": "cf37e695-6bdc-408d-e360-02226ec1ef3b"
      },
      "source": [
        "type(tp)"
      ],
      "execution_count": null,
      "outputs": [
        {
          "output_type": "execute_result",
          "data": {
            "text/plain": [
              "tuple"
            ]
          },
          "metadata": {
            "tags": []
          },
          "execution_count": 15
        }
      ]
    },
    {
      "cell_type": "code",
      "metadata": {
        "id": "e0r4Tmx3-CGx"
      },
      "source": [
        "tp = 1,2,3,4,5,6,7,8,9,0"
      ],
      "execution_count": null,
      "outputs": []
    },
    {
      "cell_type": "code",
      "metadata": {
        "colab": {
          "base_uri": "https://localhost:8080/"
        },
        "id": "LypVL2Fz-vol",
        "outputId": "84205380-2313-45b6-e517-df84dbda7693"
      },
      "source": [
        "tp[:]"
      ],
      "execution_count": null,
      "outputs": [
        {
          "output_type": "execute_result",
          "data": {
            "text/plain": [
              "(1, 2, 3, 4, 5, 6, 7, 8, 9, 0)"
            ]
          },
          "metadata": {
            "tags": []
          },
          "execution_count": 17
        }
      ]
    },
    {
      "cell_type": "code",
      "metadata": {
        "colab": {
          "base_uri": "https://localhost:8080/"
        },
        "id": "_P_vvnI2-wtd",
        "outputId": "b6f64c4c-36ec-4176-b84a-5f12a1021efb"
      },
      "source": [
        "tp[0]"
      ],
      "execution_count": null,
      "outputs": [
        {
          "output_type": "execute_result",
          "data": {
            "text/plain": [
              "1"
            ]
          },
          "metadata": {
            "tags": []
          },
          "execution_count": 18
        }
      ]
    },
    {
      "cell_type": "code",
      "metadata": {
        "colab": {
          "base_uri": "https://localhost:8080/"
        },
        "id": "T4_SHa7s-yTC",
        "outputId": "38f4159b-43f9-47d8-b310-ea861ef3f0df"
      },
      "source": [
        "tp[0:]"
      ],
      "execution_count": null,
      "outputs": [
        {
          "output_type": "execute_result",
          "data": {
            "text/plain": [
              "(1, 2, 3, 4, 5, 6, 7, 8, 9, 0)"
            ]
          },
          "metadata": {
            "tags": []
          },
          "execution_count": 19
        }
      ]
    },
    {
      "cell_type": "code",
      "metadata": {
        "colab": {
          "base_uri": "https://localhost:8080/"
        },
        "id": "H-LcZNyX-zhK",
        "outputId": "3898e61f-4001-428f-d238-bfec0886efa0"
      },
      "source": [
        "tp[:]"
      ],
      "execution_count": null,
      "outputs": [
        {
          "output_type": "execute_result",
          "data": {
            "text/plain": [
              "(1, 2, 3, 4, 5, 6, 7, 8, 9, 0)"
            ]
          },
          "metadata": {
            "tags": []
          },
          "execution_count": 20
        }
      ]
    },
    {
      "cell_type": "code",
      "metadata": {
        "colab": {
          "base_uri": "https://localhost:8080/"
        },
        "id": "AMjPdNVp-0fA",
        "outputId": "bf18730e-22f6-4143-872c-e6855d17fe6f"
      },
      "source": [
        "tp[::]"
      ],
      "execution_count": null,
      "outputs": [
        {
          "output_type": "execute_result",
          "data": {
            "text/plain": [
              "(1, 2, 3, 4, 5, 6, 7, 8, 9, 0)"
            ]
          },
          "metadata": {
            "tags": []
          },
          "execution_count": 21
        }
      ]
    },
    {
      "cell_type": "code",
      "metadata": {
        "colab": {
          "base_uri": "https://localhost:8080/"
        },
        "id": "a6Es4lno-1AI",
        "outputId": "b687100d-cc4f-4746-fcbe-d60082c6b57c"
      },
      "source": [
        "tp[-1]"
      ],
      "execution_count": null,
      "outputs": [
        {
          "output_type": "execute_result",
          "data": {
            "text/plain": [
              "0"
            ]
          },
          "metadata": {
            "tags": []
          },
          "execution_count": 22
        }
      ]
    },
    {
      "cell_type": "code",
      "metadata": {
        "colab": {
          "base_uri": "https://localhost:8080/"
        },
        "id": "mj5GSMlX-2r4",
        "outputId": "58563d36-9cdd-43a2-9d13-463b2b516a5f"
      },
      "source": [
        "tp[::-1]"
      ],
      "execution_count": null,
      "outputs": [
        {
          "output_type": "execute_result",
          "data": {
            "text/plain": [
              "(0, 9, 8, 7, 6, 5, 4, 3, 2, 1)"
            ]
          },
          "metadata": {
            "tags": []
          },
          "execution_count": 26
        }
      ]
    },
    {
      "cell_type": "code",
      "metadata": {
        "colab": {
          "base_uri": "https://localhost:8080/"
        },
        "id": "z69j6qpn-57O",
        "outputId": "407a0819-09ce-4182-a505-e34f1979e0ee"
      },
      "source": [
        "for i in tp:\n",
        "  print(i)"
      ],
      "execution_count": null,
      "outputs": [
        {
          "output_type": "stream",
          "text": [
            "1\n",
            "2\n",
            "3\n",
            "4\n",
            "5\n",
            "6\n",
            "7\n",
            "8\n",
            "9\n",
            "0\n"
          ],
          "name": "stdout"
        }
      ]
    },
    {
      "cell_type": "code",
      "metadata": {
        "colab": {
          "base_uri": "https://localhost:8080/"
        },
        "id": "UoEEH1ij_KRD",
        "outputId": "55626f15-6d39-420b-9271-1cb74c995ffb"
      },
      "source": [
        "for i in tp:\n",
        "  print(i,end='')"
      ],
      "execution_count": null,
      "outputs": [
        {
          "output_type": "stream",
          "text": [
            "1234567890"
          ],
          "name": "stdout"
        }
      ]
    },
    {
      "cell_type": "code",
      "metadata": {
        "colab": {
          "base_uri": "https://localhost:8080/"
        },
        "id": "2gRz9RX9_OkW",
        "outputId": "fba2cd8e-161b-45aa-9403-bb6a8ebbf502"
      },
      "source": [
        "tp"
      ],
      "execution_count": null,
      "outputs": [
        {
          "output_type": "execute_result",
          "data": {
            "text/plain": [
              "(1, 2, 3, 4, 5, 6, 7, 8, 9, 0)"
            ]
          },
          "metadata": {
            "tags": []
          },
          "execution_count": 36
        }
      ]
    },
    {
      "cell_type": "code",
      "metadata": {
        "id": "YiZpBnhY_7Bs"
      },
      "source": [
        "tp = (1,2,3,4,5,(10,20,30,40,50))"
      ],
      "execution_count": null,
      "outputs": []
    },
    {
      "cell_type": "code",
      "metadata": {
        "colab": {
          "base_uri": "https://localhost:8080/"
        },
        "id": "obb5RoDf_8p_",
        "outputId": "51e61b64-197e-4b98-b588-29793abda41b"
      },
      "source": [
        "tp[0]"
      ],
      "execution_count": null,
      "outputs": [
        {
          "output_type": "execute_result",
          "data": {
            "text/plain": [
              "1"
            ]
          },
          "metadata": {
            "tags": []
          },
          "execution_count": 40
        }
      ]
    },
    {
      "cell_type": "code",
      "metadata": {
        "colab": {
          "base_uri": "https://localhost:8080/"
        },
        "id": "psh30vKlA_7L",
        "outputId": "fc94d6e1-9c39-4e8b-d222-5a9dc5408163"
      },
      "source": [
        "tp[5]"
      ],
      "execution_count": null,
      "outputs": [
        {
          "output_type": "execute_result",
          "data": {
            "text/plain": [
              "(10, 20, 30, 40, 50)"
            ]
          },
          "metadata": {
            "tags": []
          },
          "execution_count": 41
        }
      ]
    },
    {
      "cell_type": "code",
      "metadata": {
        "colab": {
          "base_uri": "https://localhost:8080/"
        },
        "id": "GuJZi4KtBBe8",
        "outputId": "b6d503fb-bbf7-4edc-8bbb-62639146649f"
      },
      "source": [
        "tp[5][0]"
      ],
      "execution_count": null,
      "outputs": [
        {
          "output_type": "execute_result",
          "data": {
            "text/plain": [
              "10"
            ]
          },
          "metadata": {
            "tags": []
          },
          "execution_count": 42
        }
      ]
    },
    {
      "cell_type": "code",
      "metadata": {
        "id": "jHyGIoFyBDdG"
      },
      "source": [
        "tp = (1,2,3,[10,20,30])"
      ],
      "execution_count": null,
      "outputs": []
    },
    {
      "cell_type": "code",
      "metadata": {
        "colab": {
          "base_uri": "https://localhost:8080/"
        },
        "id": "QFlV1V3dBMFe",
        "outputId": "6acb353d-c270-4c3d-d7ad-db52ef430a25"
      },
      "source": [
        "tp[3][0]"
      ],
      "execution_count": null,
      "outputs": [
        {
          "output_type": "execute_result",
          "data": {
            "text/plain": [
              "10"
            ]
          },
          "metadata": {
            "tags": []
          },
          "execution_count": 53
        }
      ]
    },
    {
      "cell_type": "code",
      "metadata": {
        "id": "zIlJWEv7CGjn"
      },
      "source": [
        "tp[3][0] = 99"
      ],
      "execution_count": null,
      "outputs": []
    },
    {
      "cell_type": "code",
      "metadata": {
        "colab": {
          "base_uri": "https://localhost:8080/"
        },
        "id": "hBdMdYNwCM_p",
        "outputId": "c0d78a4b-e0b1-419c-a59d-0c5aa063945f"
      },
      "source": [
        "tp"
      ],
      "execution_count": null,
      "outputs": [
        {
          "output_type": "execute_result",
          "data": {
            "text/plain": [
              "(1, 2, 3, [99, 20, 30])"
            ]
          },
          "metadata": {
            "tags": []
          },
          "execution_count": 55
        }
      ]
    },
    {
      "cell_type": "code",
      "metadata": {
        "id": "jYA5AT5HCN0B"
      },
      "source": [
        "tp = (1,2,3)"
      ],
      "execution_count": null,
      "outputs": []
    },
    {
      "cell_type": "code",
      "metadata": {
        "colab": {
          "base_uri": "https://localhost:8080/"
        },
        "id": "J-UNJdTYCy2N",
        "outputId": "1262c778-ebef-4e79-cf7d-647d58960af8"
      },
      "source": [
        "tp*3"
      ],
      "execution_count": null,
      "outputs": [
        {
          "output_type": "execute_result",
          "data": {
            "text/plain": [
              "(1, 2, 3, 1, 2, 3, 1, 2, 3)"
            ]
          },
          "metadata": {
            "tags": []
          },
          "execution_count": 57
        }
      ]
    },
    {
      "cell_type": "code",
      "metadata": {
        "colab": {
          "base_uri": "https://localhost:8080/"
        },
        "id": "8mVoTRoDCznD",
        "outputId": "fbd12788-c310-4566-f5ee-46921a93d454"
      },
      "source": [
        "tp+tp+tp"
      ],
      "execution_count": null,
      "outputs": [
        {
          "output_type": "execute_result",
          "data": {
            "text/plain": [
              "(1, 2, 3, 1, 2, 3, 1, 2, 3)"
            ]
          },
          "metadata": {
            "tags": []
          },
          "execution_count": 61
        }
      ]
    },
    {
      "cell_type": "code",
      "metadata": {
        "colab": {
          "base_uri": "https://localhost:8080/"
        },
        "id": "K3QLh84tC1YZ",
        "outputId": "1b547842-0628-4677-abed-80fb82e1d2d4"
      },
      "source": [
        "tp"
      ],
      "execution_count": null,
      "outputs": [
        {
          "output_type": "execute_result",
          "data": {
            "text/plain": [
              "(1, 2, 3)"
            ]
          },
          "metadata": {
            "tags": []
          },
          "execution_count": 63
        }
      ]
    },
    {
      "cell_type": "code",
      "metadata": {
        "id": "61uCOnEPDDHv"
      },
      "source": [
        "del tp"
      ],
      "execution_count": null,
      "outputs": []
    },
    {
      "cell_type": "code",
      "metadata": {
        "id": "bUMj0LB0DG_4"
      },
      "source": [
        "tp = (1,2,3,4,5,6)"
      ],
      "execution_count": null,
      "outputs": []
    },
    {
      "cell_type": "code",
      "metadata": {
        "id": "jEOnJfcVDJA1"
      },
      "source": [
        "tp = (1,1,1,1,2,2,2,3,3,3,4,4,4,5,5,5,6,6,)"
      ],
      "execution_count": null,
      "outputs": []
    },
    {
      "cell_type": "code",
      "metadata": {
        "colab": {
          "base_uri": "https://localhost:8080/"
        },
        "id": "cwmwTY52DagX",
        "outputId": "d5b2acdd-504b-4c8f-ae7b-66fed05497fb"
      },
      "source": [
        "tp"
      ],
      "execution_count": null,
      "outputs": [
        {
          "output_type": "execute_result",
          "data": {
            "text/plain": [
              "(1, 1, 1, 1, 2, 2, 2, 3, 3, 3, 4, 4, 4, 5, 5, 5, 6, 6)"
            ]
          },
          "metadata": {
            "tags": []
          },
          "execution_count": 67
        }
      ]
    },
    {
      "cell_type": "code",
      "metadata": {
        "colab": {
          "base_uri": "https://localhost:8080/"
        },
        "id": "MjEgzEIxDa6C",
        "outputId": "08c74658-e634-413d-f8aa-c54310ab2ef1"
      },
      "source": [
        "len(tp)"
      ],
      "execution_count": null,
      "outputs": [
        {
          "output_type": "execute_result",
          "data": {
            "text/plain": [
              "18"
            ]
          },
          "metadata": {
            "tags": []
          },
          "execution_count": 68
        }
      ]
    },
    {
      "cell_type": "code",
      "metadata": {
        "colab": {
          "base_uri": "https://localhost:8080/"
        },
        "id": "WgRZvgo2Dbcw",
        "outputId": "6322b300-6c8e-4276-aa06-08a12ebdd863"
      },
      "source": [
        "tp.count(3)"
      ],
      "execution_count": null,
      "outputs": [
        {
          "output_type": "execute_result",
          "data": {
            "text/plain": [
              "3"
            ]
          },
          "metadata": {
            "tags": []
          },
          "execution_count": 69
        }
      ]
    },
    {
      "cell_type": "code",
      "metadata": {
        "colab": {
          "base_uri": "https://localhost:8080/"
        },
        "id": "46ynInHBDeNo",
        "outputId": "bbf1bb4a-31d3-4de3-eb1b-a795a25a91d1"
      },
      "source": [
        "tp.index(3)"
      ],
      "execution_count": null,
      "outputs": [
        {
          "output_type": "execute_result",
          "data": {
            "text/plain": [
              "7"
            ]
          },
          "metadata": {
            "tags": []
          },
          "execution_count": 70
        }
      ]
    },
    {
      "cell_type": "code",
      "metadata": {
        "colab": {
          "base_uri": "https://localhost:8080/"
        },
        "id": "bME0PFGuDgVz",
        "outputId": "abc2433f-a806-44ab-daf9-a1f9ee16a850"
      },
      "source": [
        "tp"
      ],
      "execution_count": null,
      "outputs": [
        {
          "output_type": "execute_result",
          "data": {
            "text/plain": [
              "(1, 1, 1, 1, 2, 2, 2, 3, 3, 3, 4, 4, 4, 5, 5, 5, 6, 6)"
            ]
          },
          "metadata": {
            "tags": []
          },
          "execution_count": 71
        }
      ]
    },
    {
      "cell_type": "code",
      "metadata": {
        "colab": {
          "base_uri": "https://localhost:8080/"
        },
        "id": "qd-FnUeSEW5Z",
        "outputId": "7f74e847-69bf-42d7-a8f5-c1ba34594984"
      },
      "source": [
        "for _ in \"Hemanth\",\"Sai\",\"1\",\"0\":\n",
        "  print(_)"
      ],
      "execution_count": null,
      "outputs": [
        {
          "output_type": "stream",
          "text": [
            "Hemanth\n",
            "Sai\n",
            "1\n",
            "0\n"
          ],
          "name": "stdout"
        }
      ]
    },
    {
      "cell_type": "code",
      "metadata": {
        "id": "T87VTGJmE2BE"
      },
      "source": [
        ""
      ],
      "execution_count": null,
      "outputs": []
    },
    {
      "cell_type": "markdown",
      "metadata": {
        "id": "28fwYKN6v7na"
      },
      "source": [
        "# Dictionaries"
      ]
    },
    {
      "cell_type": "code",
      "metadata": {
        "id": "46wStuiRwWa4",
        "colab": {
          "base_uri": "https://localhost:8080/"
        },
        "outputId": "34f75421-5bc2-485a-9e54-942cc844799f"
      },
      "source": [
        "my_dict = dict()\n",
        "type(my_dict)"
      ],
      "execution_count": null,
      "outputs": [
        {
          "output_type": "execute_result",
          "data": {
            "text/plain": [
              "dict"
            ]
          },
          "metadata": {
            "tags": []
          },
          "execution_count": 2
        }
      ]
    },
    {
      "cell_type": "code",
      "metadata": {
        "id": "1uobhtFIWI-S"
      },
      "source": [
        "d = {1:100}"
      ],
      "execution_count": null,
      "outputs": []
    },
    {
      "cell_type": "code",
      "metadata": {
        "colab": {
          "base_uri": "https://localhost:8080/"
        },
        "id": "fdorWRfsWOWy",
        "outputId": "71d60081-c5cc-4a5b-aa4d-47b32b8cd7ff"
      },
      "source": [
        "d[1]"
      ],
      "execution_count": null,
      "outputs": [
        {
          "output_type": "execute_result",
          "data": {
            "text/plain": [
              "100"
            ]
          },
          "metadata": {
            "tags": []
          },
          "execution_count": 5
        }
      ]
    },
    {
      "cell_type": "code",
      "metadata": {
        "id": "-R8d4CCcWP_e"
      },
      "source": [
        "s = {\"name\":'Python',\"id\":100}"
      ],
      "execution_count": null,
      "outputs": []
    },
    {
      "cell_type": "code",
      "metadata": {
        "colab": {
          "base_uri": "https://localhost:8080/"
        },
        "id": "HIBoBNh2WlQM",
        "outputId": "9b6dcec3-de91-40e6-cb76-72d3aa97bef0"
      },
      "source": [
        "{1:2}"
      ],
      "execution_count": null,
      "outputs": [
        {
          "output_type": "execute_result",
          "data": {
            "text/plain": [
              "{1: 2}"
            ]
          },
          "metadata": {
            "tags": []
          },
          "execution_count": 12
        }
      ]
    },
    {
      "cell_type": "code",
      "metadata": {
        "colab": {
          "base_uri": "https://localhost:8080/",
          "height": 35
        },
        "id": "A14Q7_qaXLTq",
        "outputId": "f5227630-093d-484f-c985-10a13b61241b"
      },
      "source": [
        "s['name']"
      ],
      "execution_count": null,
      "outputs": [
        {
          "output_type": "execute_result",
          "data": {
            "application/vnd.google.colaboratory.intrinsic+json": {
              "type": "string"
            },
            "text/plain": [
              "'Python'"
            ]
          },
          "metadata": {
            "tags": []
          },
          "execution_count": 17
        }
      ]
    },
    {
      "cell_type": "code",
      "metadata": {
        "colab": {
          "base_uri": "https://localhost:8080/"
        },
        "id": "hdqlCgj5XVHk",
        "outputId": "e0754502-fc64-4a70-b210-e1f014b61e16"
      },
      "source": [
        "s['id']"
      ],
      "execution_count": null,
      "outputs": [
        {
          "output_type": "execute_result",
          "data": {
            "text/plain": [
              "100"
            ]
          },
          "metadata": {
            "tags": []
          },
          "execution_count": 18
        }
      ]
    },
    {
      "cell_type": "code",
      "metadata": {
        "colab": {
          "base_uri": "https://localhost:8080/"
        },
        "id": "XhAU-BZLYFdW",
        "outputId": "d81716ae-c6e4-4698-ad4f-25920595b18f"
      },
      "source": [
        "s.values()"
      ],
      "execution_count": null,
      "outputs": [
        {
          "output_type": "execute_result",
          "data": {
            "text/plain": [
              "dict_values(['Python', 100])"
            ]
          },
          "metadata": {
            "tags": []
          },
          "execution_count": 19
        }
      ]
    },
    {
      "cell_type": "code",
      "metadata": {
        "colab": {
          "base_uri": "https://localhost:8080/"
        },
        "id": "IhwZZ-0YYGTE",
        "outputId": "7222cc6e-f557-446b-eab7-e599e4c33c8a"
      },
      "source": [
        "s.keys()"
      ],
      "execution_count": null,
      "outputs": [
        {
          "output_type": "execute_result",
          "data": {
            "text/plain": [
              "dict_keys(['name', 'id'])"
            ]
          },
          "metadata": {
            "tags": []
          },
          "execution_count": 20
        }
      ]
    },
    {
      "cell_type": "code",
      "metadata": {
        "colab": {
          "base_uri": "https://localhost:8080/"
        },
        "id": "d8UNDuOSYHdI",
        "outputId": "0e669ff6-7757-41c5-d77c-e4d1e8fc9efe"
      },
      "source": [
        "s.items()"
      ],
      "execution_count": null,
      "outputs": [
        {
          "output_type": "execute_result",
          "data": {
            "text/plain": [
              "dict_items([('name', 'Python'), ('id', 100)])"
            ]
          },
          "metadata": {
            "tags": []
          },
          "execution_count": 21
        }
      ]
    },
    {
      "cell_type": "code",
      "metadata": {
        "id": "g4A3mz_aYInQ"
      },
      "source": [
        "s.update({\"size\":10})"
      ],
      "execution_count": null,
      "outputs": []
    },
    {
      "cell_type": "code",
      "metadata": {
        "colab": {
          "base_uri": "https://localhost:8080/"
        },
        "id": "tjA8BrsKYMUO",
        "outputId": "d05a20eb-1f06-4308-c132-714f17e3e61c"
      },
      "source": [
        "s"
      ],
      "execution_count": null,
      "outputs": [
        {
          "output_type": "execute_result",
          "data": {
            "text/plain": [
              "{'id': 100, 'name': 'Python', 'size': 10}"
            ]
          },
          "metadata": {
            "tags": []
          },
          "execution_count": 26
        }
      ]
    },
    {
      "cell_type": "code",
      "metadata": {
        "id": "-BZkUvAXYaU2"
      },
      "source": [
        "s.update({\"size\":99})"
      ],
      "execution_count": null,
      "outputs": []
    },
    {
      "cell_type": "code",
      "metadata": {
        "colab": {
          "base_uri": "https://localhost:8080/"
        },
        "id": "bAPYwa9lYecq",
        "outputId": "e0055348-f4f6-4c42-a0d4-f67f0bc756b6"
      },
      "source": [
        "s"
      ],
      "execution_count": null,
      "outputs": [
        {
          "output_type": "execute_result",
          "data": {
            "text/plain": [
              "{'id': 100, 'name': 'Python', 'size': 99}"
            ]
          },
          "metadata": {
            "tags": []
          },
          "execution_count": 28
        }
      ]
    },
    {
      "cell_type": "code",
      "metadata": {
        "colab": {
          "base_uri": "https://localhost:8080/"
        },
        "id": "kpU1Sq54YepF",
        "outputId": "17ebd779-132c-4ad2-8a90-a1dc9e38e6db"
      },
      "source": [
        "s.pop(\"id\")"
      ],
      "execution_count": null,
      "outputs": [
        {
          "output_type": "execute_result",
          "data": {
            "text/plain": [
              "100"
            ]
          },
          "metadata": {
            "tags": []
          },
          "execution_count": 30
        }
      ]
    },
    {
      "cell_type": "code",
      "metadata": {
        "colab": {
          "base_uri": "https://localhost:8080/"
        },
        "id": "hqvqbEprYykE",
        "outputId": "4ec75bf9-36c3-4ffe-c600-2c85ffee1d5a"
      },
      "source": [
        "s"
      ],
      "execution_count": null,
      "outputs": [
        {
          "output_type": "execute_result",
          "data": {
            "text/plain": [
              "{'name': 'Python', 'size': 99}"
            ]
          },
          "metadata": {
            "tags": []
          },
          "execution_count": 31
        }
      ]
    },
    {
      "cell_type": "code",
      "metadata": {
        "colab": {
          "base_uri": "https://localhost:8080/"
        },
        "id": "kj2bodJsY0aJ",
        "outputId": "375f7222-0184-43f4-e0f8-ec38faafae13"
      },
      "source": [
        "s.popitem()"
      ],
      "execution_count": null,
      "outputs": [
        {
          "output_type": "execute_result",
          "data": {
            "text/plain": [
              "('size', 99)"
            ]
          },
          "metadata": {
            "tags": []
          },
          "execution_count": 32
        }
      ]
    },
    {
      "cell_type": "code",
      "metadata": {
        "colab": {
          "base_uri": "https://localhost:8080/"
        },
        "id": "-xDtG0oFY2iu",
        "outputId": "e8f66212-e8d7-427f-b6bb-353ad05945ac"
      },
      "source": [
        "s"
      ],
      "execution_count": null,
      "outputs": [
        {
          "output_type": "execute_result",
          "data": {
            "text/plain": [
              "{'name': 'Python'}"
            ]
          },
          "metadata": {
            "tags": []
          },
          "execution_count": 33
        }
      ]
    },
    {
      "cell_type": "code",
      "metadata": {
        "colab": {
          "base_uri": "https://localhost:8080/",
          "height": 35
        },
        "id": "fOKOnPN7ZCIN",
        "outputId": "7fa27b21-22c9-4447-8b62-a0f3a1956e90"
      },
      "source": [
        "s.get('name')"
      ],
      "execution_count": null,
      "outputs": [
        {
          "output_type": "execute_result",
          "data": {
            "application/vnd.google.colaboratory.intrinsic+json": {
              "type": "string"
            },
            "text/plain": [
              "'Python'"
            ]
          },
          "metadata": {
            "tags": []
          },
          "execution_count": 34
        }
      ]
    },
    {
      "cell_type": "code",
      "metadata": {
        "colab": {
          "base_uri": "https://localhost:8080/"
        },
        "id": "Ffc2oDMNZQgh",
        "outputId": "5cf15a00-f4f4-4ff9-dea0-41a9aee565f3"
      },
      "source": [
        "s"
      ],
      "execution_count": null,
      "outputs": [
        {
          "output_type": "execute_result",
          "data": {
            "text/plain": [
              "{'name': 'Python'}"
            ]
          },
          "metadata": {
            "tags": []
          },
          "execution_count": 39
        }
      ]
    },
    {
      "cell_type": "code",
      "metadata": {
        "id": "U4UgaaXqZXQZ"
      },
      "source": [
        "def fun(*args):\n",
        "  for i in args:\n",
        "    print(i)"
      ],
      "execution_count": null,
      "outputs": []
    },
    {
      "cell_type": "code",
      "metadata": {
        "colab": {
          "base_uri": "https://localhost:8080/"
        },
        "id": "_UOTZ2pEZ7i8",
        "outputId": "777849be-c287-4b9b-fe9d-4779abb4bbd2"
      },
      "source": [
        "fun(1,\"asdf\",1,1,1,23,3,2,243,23,23,23,23)"
      ],
      "execution_count": null,
      "outputs": [
        {
          "output_type": "stream",
          "text": [
            "1\n",
            "asdf\n",
            "1\n",
            "1\n",
            "1\n",
            "23\n",
            "3\n",
            "2\n",
            "243\n",
            "23\n",
            "23\n",
            "23\n",
            "23\n"
          ],
          "name": "stdout"
        }
      ]
    },
    {
      "cell_type": "code",
      "metadata": {
        "id": "58fwj2RyZ9ba"
      },
      "source": [
        "def fun(**kwargs):\n",
        "  print(kwargs['name'])\n",
        "  print(kwargs['roll'])"
      ],
      "execution_count": null,
      "outputs": []
    },
    {
      "cell_type": "code",
      "metadata": {
        "colab": {
          "base_uri": "https://localhost:8080/"
        },
        "id": "06VJOtoHbn3q",
        "outputId": "18dff302-cf06-4553-bea6-d68bd364cf52"
      },
      "source": [
        "fun(name=\"Hemanth\",roll=3518)"
      ],
      "execution_count": null,
      "outputs": [
        {
          "output_type": "stream",
          "text": [
            "Hemanth\n",
            "3518\n"
          ],
          "name": "stdout"
        }
      ]
    },
    {
      "cell_type": "code",
      "metadata": {
        "id": "QpJMfTyybqRM"
      },
      "source": [
        "d = {\"Hemanth\":{1:10,2:20},\"GHSHEMANTH\":{3:30,4:40}}"
      ],
      "execution_count": null,
      "outputs": []
    },
    {
      "cell_type": "code",
      "metadata": {
        "colab": {
          "base_uri": "https://localhost:8080/"
        },
        "id": "bDpfrekIEJZN",
        "outputId": "b979d313-9b1f-450a-9511-0f36ed1a537f"
      },
      "source": [
        "d"
      ],
      "execution_count": null,
      "outputs": [
        {
          "output_type": "execute_result",
          "data": {
            "text/plain": [
              "{'GHSHEMANTH': {3: 30, 4: 40}, 'Hemanth': {1: 10, 2: 20}}"
            ]
          },
          "metadata": {
            "tags": []
          },
          "execution_count": 2
        }
      ]
    },
    {
      "cell_type": "code",
      "metadata": {
        "colab": {
          "base_uri": "https://localhost:8080/"
        },
        "id": "_2tjCJTEEJk4",
        "outputId": "1bac099c-9997-49f8-b7f1-a92c34606980"
      },
      "source": [
        "d.keys()"
      ],
      "execution_count": null,
      "outputs": [
        {
          "output_type": "execute_result",
          "data": {
            "text/plain": [
              "dict_keys(['Hemanth', 'GHSHEMANTH'])"
            ]
          },
          "metadata": {
            "tags": []
          },
          "execution_count": 4
        }
      ]
    },
    {
      "cell_type": "code",
      "metadata": {
        "colab": {
          "base_uri": "https://localhost:8080/"
        },
        "id": "wlHN_Ng1ELaI",
        "outputId": "b426ea18-5775-4833-8811-f846b3900ba5"
      },
      "source": [
        "d.values()"
      ],
      "execution_count": null,
      "outputs": [
        {
          "output_type": "execute_result",
          "data": {
            "text/plain": [
              "dict_values([{1: 10, 2: 20}, {3: 30, 4: 40}])"
            ]
          },
          "metadata": {
            "tags": []
          },
          "execution_count": 6
        }
      ]
    },
    {
      "cell_type": "code",
      "metadata": {
        "colab": {
          "base_uri": "https://localhost:8080/"
        },
        "id": "QYHgKrk9ENiU",
        "outputId": "bf0a1f77-bcb0-488b-b365-1eab8915efab"
      },
      "source": [
        "for i in d:print(i)"
      ],
      "execution_count": null,
      "outputs": [
        {
          "output_type": "stream",
          "text": [
            "Hemanth\n",
            "GHSHEMANTH\n"
          ],
          "name": "stdout"
        }
      ]
    },
    {
      "cell_type": "code",
      "metadata": {
        "colab": {
          "base_uri": "https://localhost:8080/"
        },
        "id": "kUkQSvRAERsG",
        "outputId": "4942e544-eec3-412b-8cbc-5ae5e6a4763a"
      },
      "source": [
        "for i in d.values(): print(i)"
      ],
      "execution_count": null,
      "outputs": [
        {
          "output_type": "stream",
          "text": [
            "{1: 10, 2: 20}\n",
            "{3: 30, 4: 40}\n"
          ],
          "name": "stdout"
        }
      ]
    },
    {
      "cell_type": "code",
      "metadata": {
        "colab": {
          "base_uri": "https://localhost:8080/"
        },
        "id": "bpwOpIeJEUB_",
        "outputId": "7fa8467c-7f50-4952-a395-ae38a7c23e7c"
      },
      "source": [
        "for i in d.items():\n",
        "  print(i)"
      ],
      "execution_count": null,
      "outputs": [
        {
          "output_type": "stream",
          "text": [
            "('Hemanth', {1: 10, 2: 20})\n",
            "('GHSHEMANTH', {3: 30, 4: 40})\n"
          ],
          "name": "stdout"
        }
      ]
    },
    {
      "cell_type": "code",
      "metadata": {
        "colab": {
          "base_uri": "https://localhost:8080/"
        },
        "id": "siiZNipKEWx1",
        "outputId": "771eedff-6c53-4565-dea7-8388a7aa41c5"
      },
      "source": [
        "for i,j in d.items():\n",
        "  print(i,j)"
      ],
      "execution_count": null,
      "outputs": [
        {
          "output_type": "stream",
          "text": [
            "Hemanth {1: 10, 2: 20}\n",
            "GHSHEMANTH {3: 30, 4: 40}\n"
          ],
          "name": "stdout"
        }
      ]
    },
    {
      "cell_type": "code",
      "metadata": {
        "id": "b_0mqljJEbbH"
      },
      "source": [
        "d1 = d.copy()"
      ],
      "execution_count": null,
      "outputs": []
    },
    {
      "cell_type": "code",
      "metadata": {
        "colab": {
          "base_uri": "https://localhost:8080/"
        },
        "id": "Pu5OGFC6EdRw",
        "outputId": "4da2a360-063a-4f9f-8dde-6a701c678b7d"
      },
      "source": [
        "d1"
      ],
      "execution_count": null,
      "outputs": [
        {
          "output_type": "execute_result",
          "data": {
            "text/plain": [
              "{'GHSHEMANTH': {3: 30, 4: 40}, 'Hemanth': {1: 10, 2: 20}}"
            ]
          },
          "metadata": {
            "tags": []
          },
          "execution_count": 13
        }
      ]
    },
    {
      "cell_type": "code",
      "metadata": {
        "id": "VpyaF7hdEdr9"
      },
      "source": [
        "d2 = d"
      ],
      "execution_count": null,
      "outputs": []
    },
    {
      "cell_type": "code",
      "metadata": {
        "id": "v6gS2QxFEe-b"
      },
      "source": [
        "d2['Hemanth']=1000"
      ],
      "execution_count": null,
      "outputs": []
    },
    {
      "cell_type": "code",
      "metadata": {
        "colab": {
          "base_uri": "https://localhost:8080/"
        },
        "id": "g95dilE8Ejhd",
        "outputId": "de54f757-dad9-4be3-c566-fde2fa587abc"
      },
      "source": [
        "d"
      ],
      "execution_count": null,
      "outputs": [
        {
          "output_type": "execute_result",
          "data": {
            "text/plain": [
              "{'GHSHEMANTH': {3: 30, 4: 40}, 'Hemanth': 1000}"
            ]
          },
          "metadata": {
            "tags": []
          },
          "execution_count": 16
        }
      ]
    },
    {
      "cell_type": "code",
      "metadata": {
        "colab": {
          "base_uri": "https://localhost:8080/"
        },
        "id": "LyvW1rbTEjzh",
        "outputId": "94d5791b-79fa-4ddf-dc92-40a641021b76"
      },
      "source": [
        "d.get('Hemanth')"
      ],
      "execution_count": null,
      "outputs": [
        {
          "output_type": "execute_result",
          "data": {
            "text/plain": [
              "1000"
            ]
          },
          "metadata": {
            "tags": []
          },
          "execution_count": 17
        }
      ]
    },
    {
      "cell_type": "code",
      "metadata": {
        "id": "JoZviR4cFpXf"
      },
      "source": [
        "d.get(\"ksjfdnksadjnfksdjf\")"
      ],
      "execution_count": null,
      "outputs": []
    },
    {
      "cell_type": "code",
      "metadata": {
        "id": "5xpUPh6TGCdw",
        "colab": {
          "base_uri": "https://localhost:8080/"
        },
        "outputId": "a724ca6b-6028-4b39-9a57-e981d366506d"
      },
      "source": [
        "print(d.get(\"ksjfdnksadjnfksdjf\"))"
      ],
      "execution_count": null,
      "outputs": [
        {
          "output_type": "stream",
          "text": [
            "None\n"
          ],
          "name": "stdout"
        }
      ]
    },
    {
      "cell_type": "code",
      "metadata": {
        "colab": {
          "base_uri": "https://localhost:8080/"
        },
        "id": "F69y164hFr1r",
        "outputId": "40ad5277-f70c-4122-b05d-40acf790f272"
      },
      "source": [
        "d.items()"
      ],
      "execution_count": null,
      "outputs": [
        {
          "output_type": "execute_result",
          "data": {
            "text/plain": [
              "dict_items([('Hemanth', 1000), ('GHSHEMANTH', {3: 30, 4: 40})])"
            ]
          },
          "metadata": {
            "tags": []
          },
          "execution_count": 19
        }
      ]
    },
    {
      "cell_type": "code",
      "metadata": {
        "id": "vt9-moahF6D4"
      },
      "source": [
        "d = {1:2, 3:4, 5:6}"
      ],
      "execution_count": null,
      "outputs": []
    },
    {
      "cell_type": "code",
      "metadata": {
        "colab": {
          "base_uri": "https://localhost:8080/"
        },
        "id": "rIEijn6I6bMM",
        "outputId": "0bb976b0-938c-4ddf-de45-b01ef4c5c781"
      },
      "source": [
        "d.popitem()"
      ],
      "execution_count": null,
      "outputs": [
        {
          "output_type": "execute_result",
          "data": {
            "text/plain": [
              "(5, 6)"
            ]
          },
          "metadata": {
            "tags": []
          },
          "execution_count": 3
        }
      ]
    },
    {
      "cell_type": "code",
      "metadata": {
        "id": "wbOtJe7t6cvv"
      },
      "source": [
        "d = {\"name\":\"Hemanth\",\"age\":19,\"branch\":\"AIE\",\"city\":\"hyd\"}"
      ],
      "execution_count": null,
      "outputs": []
    },
    {
      "cell_type": "code",
      "metadata": {
        "colab": {
          "base_uri": "https://localhost:8080/"
        },
        "id": "fA0UhBMT7q_e",
        "outputId": "dafdeaaa-eb3d-483c-a8f6-088d72082578"
      },
      "source": [
        "d.popitem()"
      ],
      "execution_count": null,
      "outputs": [
        {
          "output_type": "execute_result",
          "data": {
            "text/plain": [
              "('city', 'hyd')"
            ]
          },
          "metadata": {
            "tags": []
          },
          "execution_count": 5
        }
      ]
    },
    {
      "cell_type": "code",
      "metadata": {
        "id": "8jEZ1LwT7sZQ"
      },
      "source": [
        "d.update({\"city\":\"hyd\"})"
      ],
      "execution_count": null,
      "outputs": []
    },
    {
      "cell_type": "code",
      "metadata": {
        "colab": {
          "base_uri": "https://localhost:8080/"
        },
        "id": "DblzSwxb7vvf",
        "outputId": "f4330c0e-3e0e-4777-a160-c30c16b296c8"
      },
      "source": [
        "d"
      ],
      "execution_count": null,
      "outputs": [
        {
          "output_type": "execute_result",
          "data": {
            "text/plain": [
              "{'age': 19, 'branch': 'AIE', 'city': 'hyd', 'name': 'Hemanth'}"
            ]
          },
          "metadata": {
            "tags": []
          },
          "execution_count": 7
        }
      ]
    },
    {
      "cell_type": "code",
      "metadata": {
        "colab": {
          "base_uri": "https://localhost:8080/"
        },
        "id": "_nhqZjf47wA9",
        "outputId": "643512d6-6248-4ac5-ba57-fc2ef566a361"
      },
      "source": [
        "d.popitem()"
      ],
      "execution_count": null,
      "outputs": [
        {
          "output_type": "execute_result",
          "data": {
            "text/plain": [
              "('city', 'hyd')"
            ]
          },
          "metadata": {
            "tags": []
          },
          "execution_count": 8
        }
      ]
    },
    {
      "cell_type": "code",
      "metadata": {
        "id": "-2A_wLsk7zxA"
      },
      "source": [
        "d = {\"python\":123,\"ml\":345,\"es\":345345,\"dbms\":909}"
      ],
      "execution_count": null,
      "outputs": []
    },
    {
      "cell_type": "code",
      "metadata": {
        "id": "3ThiXwC8-GTp"
      },
      "source": [
        "d.setdefault(\"pc\")"
      ],
      "execution_count": null,
      "outputs": []
    },
    {
      "cell_type": "code",
      "metadata": {
        "colab": {
          "base_uri": "https://localhost:8080/"
        },
        "id": "jyEaUlAP-Mpy",
        "outputId": "8c77c812-e4a5-47e2-859c-80a5529388e9"
      },
      "source": [
        "d"
      ],
      "execution_count": null,
      "outputs": [
        {
          "output_type": "execute_result",
          "data": {
            "text/plain": [
              "{'dbms': 909, 'es': 345345, 'ml': 345, 'pc': None, 'python': 123}"
            ]
          },
          "metadata": {
            "tags": []
          },
          "execution_count": 13
        }
      ]
    },
    {
      "cell_type": "code",
      "metadata": {
        "colab": {
          "base_uri": "https://localhost:8080/"
        },
        "id": "CKWszqh_-P4i",
        "outputId": "d6a43c78-1c3d-4ce6-eb61-c43442167f1b"
      },
      "source": [
        "d.setdefault(\"python\")"
      ],
      "execution_count": null,
      "outputs": [
        {
          "output_type": "execute_result",
          "data": {
            "text/plain": [
              "123"
            ]
          },
          "metadata": {
            "tags": []
          },
          "execution_count": 14
        }
      ]
    },
    {
      "cell_type": "code",
      "metadata": {
        "colab": {
          "base_uri": "https://localhost:8080/"
        },
        "id": "yAaeFEm0-Vwe",
        "outputId": "0410757b-7a1f-4825-e7cd-14403212755c"
      },
      "source": [
        "d"
      ],
      "execution_count": null,
      "outputs": [
        {
          "output_type": "execute_result",
          "data": {
            "text/plain": [
              "{'dbms': 909, 'es': 345345, 'ml': 345, 'pc': None, 'python': 123}"
            ]
          },
          "metadata": {
            "tags": []
          },
          "execution_count": 15
        }
      ]
    },
    {
      "cell_type": "code",
      "metadata": {
        "colab": {
          "base_uri": "https://localhost:8080/"
        },
        "id": "G2EXtFFS-x-Z",
        "outputId": "6db336d2-d76e-4d85-9f43-d743c09adb98"
      },
      "source": [
        "d.pop(\"ml\")"
      ],
      "execution_count": null,
      "outputs": [
        {
          "output_type": "execute_result",
          "data": {
            "text/plain": [
              "345"
            ]
          },
          "metadata": {
            "tags": []
          },
          "execution_count": 17
        }
      ]
    },
    {
      "cell_type": "code",
      "metadata": {
        "colab": {
          "base_uri": "https://localhost:8080/"
        },
        "id": "ZHtLiTth-zaG",
        "outputId": "1d8e3228-3f4e-426c-c511-52eb1cc6d30e"
      },
      "source": [
        "d"
      ],
      "execution_count": null,
      "outputs": [
        {
          "output_type": "execute_result",
          "data": {
            "text/plain": [
              "{'dbms': 909, 'es': 345345, 'pc': None, 'python': 123}"
            ]
          },
          "metadata": {
            "tags": []
          },
          "execution_count": 18
        }
      ]
    },
    {
      "cell_type": "code",
      "metadata": {
        "colab": {
          "base_uri": "https://localhost:8080/"
        },
        "id": "97jl_EAd-2f7",
        "outputId": "ed4f52fa-eea6-4cb9-a778-eb77f40750ac"
      },
      "source": [
        "d.pop(\"es\",\"dbms\")"
      ],
      "execution_count": null,
      "outputs": [
        {
          "output_type": "execute_result",
          "data": {
            "text/plain": [
              "345345"
            ]
          },
          "metadata": {
            "tags": []
          },
          "execution_count": 19
        }
      ]
    },
    {
      "cell_type": "code",
      "metadata": {
        "id": "c_386qbDAEVP"
      },
      "source": [
        ""
      ],
      "execution_count": null,
      "outputs": []
    },
    {
      "cell_type": "markdown",
      "metadata": {
        "id": "4xojSrDOU-N1"
      },
      "source": [
        "#Functions"
      ]
    },
    {
      "cell_type": "code",
      "metadata": {
        "id": "gftymA0tVAoM"
      },
      "source": [
        "def hi():\n",
        "  print(\"HI\")"
      ],
      "execution_count": null,
      "outputs": []
    },
    {
      "cell_type": "code",
      "metadata": {
        "colab": {
          "base_uri": "https://localhost:8080/"
        },
        "id": "5vzbDafTVJwJ",
        "outputId": "741c89f8-7dc5-4491-e7cc-808751549c4d"
      },
      "source": [
        "hi()\n",
        "hi()"
      ],
      "execution_count": null,
      "outputs": [
        {
          "output_type": "stream",
          "text": [
            "HI\n",
            "HI\n"
          ],
          "name": "stdout"
        }
      ]
    },
    {
      "cell_type": "code",
      "metadata": {
        "colab": {
          "base_uri": "https://localhost:8080/"
        },
        "id": "FTks1P3oVK4u",
        "outputId": "f1e2dd75-dfe7-41df-e904-2ce502729494"
      },
      "source": [
        "def sum():\n",
        "  a=10\n",
        "  b=20\n",
        "  c=30\n",
        "  return a+b+c\n",
        "\n",
        "sum()"
      ],
      "execution_count": null,
      "outputs": [
        {
          "output_type": "execute_result",
          "data": {
            "text/plain": [
              "60"
            ]
          },
          "metadata": {
            "tags": []
          },
          "execution_count": 3
        }
      ]
    },
    {
      "cell_type": "code",
      "metadata": {
        "id": "7Vd6GmXiVQqy"
      },
      "source": [
        "def add(a,b):\n",
        "  print(a+b)\n",
        "  "
      ],
      "execution_count": null,
      "outputs": []
    },
    {
      "cell_type": "code",
      "metadata": {
        "colab": {
          "base_uri": "https://localhost:8080/"
        },
        "id": "bUwTvx6SW0Qw",
        "outputId": "e44d3cc4-5855-40ac-9185-ebf9fc6c6e18"
      },
      "source": [
        "a = int(input(\"Enter a: \"))\n",
        "b = int(input(\"Enter b: \"))\n",
        "add(a,b)"
      ],
      "execution_count": null,
      "outputs": [
        {
          "output_type": "stream",
          "text": [
            "Enter a: 100\n",
            "Enter b: 300\n",
            "400\n"
          ],
          "name": "stdout"
        }
      ]
    },
    {
      "cell_type": "code",
      "metadata": {
        "colab": {
          "base_uri": "https://localhost:8080/"
        },
        "id": "tL1CbGvBW5FC",
        "outputId": "4d8f65ae-404e-4637-fe55-df6d9006e91d"
      },
      "source": [
        "def change(lst):\n",
        "  lst.append(100)\n",
        "  print(\"list after changing: \",lst)\n",
        "\n",
        "lst = [10,20,30]\n",
        "\n",
        "change(lst)\n"
      ],
      "execution_count": null,
      "outputs": [
        {
          "output_type": "stream",
          "text": [
            "list after changing:  [10, 20, 30, 100]\n"
          ],
          "name": "stdout"
        }
      ]
    },
    {
      "cell_type": "code",
      "metadata": {
        "colab": {
          "base_uri": "https://localhost:8080/"
        },
        "id": "d6hv8IOfXG7L",
        "outputId": "1c57ba77-fb18-4eaa-97f1-f23f5ec9c5cd"
      },
      "source": [
        "def fun():\n",
        "  x=90\n",
        "  print(\"Value of x inside the function: \",x)\n",
        "\n",
        "fun()\n",
        "x = 39393\n",
        "print(\"value of x outside the function: \",x)"
      ],
      "execution_count": null,
      "outputs": [
        {
          "output_type": "stream",
          "text": [
            "Value of x inside the function:  90\n",
            "value of x outside the function:  39393\n"
          ],
          "name": "stdout"
        }
      ]
    },
    {
      "cell_type": "code",
      "metadata": {
        "id": "7JJJTORHYkNv"
      },
      "source": [
        "def cal(p,t,r):return p*t*r/100"
      ],
      "execution_count": null,
      "outputs": []
    },
    {
      "cell_type": "code",
      "metadata": {
        "colab": {
          "base_uri": "https://localhost:8080/"
        },
        "id": "tLlqpN5FZLE4",
        "outputId": "629a4f82-a4b3-4733-91d5-ea9abb0fa8f3"
      },
      "source": [
        "cal(10,10,1)"
      ],
      "execution_count": null,
      "outputs": [
        {
          "output_type": "execute_result",
          "data": {
            "text/plain": [
              "1.0"
            ]
          },
          "metadata": {
            "tags": []
          },
          "execution_count": 11
        }
      ]
    },
    {
      "cell_type": "code",
      "metadata": {
        "id": "-XQru8YpZNis"
      },
      "source": [
        "def student(name, roll):\n",
        "  print(\"name: \",name)\n",
        "  print(\"roll: \",roll)"
      ],
      "execution_count": null,
      "outputs": []
    },
    {
      "cell_type": "code",
      "metadata": {
        "colab": {
          "base_uri": "https://localhost:8080/"
        },
        "id": "6L6XxXfYbagd",
        "outputId": "fb5a47d8-873d-4add-c2f4-82c6c9c82634"
      },
      "source": [
        "student(\"Hemanthsai\",3518)"
      ],
      "execution_count": null,
      "outputs": [
        {
          "output_type": "stream",
          "text": [
            "name:  Hemanthsai\n",
            "roll:  3518\n"
          ],
          "name": "stdout"
        }
      ]
    },
    {
      "cell_type": "code",
      "metadata": {
        "id": "bQjqujc-bdr_"
      },
      "source": [
        "def student(*args):\n",
        "  for i in args:\n",
        "    print(i)"
      ],
      "execution_count": null,
      "outputs": []
    },
    {
      "cell_type": "code",
      "metadata": {
        "colab": {
          "base_uri": "https://localhost:8080/"
        },
        "id": "qfxsyYubblPo",
        "outputId": "2975a52f-c1f4-40e6-9c93-32d1ea677776"
      },
      "source": [
        "student(\"Hemanthsai\",3518)"
      ],
      "execution_count": null,
      "outputs": [
        {
          "output_type": "stream",
          "text": [
            "Hemanthsai\n",
            "3518\n"
          ],
          "name": "stdout"
        }
      ]
    },
    {
      "cell_type": "code",
      "metadata": {
        "id": "hFfIHN5TboEv"
      },
      "source": [
        "def student(**kwargs):\n",
        "  print(kwargs['name'])\n",
        "  print(kwargs['roll'])"
      ],
      "execution_count": null,
      "outputs": []
    },
    {
      "cell_type": "code",
      "metadata": {
        "colab": {
          "base_uri": "https://localhost:8080/"
        },
        "id": "_LdK4eUibw8A",
        "outputId": "31507161-fa6f-4d6e-89c3-03e91b541f22"
      },
      "source": [
        "student(name=\"Hemanthsai\",roll=3518)"
      ],
      "execution_count": null,
      "outputs": [
        {
          "output_type": "stream",
          "text": [
            "name\n",
            "roll\n"
          ],
          "name": "stdout"
        }
      ]
    },
    {
      "cell_type": "code",
      "metadata": {
        "id": "hcgw_-4Cb0Ny"
      },
      "source": [
        "def student(**kwargs):\n",
        "  \"\"\"student function\"\"\"\n",
        "  for i in kwargs.items():\n",
        "    print(i)"
      ],
      "execution_count": null,
      "outputs": []
    },
    {
      "cell_type": "code",
      "metadata": {
        "colab": {
          "base_uri": "https://localhost:8080/"
        },
        "id": "akCQ1Ovvb8II",
        "outputId": "51f639db-ae3a-4310-fe74-27678eed2230"
      },
      "source": [
        "student(name=\"Hemanthsai\",roll=3518)"
      ],
      "execution_count": null,
      "outputs": [
        {
          "output_type": "stream",
          "text": [
            "('name', 'Hemanthsai')\n",
            "('roll', 3518)\n"
          ],
          "name": "stdout"
        }
      ]
    },
    {
      "cell_type": "code",
      "metadata": {
        "colab": {
          "base_uri": "https://localhost:8080/"
        },
        "id": "n4vbgT9tcBaX",
        "outputId": "60983704-9874-49d3-87fb-51c69ad79ab6"
      },
      "source": [
        "help(student)"
      ],
      "execution_count": null,
      "outputs": [
        {
          "output_type": "stream",
          "text": [
            "Help on function student in module __main__:\n",
            "\n",
            "student(**kwargs)\n",
            "    student function\n",
            "\n"
          ],
          "name": "stdout"
        }
      ]
    },
    {
      "cell_type": "markdown",
      "metadata": {
        "id": "aGFBJcTJE8to"
      },
      "source": [
        "# OOPs"
      ]
    },
    {
      "cell_type": "code",
      "metadata": {
        "id": "w6hTb0anejq-"
      },
      "source": [
        "class test:\n",
        "  def fun(self):\n",
        "    print(\"This is a function inside class\")"
      ],
      "execution_count": null,
      "outputs": []
    },
    {
      "cell_type": "code",
      "metadata": {
        "colab": {
          "base_uri": "https://localhost:8080/"
        },
        "id": "KzVS8DR4FL3K",
        "outputId": "bbbbc6c1-e6f7-45af-fbc6-ce83fe567052"
      },
      "source": [
        "test.fun()"
      ],
      "execution_count": null,
      "outputs": [
        {
          "output_type": "stream",
          "text": [
            "This is a function inside class\n"
          ],
          "name": "stdout"
        }
      ]
    },
    {
      "cell_type": "code",
      "metadata": {
        "id": "2vSBAWR3FP71"
      },
      "source": [
        "class test:\n",
        "  a=10\n",
        "  b=30\n",
        "  def fun(self):\n",
        "    print(\"This is a function inside class\")"
      ],
      "execution_count": null,
      "outputs": []
    },
    {
      "cell_type": "code",
      "metadata": {
        "id": "FU-m2bO0HBwp"
      },
      "source": [
        "o1 = test()"
      ],
      "execution_count": null,
      "outputs": []
    },
    {
      "cell_type": "code",
      "metadata": {
        "colab": {
          "base_uri": "https://localhost:8080/"
        },
        "id": "BZVR2_1HHDqA",
        "outputId": "7c29a199-b4b3-439f-bed2-f1ac721faae2"
      },
      "source": [
        "o1.a"
      ],
      "execution_count": null,
      "outputs": [
        {
          "output_type": "execute_result",
          "data": {
            "text/plain": [
              "10"
            ]
          },
          "metadata": {
            "tags": []
          },
          "execution_count": 24
        }
      ]
    },
    {
      "cell_type": "code",
      "metadata": {
        "colab": {
          "base_uri": "https://localhost:8080/"
        },
        "id": "iVhXPWu1HEf8",
        "outputId": "bc45f639-df91-48a9-e193-2c354837ef3a"
      },
      "source": [
        "o1.b"
      ],
      "execution_count": null,
      "outputs": [
        {
          "output_type": "execute_result",
          "data": {
            "text/plain": [
              "30"
            ]
          },
          "metadata": {
            "tags": []
          },
          "execution_count": 25
        }
      ]
    },
    {
      "cell_type": "code",
      "metadata": {
        "colab": {
          "base_uri": "https://localhost:8080/"
        },
        "id": "n5GGz3XwHFB4",
        "outputId": "24ace6bb-0b98-4621-86d1-35d31009ad29"
      },
      "source": [
        "o1.fun()"
      ],
      "execution_count": null,
      "outputs": [
        {
          "output_type": "stream",
          "text": [
            "This is a function inside class\n"
          ],
          "name": "stdout"
        }
      ]
    },
    {
      "cell_type": "code",
      "metadata": {
        "id": "DJv7Ws5MHG15",
        "colab": {
          "base_uri": "https://localhost:8080/"
        },
        "outputId": "055a58f7-6663-49e6-e616-330bc12a899e"
      },
      "source": [
        "class test:\n",
        "  def getdata(self,a,b):\n",
        "    self.a=10\n",
        "    self.b=20\n",
        "  def add(self):\n",
        "    print(self.a+self.b)\n",
        "t = test()\n",
        "t.getdata(300,400)\n",
        "t.add()"
      ],
      "execution_count": null,
      "outputs": [
        {
          "output_type": "stream",
          "text": [
            "30\n"
          ],
          "name": "stdout"
        }
      ]
    },
    {
      "cell_type": "code",
      "metadata": {
        "id": "1f2spP3OKCJV"
      },
      "source": [
        "class Person:\n",
        "  def __init__(self,name,age):\n",
        "    self.name=name\n",
        "    self.age=age\n",
        "  def display(self):\n",
        "    print(self.name,self.age)"
      ],
      "execution_count": null,
      "outputs": []
    },
    {
      "cell_type": "code",
      "metadata": {
        "id": "8K88pWaNK4H_"
      },
      "source": [
        "a1 = Person(\"Hemanthsai\",19)"
      ],
      "execution_count": null,
      "outputs": []
    },
    {
      "cell_type": "code",
      "metadata": {
        "colab": {
          "base_uri": "https://localhost:8080/"
        },
        "id": "Kxk93xiGK6PJ",
        "outputId": "038945ff-7e67-4652-f54b-792202e86ed7"
      },
      "source": [
        "a1.display()"
      ],
      "execution_count": null,
      "outputs": [
        {
          "output_type": "stream",
          "text": [
            "Hemanthsai 19\n"
          ],
          "name": "stdout"
        }
      ]
    },
    {
      "cell_type": "code",
      "metadata": {
        "colab": {
          "base_uri": "https://localhost:8080/"
        },
        "id": "glIr9xCuK9yL",
        "outputId": "cd814535-ffe0-422a-cbd3-3377802b8f15"
      },
      "source": [
        "class Arithmetic:\n",
        "  def __init__(self,a,b):\n",
        "    self.a=a\n",
        "    self.b=b\n",
        "  def add(self):\n",
        "    print(self.a+self.b)\n",
        "  def sub(self):\n",
        "    print(self.a-self.b)\n",
        "  def mult(self):\n",
        "    print(self.a*self.b)\n",
        "  def div(self):\n",
        "    print(self.a/self.b)\n",
        "  def mod(self):\n",
        "    print(self.a%self.b)\n",
        "\n",
        "a = Arithmetic(20,10)\n",
        "a.add()\n",
        "a.sub()\n",
        "a.mult()\n",
        "a.div()\n",
        "a.mod()"
      ],
      "execution_count": null,
      "outputs": [
        {
          "output_type": "stream",
          "text": [
            "30\n",
            "10\n",
            "200\n",
            "2.0\n",
            "0\n"
          ],
          "name": "stdout"
        }
      ]
    },
    {
      "cell_type": "code",
      "metadata": {
        "id": "6Ksq4vZuMUNu",
        "colab": {
          "base_uri": "https://localhost:8080/"
        },
        "outputId": "b65dcab6-3fc6-49c9-f749-71b00fc08c87"
      },
      "source": [
        "class emp:\n",
        "  def __init__(self,name):\n",
        "    self.name = name\n",
        "    print(\"Hello \",self.name)\n",
        "  def getdata(self,name):\n",
        "    print(self.name)\n",
        "  def __del__(self):\n",
        "    print(\"Good bye \",self.name)\n",
        "  \n",
        "e = emp(\"Hemanth\")\n",
        "print(type(e))\n",
        "e = \"sai\"\n",
        "print(type(e))\n",
        "print(e)"
      ],
      "execution_count": null,
      "outputs": [
        {
          "output_type": "stream",
          "text": [
            "Hello  Hemanth\n",
            "<class '__main__.emp'>\n",
            "Good bye  Hemanth\n",
            "<class 'str'>\n",
            "sai\n"
          ],
          "name": "stdout"
        }
      ]
    },
    {
      "cell_type": "code",
      "metadata": {
        "colab": {
          "base_uri": "https://localhost:8080/"
        },
        "id": "9TDmY18f67Hl",
        "outputId": "c971ee5d-77dd-4ec3-a255-fd93879304e6"
      },
      "source": [
        "class emp:\n",
        "  def __init__(self,name,age):\n",
        "    self.name = name\n",
        "    self.age = age\n",
        "  def show(self):\n",
        "    print(\"...\",self.age)\n",
        "\n",
        "e = emp(\"ghs\",20)\n",
        "e.show()"
      ],
      "execution_count": null,
      "outputs": [
        {
          "output_type": "stream",
          "text": [
            "... 20\n"
          ],
          "name": "stdout"
        }
      ]
    },
    {
      "cell_type": "code",
      "metadata": {
        "id": "OYfZrn-k_UOw"
      },
      "source": [
        "class A:\n",
        "  def __init__(self,x):\n",
        "    self.x = x\n",
        "\n",
        "class B(A):\n",
        "  pass"
      ],
      "execution_count": null,
      "outputs": []
    },
    {
      "cell_type": "code",
      "metadata": {
        "id": "0ESZZ9M-u5MH"
      },
      "source": [
        "obj = B(10)"
      ],
      "execution_count": null,
      "outputs": []
    },
    {
      "cell_type": "code",
      "metadata": {
        "colab": {
          "base_uri": "https://localhost:8080/"
        },
        "id": "Il4-KHi4u-D4",
        "outputId": "9618d58d-5a11-4de1-d25c-797d57de5b32"
      },
      "source": [
        "obj.x"
      ],
      "execution_count": null,
      "outputs": [
        {
          "output_type": "execute_result",
          "data": {
            "text/plain": [
              "10"
            ]
          },
          "metadata": {
            "tags": []
          },
          "execution_count": 10
        }
      ]
    },
    {
      "cell_type": "code",
      "metadata": {
        "colab": {
          "base_uri": "https://localhost:8080/"
        },
        "id": "tRNtRcOhvZls",
        "outputId": "75a9920b-85fb-45f2-a59f-dc033097bf2a"
      },
      "source": [
        "db = B(100,200)\n",
        "db.show()"
      ],
      "execution_count": null,
      "outputs": [
        {
          "output_type": "stream",
          "text": [
            "Sum of two values is :  300\n"
          ],
          "name": "stdout"
        }
      ]
    },
    {
      "cell_type": "code",
      "metadata": {
        "id": "kB4fw-rpw0YQ"
      },
      "source": [
        "class AI():\n",
        "  _name = None\n",
        "  _age = None\n",
        "  def __init__(self,name,age):\n",
        "    self.name = name\n",
        "    self.age = age\n",
        "  def showb(self):\n",
        "    print(\"Name : \",self.name)\n",
        "    print(\"Age : \",self.age)\n",
        "\n",
        "class details(AI):\n",
        "  def __init__(self,name,age, fn1, fn2):\n",
        "    AI.__init__(self,name,age)\n",
        "    self.fn1 = fn1\n",
        "    self.fn2 = fn2\n",
        "\n",
        "  def show(self):\n",
        "    print(\"Base name : \",self.name)\n",
        "    print(\"Base age : \",self.age)\n",
        "    print(\"fn1 : \",self.fn1)\n",
        "    print(\"fn2 : \",self.fn2)\n",
        "\n"
      ],
      "execution_count": null,
      "outputs": []
    },
    {
      "cell_type": "code",
      "metadata": {
        "id": "h0GyLmWC09Bi"
      },
      "source": [
        "s1 = details(\"Hemanthsai\",19,\"123\",\"456\")"
      ],
      "execution_count": null,
      "outputs": []
    },
    {
      "cell_type": "code",
      "metadata": {
        "colab": {
          "base_uri": "https://localhost:8080/"
        },
        "id": "W9NahZyp1AQl",
        "outputId": "156ae307-d3bc-4ad3-89f3-aa0ee6b0c83e"
      },
      "source": [
        "s1.show()"
      ],
      "execution_count": null,
      "outputs": [
        {
          "output_type": "stream",
          "text": [
            "Base name :  Hemanthsai\n",
            "Base age :  19\n",
            "fn1 :  123\n",
            "fn2 :  456\n"
          ],
          "name": "stdout"
        }
      ]
    },
    {
      "cell_type": "code",
      "metadata": {
        "id": "R4mRt-T71Bpb"
      },
      "source": [
        "class AI():\n",
        "  def __init__(self,name,age):\n",
        "    self.name = name\n",
        "    self.age = age\n",
        "  def showb(self):\n",
        "    print(\"Name : \",self.name)\n",
        "    print(\"Age : \",self.age)\n",
        "\n",
        "class details(AI):\n",
        "  def __init__(self,name,age, fn1, fn2):\n",
        "    AI.__init__(self,name,age)\n",
        "    self.fn1 = fn1\n",
        "    self.fn2 = fn2\n",
        "\n",
        "  def show(self):\n",
        "    print(\"Base name : \",self.name)\n",
        "    print(\"Base age : \",self.age)\n",
        "    print(\"fn1 : \",self.fn1)\n",
        "    print(\"fn2 : \",self.fn2)"
      ],
      "execution_count": null,
      "outputs": []
    },
    {
      "cell_type": "code",
      "metadata": {
        "id": "9awDx2Z13zDt"
      },
      "source": [
        "s1 = details(\"Hemanthsai\",19,\"123\",\"456\")"
      ],
      "execution_count": null,
      "outputs": []
    },
    {
      "cell_type": "code",
      "metadata": {
        "colab": {
          "base_uri": "https://localhost:8080/"
        },
        "id": "_t-_vtCe4Gmr",
        "outputId": "bb59cb90-06e7-454e-bee7-d3c1857a278b"
      },
      "source": [
        "s1.show()"
      ],
      "execution_count": null,
      "outputs": [
        {
          "output_type": "stream",
          "text": [
            "Base name :  Hemanthsai\n",
            "Base age :  19\n",
            "fn1 :  123\n",
            "fn2 :  456\n"
          ],
          "name": "stdout"
        }
      ]
    },
    {
      "cell_type": "code",
      "metadata": {
        "id": "ms9hy7Fz4Hov"
      },
      "source": [
        "class Base:\n",
        "  def __init__(self,name,age):\n",
        "    self.name = name\n",
        "    self.age = age\n",
        "  \n",
        "  def show(self):\n",
        "    print(\"Name : \",self.name)\n",
        "    print(\"Age : \",self.age)\n",
        "\n",
        "\n",
        "class Child(Base):\n",
        "  def __init__(self,name,age,roll):\n",
        "    Base.__init__(self,name,age)\n",
        "    self.roll = roll\n",
        "  \n",
        "  def data(self):\n",
        "    print(\"Name : \",self.name)\n",
        "    print(\"Age : \",self.age)\n",
        "    print(\"Roll : \",self.roll)"
      ],
      "execution_count": null,
      "outputs": []
    },
    {
      "cell_type": "code",
      "metadata": {
        "id": "DuEuvLrr6vMZ"
      },
      "source": [
        "s1 = Child(\"Hemanthsai\",19,18)"
      ],
      "execution_count": null,
      "outputs": []
    },
    {
      "cell_type": "code",
      "metadata": {
        "id": "SuriWOTF60Ju",
        "colab": {
          "base_uri": "https://localhost:8080/"
        },
        "outputId": "d9f57b90-0c9d-4130-b639-72462411692c"
      },
      "source": [
        "s1.data()"
      ],
      "execution_count": null,
      "outputs": [
        {
          "output_type": "stream",
          "text": [
            "Name :  Hemanthsai\n",
            "Age :  19\n",
            "Roll :  18\n"
          ],
          "name": "stdout"
        }
      ]
    },
    {
      "cell_type": "code",
      "metadata": {
        "id": "lv-uxfV561N8"
      },
      "source": [
        "class demoprivate"
      ],
      "execution_count": null,
      "outputs": []
    }
  ]
}