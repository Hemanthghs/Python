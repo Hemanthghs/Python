{
  "nbformat": 4,
  "nbformat_minor": 0,
  "metadata": {
    "colab": {
      "name": "EP_Assignment_Hemanthsai.ipynb",
      "provenance": [],
      "collapsed_sections": []
    },
    "kernelspec": {
      "name": "python3",
      "display_name": "Python 3"
    },
    "language_info": {
      "name": "python"
    }
  },
  "cells": [
    {
      "cell_type": "markdown",
      "metadata": {
        "id": "GXw22WqzQGBO"
      },
      "source": [
        "# Section 1\n"
      ]
    },
    {
      "cell_type": "markdown",
      "metadata": {
        "id": "m9wbGH2vHFVG"
      },
      "source": [
        "**1. Write a program to demonstrate all the Arithmetic operators**"
      ]
    },
    {
      "cell_type": "code",
      "metadata": {
        "colab": {
          "base_uri": "https://localhost:8080/"
        },
        "id": "r-j3WtUlGz0g",
        "outputId": "37b28234-c5e8-4074-eaa9-4d7246083768"
      },
      "source": [
        "a = int(input(\"Enter a : \"))\n",
        "b = int(input(\"Enter b : \"))\n",
        "print(\"Addition : \",a+b)\n",
        "print(\"Substraction : \",a-b)\n",
        "print(\"Multiplication : \",a*b)\n",
        "print(\"Division : \",a/b)\n",
        "print(\"Floor division : \",a//b)\n",
        "print(\"Modulus : \",a%b)\n",
        "print(\"a power b : \",a**b)\n"
      ],
      "execution_count": null,
      "outputs": [
        {
          "output_type": "stream",
          "text": [
            "Enter a : 1000\n",
            "Enter b : 20\n",
            "Addition :  1020\n",
            "Substraction :  980\n",
            "Multiplication :  20000\n",
            "Division :  50.0\n",
            "Floor division :  50\n",
            "Modulus :  0\n",
            "a power b :  1000000000000000000000000000000000000000000000000000000000000\n"
          ],
          "name": "stdout"
        }
      ]
    },
    {
      "cell_type": "markdown",
      "metadata": {
        "id": "_lDoWUaKHPyd"
      },
      "source": [
        "**2. Write a program to demonstrate all the Bitwise operators**"
      ]
    },
    {
      "cell_type": "code",
      "metadata": {
        "colab": {
          "base_uri": "https://localhost:8080/"
        },
        "id": "ZBX7qMaCHPcc",
        "outputId": "1f1a8aba-780d-47cf-a8a3-4474dda7ddb0"
      },
      "source": [
        "a = int(input(\"Enter a :\"))\n",
        "b = int(input(\"Enter b: \"))\n",
        "print(\"a AND b : \",a&b)\n",
        "print(\"a OR b : \",a|b)\n",
        "print(\"a XOR b : \",a^b)\n",
        "print(\"NOT a : \",~a)\n",
        "print(\"a left shift b : \",a<<b)\n",
        "print(\"a right shift b : \",a>>b)"
      ],
      "execution_count": null,
      "outputs": [
        {
          "output_type": "stream",
          "text": [
            "Enter a :120\n",
            "Enter b: 200\n",
            "a AND b :  72\n",
            "a OR b :  248\n",
            "a XOR b :  176\n",
            "NOT a :  -121\n",
            "a left shift b :  192832565311078833065035451080939512302664359253935140236165120\n",
            "a right shift b :  0\n"
          ],
          "name": "stdout"
        }
      ]
    },
    {
      "cell_type": "markdown",
      "metadata": {
        "id": "mJES_HPkHXSV"
      },
      "source": [
        "**3. Write a program to check whether a value is present in a sequence type, dictionary or set**"
      ]
    },
    {
      "cell_type": "code",
      "metadata": {
        "colab": {
          "base_uri": "https://localhost:8080/"
        },
        "id": "j4l1666qHin6",
        "outputId": "72b9fd40-ca99-4eac-c49d-91705d47a019"
      },
      "source": [
        "# list\n",
        "list_a = [10,345,23,45,50,60]\n",
        "a = int(input(\"Enter the value to check: \"))\n",
        "if a in list_a:\n",
        "  print(\"{} is present in the list\".format(a))\n",
        "else:\n",
        "  print(\"{} is not present in the list\".format(a))"
      ],
      "execution_count": null,
      "outputs": [
        {
          "output_type": "stream",
          "text": [
            "Enter the value to check: 345\n",
            "345 is present in the list\n"
          ],
          "name": "stdout"
        }
      ]
    },
    {
      "cell_type": "code",
      "metadata": {
        "colab": {
          "base_uri": "https://localhost:8080/"
        },
        "id": "nxW7ooFCMFM0",
        "outputId": "a2ed7f8d-3cd0-4125-bc0c-0154ce9059b2"
      },
      "source": [
        "# set\n",
        "set_a = {10, 20,234123, 345234, 8954495}\n",
        "a = int(input(\"Enter the value to check: \"))\n",
        "if a in set_a:\n",
        "  print(\"{} is present in the list\".format(a))\n",
        "else:\n",
        "  print(\"{} is no present in the list\".format(a))"
      ],
      "execution_count": null,
      "outputs": [
        {
          "output_type": "stream",
          "text": [
            "Enter the value to check: 8954495\n",
            "8954495 is present in the list\n"
          ],
          "name": "stdout"
        }
      ]
    },
    {
      "cell_type": "code",
      "metadata": {
        "colab": {
          "base_uri": "https://localhost:8080/"
        },
        "id": "q9LJkwpFMFDd",
        "outputId": "32ed6804-a491-41ac-8c15-d84290b95222"
      },
      "source": [
        "# dictionary\n",
        "dict_a = {\"a\":234,\"b\":45,\"c\":909,\"d\":5655}\n",
        "a = int(input(\"Enter the value to check: \"))\n",
        "if a in dict_a.values():\n",
        "  print(\"{} is present in the list\".format(a))\n",
        "else:\n",
        "  print(\"{} is no present in the list\".format(a))"
      ],
      "execution_count": null,
      "outputs": [
        {
          "output_type": "stream",
          "text": [
            "Enter the value to check: 5655\n",
            "5655 is present in the list\n"
          ],
          "name": "stdout"
        }
      ]
    },
    {
      "cell_type": "markdown",
      "metadata": {
        "id": "Um4kYhtoHpJG"
      },
      "source": [
        "**4. Write a program to check whether two variables are identical or not (use\n",
        "different types of variables and check)**"
      ]
    },
    {
      "cell_type": "code",
      "metadata": {
        "colab": {
          "base_uri": "https://localhost:8080/"
        },
        "id": "-q07R3xjHtNt",
        "outputId": "941664ea-f76a-4a8b-e270-0f2025030054"
      },
      "source": [
        "a = input(\"Enter a : \")\n",
        "b = input(\"Enter b :\")\n",
        "c = a\n",
        "\n",
        "if a is b:\n",
        "  print(\"Both a and b are identical\")\n",
        "else:\n",
        "  print(\"a and b are not identical\")\n",
        "\n",
        "if a is c:\n",
        "  print(\"Both a and c are identical\")\n",
        "else:\n",
        "  print(\"a and c are not identical\")"
      ],
      "execution_count": null,
      "outputs": [
        {
          "output_type": "stream",
          "text": [
            "Enter a : Hemanthsai\n",
            "Enter b :Hemanthsai\n",
            "a and b are not identical\n",
            "Both a and c are identical\n"
          ],
          "name": "stdout"
        }
      ]
    },
    {
      "cell_type": "markdown",
      "metadata": {
        "id": "Tnt9k5b2PFUg"
      },
      "source": [
        "**5. Write a program to read student’s name, age and cgpa and display details as\n",
        "follows:<br>\n",
        "Student Details:<br>\n",
        "Name : yourname<br>\n",
        "Age : 21<br>\n",
        "Cgpa : 8.9**<br>"
      ]
    },
    {
      "cell_type": "code",
      "metadata": {
        "colab": {
          "base_uri": "https://localhost:8080/"
        },
        "id": "xw7jw5GWNb0z",
        "outputId": "e461b589-3562-4245-e3c7-ef43b620836b"
      },
      "source": [
        "print(\"Enter the student data: \")\n",
        "name = input(\"Enter the name of the student : \")\n",
        "age = int(input(\"Enter the age of the student : \"))\n",
        "cgpa = float(input(\"Enter the cgpa of the student : \"))\n",
        "print(\"Name : \",name)\n",
        "print(\"Age : \",age)\n",
        "print(\"Cpga : \",cgpa)"
      ],
      "execution_count": null,
      "outputs": [
        {
          "output_type": "stream",
          "text": [
            "Enter the student data: \n",
            "Enter the name of the student : Hemanthsai\n",
            "Enter the age of the student : 19\n",
            "Enter the cgpa of the student : 9.37\n",
            "Name :  Hemanthsai\n",
            "Age :  19\n",
            "Cpga :  9.37\n"
          ],
          "name": "stdout"
        }
      ]
    },
    {
      "cell_type": "markdown",
      "metadata": {
        "id": "ztD4m-WSQMZy"
      },
      "source": [
        "# Section 2"
      ]
    },
    {
      "cell_type": "markdown",
      "metadata": {
        "id": "TGi6HEExQb5c"
      },
      "source": [
        "**1. A company decides to give bonus to all its employees on Diwali. A\n",
        "5% bonus on salary is given to male workers and 10% bonus on . salary to the female workers. Write a program to enter salary and\n",
        "gender of the employee and display the salary of the employee after\n",
        "getting the bonus along with their details.**"
      ]
    },
    {
      "cell_type": "code",
      "metadata": {
        "colab": {
          "base_uri": "https://localhost:8080/"
        },
        "id": "SRTqS-mEP1wa",
        "outputId": "50875275-ddd8-487f-feaf-7e44c8690314"
      },
      "source": [
        "salary = float(input(\"Enter salary : \"))\n",
        "ename = input(\"Enter employee name : \")\n",
        "gender = input(\"Enter gender (M or F) : \")\n",
        "\n",
        "if gender == 'M':\n",
        "  bonus = salary/100 * 5\n",
        "elif gender == 'F':\n",
        "  bonus = salary/100 * 10\n",
        "else:\n",
        "  print(\"Incorrect input\")\n",
        "\n",
        "print(\"\\nEmployee salary details\")\n",
        "print(\"Bonus : \",bonus)\n",
        "print(\"Employee name : \",ename)\n",
        "print(\"Total : \",salary+bonus)"
      ],
      "execution_count": null,
      "outputs": [
        {
          "output_type": "stream",
          "text": [
            "Enter salary : 190000\n",
            "Enter employee name : Hemanthsai\n",
            "Enter gender (M or F) : M\n",
            "\n",
            "Employee salary details\n",
            "Bonus :  9500.0\n",
            "Employee name :  Hemanthsai\n",
            "Total :  199500.0\n"
          ],
          "name": "stdout"
        }
      ]
    },
    {
      "cell_type": "markdown",
      "metadata": {
        "id": "rb_SkrFwS3hk"
      },
      "source": [
        "**Write program to enter a number and then calculate sum of digits**"
      ]
    },
    {
      "cell_type": "code",
      "metadata": {
        "colab": {
          "base_uri": "https://localhost:8080/"
        },
        "id": "n_F8i_XVSEtl",
        "outputId": "99988ede-ae09-4e95-9657-113fdec0aea4"
      },
      "source": [
        "a = int(input(\"Enter a : \"))\n",
        "sum=0\n",
        "while(a!=0):\n",
        "  rem = a%10\n",
        "  sum=sum+rem\n",
        "  a=a//10\n",
        "print(sum)"
      ],
      "execution_count": null,
      "outputs": [
        {
          "output_type": "stream",
          "text": [
            "Enter a : 12345\n",
            "15\n"
          ],
          "name": "stdout"
        }
      ]
    },
    {
      "cell_type": "markdown",
      "metadata": {
        "id": "4D0uLf3sU-ck"
      },
      "source": [
        "<b>2. Write a program to print multiplication table of n, where n is entered\n",
        "by the user</b>"
      ]
    },
    {
      "cell_type": "code",
      "metadata": {
        "colab": {
          "base_uri": "https://localhost:8080/"
        },
        "id": "ekN42Q7FTFDm",
        "outputId": "04071154-ec2d-496c-e160-98576a375e4f"
      },
      "source": [
        "n = int(input(\"Enter n :\"))\n",
        "print(\"Multiplication of {}:\".format())\n",
        "for j in range(1,11):\n",
        "  print(\"{} x {} = {}\".format(n,j,j*n))"
      ],
      "execution_count": null,
      "outputs": [
        {
          "output_type": "stream",
          "text": [
            "Enter n :25\n",
            "\n",
            "25 x 1 = 25\n",
            "25 x 2 = 50\n",
            "25 x 3 = 75\n",
            "25 x 4 = 100\n",
            "25 x 5 = 125\n",
            "25 x 6 = 150\n",
            "25 x 7 = 175\n",
            "25 x 8 = 200\n",
            "25 x 9 = 225\n",
            "25 x 10 = 250\n"
          ],
          "name": "stdout"
        }
      ]
    },
    {
      "cell_type": "markdown",
      "metadata": {
        "id": "HpH9BjUqW80b"
      },
      "source": [
        "<b>4. Write a program to determine whether the character entered is a\n",
        "vowel or not</b>"
      ]
    },
    {
      "cell_type": "code",
      "metadata": {
        "colab": {
          "base_uri": "https://localhost:8080/"
        },
        "id": "Ix31RG5GTLev",
        "outputId": "3df23083-aa6c-4495-a70e-a332156c5da3"
      },
      "source": [
        "vowels = \"aeiouAEIOU\"\n",
        "a = input(\"Enter any letter : \")\n",
        "if a in vowels:\n",
        "  print(\"{} is a vowel\".format(a))\n",
        "else:\n",
        "  print(\"{} is not a vowel\".format(a))"
      ],
      "execution_count": null,
      "outputs": [
        {
          "output_type": "stream",
          "text": [
            "Enter any letter : E\n",
            "E is a vowel\n"
          ],
          "name": "stdout"
        }
      ]
    },
    {
      "cell_type": "markdown",
      "metadata": {
        "id": "j296fHXLXdQa"
      },
      "source": [
        "<b>5. Write a program to calculate sum of numbers from m to n and if m>n\n",
        "display error message (Use while loop)</b>"
      ]
    },
    {
      "cell_type": "code",
      "metadata": {
        "colab": {
          "base_uri": "https://localhost:8080/"
        },
        "id": "6VwohS_OXZAw",
        "outputId": "c201ed33-d089-4a8f-f9c2-c76b48a23ba0"
      },
      "source": [
        "m = int(input(\"Enter m : \"))\n",
        "n = int(input(\"Enter n : \"))\n",
        "if m>n:\n",
        "  print(\"Error m cannot be greater that n\")\n",
        "else:\n",
        "  sum=0\n",
        "  i=m\n",
        "  while(i<=n):\n",
        "    sum=sum+i;\n",
        "    i=i+1\n",
        "  print(\"Sum of numbers from {} to {} is : {}\".format(m,n,sum))"
      ],
      "execution_count": null,
      "outputs": [
        {
          "output_type": "stream",
          "text": [
            "Enter m : 21\n",
            "Enter n : 30\n",
            "Sum of numbers from 21 to 30 is : 255\n"
          ],
          "name": "stdout"
        }
      ]
    },
    {
      "cell_type": "markdown",
      "metadata": {
        "id": "jRnRRehZY296"
      },
      "source": [
        "<b>6. Write a program to generate the sequence 1, 3, 5, 7, 9… read n value.\n",
        "Use for loop\n",
        "</b>"
      ]
    },
    {
      "cell_type": "code",
      "metadata": {
        "colab": {
          "base_uri": "https://localhost:8080/"
        },
        "id": "uvbBbud0YsTs",
        "outputId": "df316279-3f28-4f82-e99d-38c4393fed92"
      },
      "source": [
        "n = int(input(\"Enter n value : \"))\n",
        "for i in range(1,n+1):\n",
        "  print(2*i-1,end=', ')"
      ],
      "execution_count": null,
      "outputs": [
        {
          "output_type": "stream",
          "text": [
            "Enter n value : 30\n",
            "1, 3, 5, 7, 9, 11, 13, 15, 17, 19, 21, 23, 25, 27, 29, 31, 33, 35, 37, 39, 41, 43, 45, 47, 49, 51, 53, 55, 57, 59, "
          ],
          "name": "stdout"
        }
      ]
    },
    {
      "cell_type": "markdown",
      "metadata": {
        "id": "wdM7_OGyaDsT"
      },
      "source": [
        "<b>7. Write a program to print the following pattern.\n",
        "\n",
        "1<br>\n",
        "1 2<br>\n",
        "1 2 3<br>\n",
        "1 2 3 4</b>"
      ]
    },
    {
      "cell_type": "code",
      "metadata": {
        "colab": {
          "base_uri": "https://localhost:8080/"
        },
        "id": "3HutCeD5ZdyS",
        "outputId": "f063a08a-292a-4e82-89ee-9cb634539021"
      },
      "source": [
        "for i in range(1,5):\n",
        "  for j in range(1,i+1):\n",
        "    print(j,\" \",end='')\n",
        "  print()"
      ],
      "execution_count": null,
      "outputs": [
        {
          "output_type": "stream",
          "text": [
            "1  \n",
            "1  2  \n",
            "1  2  3  \n",
            "1  2  3  4  \n"
          ],
          "name": "stdout"
        }
      ]
    },
    {
      "cell_type": "markdown",
      "metadata": {
        "id": "UHx6aFlZa8Gi"
      },
      "source": [
        "# Section 3"
      ]
    },
    {
      "cell_type": "markdown",
      "metadata": {
        "id": "BwMSm0h2ba4p"
      },
      "source": [
        "<b>1. Write a program to demonstrate string traversal using indexing\n",
        "</b>"
      ]
    },
    {
      "cell_type": "code",
      "metadata": {
        "colab": {
          "base_uri": "https://localhost:8080/"
        },
        "id": "HL7EKoNMaaHR",
        "outputId": "7f9f17b5-4e9a-4aa4-f711-a0db202f77b4"
      },
      "source": [
        "s = input(\"Enter a string : \")\n",
        "print(\"The string is : \")\n",
        "for i in range(len(s)):\n",
        "  print(s[i],end='')"
      ],
      "execution_count": null,
      "outputs": [
        {
          "output_type": "stream",
          "text": [
            "Enter a string : My name is Hemanthsai\n",
            "The string is : \n",
            "My name is Hemanthsai"
          ],
          "name": "stdout"
        }
      ]
    },
    {
      "cell_type": "markdown",
      "metadata": {
        "id": "XM-oqMMGcmrh"
      },
      "source": [
        "<b>2. Write a program to demonstrate slicing on strings</b>"
      ]
    },
    {
      "cell_type": "code",
      "metadata": {
        "colab": {
          "base_uri": "https://localhost:8080/"
        },
        "id": "ZRSqllpZcYwD",
        "outputId": "764b7e61-242f-459e-e3a6-11d4d637e03e"
      },
      "source": [
        "s = \"Artificial Intelligence\"\n",
        "\n",
        "print(s[:])\n",
        "print(s[::])\n",
        "print(s[0])\n",
        "print(s[-1])\n",
        "print(s[0:])\n",
        "print(s[:-1])\n",
        "print(s[0:6])\n",
        "print(s[0::2])\n",
        "print(s[0:10:2])\n",
        "print(\"String reverse: \",s[::-1])\n",
        "\n"
      ],
      "execution_count": null,
      "outputs": [
        {
          "output_type": "stream",
          "text": [
            "Artificial Intelligence\n",
            "Artificial Intelligence\n",
            "A\n",
            "e\n",
            "Artificial Intelligence\n",
            "Artificial Intelligenc\n",
            "Artifi\n",
            "Atfca nelgne\n",
            "Atfca\n",
            "String reverse:  ecnegilletnI laicifitrA\n"
          ],
          "name": "stdout"
        }
      ]
    },
    {
      "cell_type": "markdown",
      "metadata": {
        "id": "eKVGRKo2djsC"
      },
      "source": [
        "<b>3. Write a program to print the following pattern\n",
        "\n",
        "A<br>\n",
        "AB<br>\n",
        "ABC<br>\n",
        "ABCD<br>\n",
        "</b>"
      ]
    },
    {
      "cell_type": "code",
      "metadata": {
        "colab": {
          "base_uri": "https://localhost:8080/"
        },
        "id": "UFkzOocidSZS",
        "outputId": "5962a6a3-7e48-490f-ced4-887390e3b4fa"
      },
      "source": [
        "n = int(input(\"Enter n : \"))\n",
        "for i in range(ord('A'),ord('A')+n):\n",
        "  for j in range(ord('A'),i+1):\n",
        "    print(chr(j),end='')\n",
        "  print()"
      ],
      "execution_count": null,
      "outputs": [
        {
          "output_type": "stream",
          "text": [
            "Enter n : 4\n",
            "A\n",
            "AB\n",
            "ABC\n",
            "ABCD\n"
          ],
          "name": "stdout"
        }
      ]
    },
    {
      "cell_type": "markdown",
      "metadata": {
        "id": "MpLzNMp8hQ7x"
      },
      "source": [
        "<b>4. Write a program that takes user’s name, phone number and PAN card\n",
        "number as input. Validate the information using isX function and print\n",
        "the details.</b>"
      ]
    },
    {
      "cell_type": "code",
      "metadata": {
        "id": "FA8JeiJbgXMa"
      },
      "source": [
        "def get_data():\n",
        "  username = input(\"Enter username : \")\n",
        "  phone = input(\"Enter phone number : \")\n",
        "  pan = input(\"Enter the PAN card number : \")\n",
        "\n",
        "  print(\"\\nUser data\\n\")\n",
        "  if username.isalnum():\n",
        "    print(\"Username : \",username)\n",
        "  else:\n",
        "    print(\"Invalid username, Username must be alphanumeric, Spaces are not allowed\")\n",
        "\n",
        "  if phone.isnumeric() and len(phone)==10:\n",
        "    print(\"Phone number : \",phone)\n",
        "  else:\n",
        "    print(\"Invalid phone number, Must be numeric and 10 digit\")\n",
        "\n",
        "  if pan.isalnum() and len(pan)==10:\n",
        "    print(\"PAN card number : \",pan)\n",
        "  else:\n",
        "    print(\"Invalid PAN card number. Must be alphanumeric and 10 digit\")\n"
      ],
      "execution_count": null,
      "outputs": []
    },
    {
      "cell_type": "code",
      "metadata": {
        "colab": {
          "base_uri": "https://localhost:8080/"
        },
        "id": "qNDtE2Sij3xu",
        "outputId": "a9b1bc40-318f-4b89-a61d-086459eecaa7"
      },
      "source": [
        "get_data()"
      ],
      "execution_count": null,
      "outputs": [
        {
          "output_type": "stream",
          "text": [
            "Enter username : hemanthsai\n",
            "Enter phone number : 7995245997\n",
            "Enter the PAN card number : 1234567890\n",
            "\n",
            "User data\n",
            "\n",
            "Username :  hemanthsai\n",
            "Phone number :  7995245997\n",
            "PAN card number :  1234567890\n"
          ],
          "name": "stdout"
        }
      ]
    },
    {
      "cell_type": "code",
      "metadata": {
        "colab": {
          "base_uri": "https://localhost:8080/"
        },
        "id": "OO3OMzHdkT79",
        "outputId": "d0d7f270-97ab-49ef-c3b6-4bcb695d8d5a"
      },
      "source": [
        "get_data()"
      ],
      "execution_count": null,
      "outputs": [
        {
          "output_type": "stream",
          "text": [
            "Enter username : hemanth sai\n",
            "Enter phone number : 12345\n",
            "Enter the PAN card number : 890\n",
            "\n",
            "User data\n",
            "\n",
            "Invalid username, Username must be alphanumeric, Spaces are not allowed\n",
            "Invalid phone number, Must be numeric and 10 digit\n",
            "Invalid PAN card number. Must be alphanumeric and 10 digit\n"
          ],
          "name": "stdout"
        }
      ]
    },
    {
      "cell_type": "markdown",
      "metadata": {
        "id": "SvcIRjx3mO33"
      },
      "source": [
        "<b>5. Write a program that accepts a string from user and displays the same\n",
        "string after removing vowels from it</b>"
      ]
    },
    {
      "cell_type": "code",
      "metadata": {
        "colab": {
          "base_uri": "https://localhost:8080/"
        },
        "id": "G5cuUMewkecO",
        "outputId": "4a0b84c8-aa71-470d-c290-70987a37b0d2"
      },
      "source": [
        "s1 = input(\"Enter a string : \")\n",
        "vowels = \"aeiouAEIOU\"\n",
        "s2 = \"\"\n",
        "for i in s1:\n",
        "  if i not in vowels:\n",
        "    s2=s2+i\n",
        "\n",
        "print(\"String without vowels : \",s2)"
      ],
      "execution_count": null,
      "outputs": [
        {
          "output_type": "stream",
          "text": [
            "Enter a string : Essentials of Python\n",
            "String without vowels :  ssntls f Pythn\n"
          ],
          "name": "stdout"
        }
      ]
    },
    {
      "cell_type": "markdown",
      "metadata": {
        "id": "R6R5_XMOn0rX"
      },
      "source": [
        "<b>6. Write a program that reads a string and displays the number of\n",
        "occurrences of each character in the entered string</b>"
      ]
    },
    {
      "cell_type": "code",
      "metadata": {
        "colab": {
          "base_uri": "https://localhost:8080/"
        },
        "id": "_UC4p9H2mAEQ",
        "outputId": "8696521d-ea7e-46fa-f0f5-4985316713c7"
      },
      "source": [
        "s1 = input(\"Enter a string : \")\n",
        "s2 = \"\"\n",
        "for i in s1:\n",
        "  if i not in s2:\n",
        "    s2=s2+i\n",
        "\n",
        "for i in s2:\n",
        "  count=s1.count(i)\n",
        "  print(\"Number of occurences of {} : {}\".format(i,count))"
      ],
      "execution_count": null,
      "outputs": [
        {
          "output_type": "stream",
          "text": [
            "Enter a string : aabbbcccc\n",
            "Number of occurences of a : 2\n",
            "Number of occurences of b : 3\n",
            "Number of occurences of c : 4\n"
          ],
          "name": "stdout"
        }
      ]
    },
    {
      "cell_type": "markdown",
      "metadata": {
        "id": "EGGuDeIkrPJX"
      },
      "source": [
        "<b>7. Write a program to illustrate upper(), lower(), find(),split(),join(), and\n",
        "replace() methods on a string object</b>"
      ]
    },
    {
      "cell_type": "code",
      "metadata": {
        "colab": {
          "base_uri": "https://localhost:8080/"
        },
        "id": "d7nvScTgo2gI",
        "outputId": "ef5e4577-2635-498f-eac8-8355f7b77bbe"
      },
      "source": [
        "s = \"Hemanthsai\"\n",
        "print(\".upper() : \",s.upper())\n",
        "print() \n",
        "\n",
        "s=\"hEmAnThSaI\"\n",
        "print(\".lower() : \",s.lower())\n",
        "print()\n",
        "\n",
        "s = \"Vidya Jyothi Institute of Technology\"\n",
        "print(\"find J : \",s.find(\"J\"))\n",
        "print(\"find Jyothi : \",s.find(\"Jyothi\"))\n",
        "print(\"find j : \",s.find(\"j\"))\n",
        "print(\"find Tech : \",s.find(\"Tech\"))\n",
        "print(\"find i between index 6 to end : \",s.find(\"i\",6))\n",
        "print()\n",
        "\n",
        "s = \"Vidya Jyothi Institute of Technology\"\n",
        "print(\"Split with space : \",s.split())\n",
        "s = \"1,2,3,4,5,6,7,8,9,10\"\n",
        "print(\"Split with ',' : \",s.split(','))\n",
        "print()\n",
        "\n",
        "s = \"AAAAA BBBBB CCCCC DDDD\"\n",
        "print(s.replace(\"A\",\"a\"))\n",
        "print(s.replace(\"B\",\"b\"))\n",
        "print(s.replace(\" \",\"+\"))\n",
        "print(s.replace(\"A\",'@',2))\n",
        "print(s.replace(\"D\",\"d\",3))\n",
        "print(s.replace(\"CCC\",\"DDD\"))\n",
        "print()\n",
        "\n",
        "s1 = \"My\"\n",
        "s2 = \"name\"\n",
        "s3 = \"is\"\n",
        "s4 = \"Hemantsai\"\n",
        "print(\" \".join((s1,s2,s3,s4)))\n",
        "print(\"+\".join((s1,s2,s3,s4)))\n",
        "print(\".\".join((s1,s2,s3,s4)))\n",
        "print(\"^\".join((s1,s2,s3,s4)))\n"
      ],
      "execution_count": null,
      "outputs": [
        {
          "output_type": "stream",
          "text": [
            ".upper() :  HEMANTHSAI\n",
            "\n",
            ".lower() :  hemanthsai\n",
            "\n",
            "find J :  6\n",
            "find Jyothi :  6\n",
            "find j :  -1\n",
            "find Tech :  26\n",
            "find i between index 6 to end :  11\n",
            "\n",
            "Split with space :  ['Vidya', 'Jyothi', 'Institute', 'of', 'Technology']\n",
            "Split with ',' :  ['1', '2', '3', '4', '5', '6', '7', '8', '9', '10']\n",
            "\n",
            "aaaaa BBBBB CCCCC DDDD\n",
            "AAAAA bbbbb CCCCC DDDD\n",
            "AAAAA+BBBBB+CCCCC+DDDD\n",
            "@@AAA BBBBB CCCCC DDDD\n",
            "AAAAA BBBBB CCCCC dddD\n",
            "AAAAA BBBBB DDDCC DDDD\n",
            "\n",
            "My name is Hemantsai\n",
            "My+name+is+Hemantsai\n",
            "My.name.is.Hemantsai\n",
            "My^name^is^Hemantsai\n"
          ],
          "name": "stdout"
        }
      ]
    },
    {
      "cell_type": "markdown",
      "metadata": {
        "id": "bxE-YhEF1PVm"
      },
      "source": [
        "<b>8. Write a program to check whether a string is a palindrome or not</b>"
      ]
    },
    {
      "cell_type": "code",
      "metadata": {
        "id": "FoagsFdu0y9e"
      },
      "source": [
        "def isPalindrome(s):\n",
        "  if s == s[::-1]:\n",
        "    print(\"Palindrome\")\n",
        "  else:\n",
        "    print(\"Not a Palindrome\")"
      ],
      "execution_count": null,
      "outputs": []
    },
    {
      "cell_type": "code",
      "metadata": {
        "colab": {
          "base_uri": "https://localhost:8080/"
        },
        "id": "WsjOpxqy4F2h",
        "outputId": "cfaca957-a3c9-4e45-9452-2e7298fb9022"
      },
      "source": [
        "isPalindrome(\"Hemanthsai\")"
      ],
      "execution_count": null,
      "outputs": [
        {
          "output_type": "stream",
          "text": [
            "Not a Palindrome\n"
          ],
          "name": "stdout"
        }
      ]
    },
    {
      "cell_type": "code",
      "metadata": {
        "colab": {
          "base_uri": "https://localhost:8080/"
        },
        "id": "69D8rkus4kMQ",
        "outputId": "ff721cb7-097c-4372-98b4-c46092b495b2"
      },
      "source": [
        "isPalindrome(\"1111221111\")"
      ],
      "execution_count": null,
      "outputs": [
        {
          "output_type": "stream",
          "text": [
            "Palindrome\n"
          ],
          "name": "stdout"
        }
      ]
    },
    {
      "cell_type": "code",
      "metadata": {
        "colab": {
          "base_uri": "https://localhost:8080/"
        },
        "id": "kJZ4L0yr4mGB",
        "outputId": "5c90e06d-78a3-4130-e531-ed915bcba13a"
      },
      "source": [
        "isPalindrome(\"AACCAA\")"
      ],
      "execution_count": null,
      "outputs": [
        {
          "output_type": "stream",
          "text": [
            "Palindrome\n"
          ],
          "name": "stdout"
        }
      ]
    },
    {
      "cell_type": "markdown",
      "metadata": {
        "id": "4BTBrrc04t3E"
      },
      "source": [
        "<b>9. Write a program that takes list of words and print the longest word\n",
        "along with its length</b>"
      ]
    },
    {
      "cell_type": "code",
      "metadata": {
        "colab": {
          "base_uri": "https://localhost:8080/"
        },
        "id": "WJz9mUtj4r7u",
        "outputId": "5d10ce6f-d087-426a-c652-032dcf21370d"
      },
      "source": [
        "word_list = input(\"Enter words (space seperated) : \").split()\n",
        "\n",
        "long_word = word_list[0]\n",
        "\n",
        "for i in word_list:\n",
        "  if len(long_word) <= len(i):\n",
        "    long_word = i\n",
        "\n",
        "print(\"Longed word is : '{}' of length : '{}'\".format(long_word,len(long_word)))"
      ],
      "execution_count": null,
      "outputs": [
        {
          "output_type": "stream",
          "text": [
            "Enter words (space seperated) : My name is Hemanth Sai\n",
            "Longed word is : 'Hemanth' of length : '7'\n"
          ],
          "name": "stdout"
        }
      ]
    },
    {
      "cell_type": "markdown",
      "metadata": {
        "id": "-dxZArwn6EZE"
      },
      "source": [
        "<b>10. Write a program to count number of characters, words and lines in the\n",
        "given string</b>"
      ]
    },
    {
      "cell_type": "code",
      "metadata": {
        "colab": {
          "base_uri": "https://localhost:8080/"
        },
        "id": "My2TIkxa5A3v",
        "outputId": "94621624-f760-4e65-eb65-7f77fec7e485"
      },
      "source": [
        "s = \"My name is Hemanthsai \\nI am studying B.Tech 2nd year \\nCollege VJIT \\nBranch Artificial Intelligence\"\n",
        "print(s)"
      ],
      "execution_count": null,
      "outputs": [
        {
          "output_type": "stream",
          "text": [
            "My name is Hemanthsai \n",
            "I am studying B.Tech 2nd year \n",
            "College VJIT \n",
            "Branch Artificial Intelligence\n"
          ],
          "name": "stdout"
        }
      ]
    },
    {
      "cell_type": "code",
      "metadata": {
        "colab": {
          "base_uri": "https://localhost:8080/"
        },
        "id": "-vs5LRAB6xT0",
        "outputId": "8c1b9e0d-80e2-4986-805c-53ab13ad9c68"
      },
      "source": [
        "print(\"Number of characters : \",len(s))\n",
        "print(\"Number of words : \",len(s.split()))\n",
        "print(\"Number of lines : \",s.count(\"\\n\")+1)"
      ],
      "execution_count": null,
      "outputs": [
        {
          "output_type": "stream",
          "text": [
            "Number of characters :  98\n",
            "Number of words :  15\n",
            "Number of lines :  4\n"
          ],
          "name": "stdout"
        }
      ]
    },
    {
      "cell_type": "markdown",
      "metadata": {
        "id": "9d0g-ETT7qiD"
      },
      "source": [
        "# Section 4\n",
        "<b> Programs on Functions</b>"
      ]
    },
    {
      "cell_type": "markdown",
      "metadata": {
        "id": "BLSFpOynT5lz"
      },
      "source": [
        "<b>1. Write a program using function ,which takes hours and minute and return\n",
        "time in minutes</b>"
      ]
    },
    {
      "cell_type": "code",
      "metadata": {
        "id": "rG8em4FaTccv"
      },
      "source": [
        "def get_minutes(hr,min):\n",
        "  return hr*60 + min"
      ],
      "execution_count": 3,
      "outputs": []
    },
    {
      "cell_type": "code",
      "metadata": {
        "colab": {
          "base_uri": "https://localhost:8080/"
        },
        "id": "_qFhTlK_ULsW",
        "outputId": "437a0875-7f86-454c-f0cc-0a9d5cb1854f"
      },
      "source": [
        "get_minutes(24,0)"
      ],
      "execution_count": 4,
      "outputs": [
        {
          "output_type": "execute_result",
          "data": {
            "text/plain": [
              "1440"
            ]
          },
          "metadata": {
            "tags": []
          },
          "execution_count": 4
        }
      ]
    },
    {
      "cell_type": "code",
      "metadata": {
        "colab": {
          "base_uri": "https://localhost:8080/"
        },
        "id": "Y5Y7Kh1aUY2M",
        "outputId": "c7952462-a2de-463c-b03f-feeac1f5b17d"
      },
      "source": [
        "get_minutes(248374,938460)"
      ],
      "execution_count": 9,
      "outputs": [
        {
          "output_type": "execute_result",
          "data": {
            "text/plain": [
              "15840900"
            ]
          },
          "metadata": {
            "tags": []
          },
          "execution_count": 9
        }
      ]
    },
    {
      "cell_type": "code",
      "metadata": {
        "colab": {
          "base_uri": "https://localhost:8080/"
        },
        "id": "GhtsPXacUdEy",
        "outputId": "5624b810-e992-44be-c5d1-4c968d95dcc2"
      },
      "source": [
        "get_minutes(78675,8987)"
      ],
      "execution_count": 10,
      "outputs": [
        {
          "output_type": "execute_result",
          "data": {
            "text/plain": [
              "4729487"
            ]
          },
          "metadata": {
            "tags": []
          },
          "execution_count": 10
        }
      ]
    },
    {
      "cell_type": "markdown",
      "metadata": {
        "id": "rVWREGuNUo0D"
      },
      "source": [
        "<b>2. Write program that finds greatest of 3 numbers using functions. Pass the\n",
        "numbers as arguments\n",
        "</b>"
      ]
    },
    {
      "cell_type": "code",
      "metadata": {
        "id": "k_zWXlVDUixK"
      },
      "source": [
        "def get_greatest(a,b,c):\n",
        "  if a>=b and a>=c:\n",
        "    return a\n",
        "  elif b>=a and b>=c:\n",
        "    return b\n",
        "  else:\n",
        "    return c"
      ],
      "execution_count": 11,
      "outputs": []
    },
    {
      "cell_type": "code",
      "metadata": {
        "colab": {
          "base_uri": "https://localhost:8080/"
        },
        "id": "51oR-7eMVB72",
        "outputId": "a5b2085d-3558-4411-d56f-e216ed1161bf"
      },
      "source": [
        "get_greatest(1923,12345343,8595)"
      ],
      "execution_count": 12,
      "outputs": [
        {
          "output_type": "execute_result",
          "data": {
            "text/plain": [
              "12345343"
            ]
          },
          "metadata": {
            "tags": []
          },
          "execution_count": 12
        }
      ]
    },
    {
      "cell_type": "code",
      "metadata": {
        "colab": {
          "base_uri": "https://localhost:8080/"
        },
        "id": "x12eJNH0VF4j",
        "outputId": "025ea385-7633-4a23-d9d9-f6c07a93351a"
      },
      "source": [
        "get_greatest(-123123123,-3123123,0)"
      ],
      "execution_count": 13,
      "outputs": [
        {
          "output_type": "execute_result",
          "data": {
            "text/plain": [
              "0"
            ]
          },
          "metadata": {
            "tags": []
          },
          "execution_count": 13
        }
      ]
    },
    {
      "cell_type": "markdown",
      "metadata": {
        "id": "X3lTdle1VLky"
      },
      "source": [
        "<b>3. Write a function is_prime() that returns 1 if the argument passed to it is a\n",
        "prime number and 0 otherwise</b>"
      ]
    },
    {
      "cell_type": "code",
      "metadata": {
        "id": "zVX8YP3LVKVO"
      },
      "source": [
        "import math\n",
        "def is_prime(n):\n",
        "  if n==0 or n==1:\n",
        "    return 0\n",
        "  else:\n",
        "    for i in range(2,int(math.sqrt(n))):\n",
        "      if(n%i==0):\n",
        "        return 0\n",
        "    \n",
        "    return 1"
      ],
      "execution_count": 17,
      "outputs": []
    },
    {
      "cell_type": "code",
      "metadata": {
        "colab": {
          "base_uri": "https://localhost:8080/"
        },
        "id": "r7mkZLFDWJtz",
        "outputId": "4cbabfeb-0a78-4333-868f-a36ee2a7414e"
      },
      "source": [
        "is_prime(97)"
      ],
      "execution_count": 18,
      "outputs": [
        {
          "output_type": "execute_result",
          "data": {
            "text/plain": [
              "1"
            ]
          },
          "metadata": {
            "tags": []
          },
          "execution_count": 18
        }
      ]
    },
    {
      "cell_type": "code",
      "metadata": {
        "colab": {
          "base_uri": "https://localhost:8080/"
        },
        "id": "HJZXQEG0WLhe",
        "outputId": "b189ca74-18b3-464b-db7b-58b89b171219"
      },
      "source": [
        "is_prime(2)"
      ],
      "execution_count": 19,
      "outputs": [
        {
          "output_type": "execute_result",
          "data": {
            "text/plain": [
              "1"
            ]
          },
          "metadata": {
            "tags": []
          },
          "execution_count": 19
        }
      ]
    },
    {
      "cell_type": "code",
      "metadata": {
        "colab": {
          "base_uri": "https://localhost:8080/"
        },
        "id": "y270w3nSWROm",
        "outputId": "d5b526e4-9671-4e21-c627-4db7c5314463"
      },
      "source": [
        "is_prime(10)"
      ],
      "execution_count": 21,
      "outputs": [
        {
          "output_type": "execute_result",
          "data": {
            "text/plain": [
              "0"
            ]
          },
          "metadata": {
            "tags": []
          },
          "execution_count": 21
        }
      ]
    },
    {
      "cell_type": "code",
      "metadata": {
        "colab": {
          "base_uri": "https://localhost:8080/"
        },
        "id": "RxQtMblbWdE1",
        "outputId": "598e8358-75b0-4544-c354-1a19d6b46c6d"
      },
      "source": [
        "is_prime(104729)"
      ],
      "execution_count": 24,
      "outputs": [
        {
          "output_type": "execute_result",
          "data": {
            "text/plain": [
              "1"
            ]
          },
          "metadata": {
            "tags": []
          },
          "execution_count": 24
        }
      ]
    },
    {
      "cell_type": "markdown",
      "metadata": {
        "id": "6_nqbY6uXgob"
      },
      "source": [
        "<b>4. Write a function that accepts an integer from 1 – 12 to represent the month\n",
        "number and display the corresponding month of the year</b>"
      ]
    },
    {
      "cell_type": "code",
      "metadata": {
        "id": "UPnIO8HvWto-"
      },
      "source": [
        "def get_month(n):\n",
        "  months = ['Jan','Feb','Mar','Apr','May','Jun','Jul','Aug','Sep','Oct','Nov','Dec']\n",
        "  return months[n-1]"
      ],
      "execution_count": 30,
      "outputs": []
    },
    {
      "cell_type": "code",
      "metadata": {
        "colab": {
          "base_uri": "https://localhost:8080/"
        },
        "id": "jzEOMDudYCP1",
        "outputId": "4e05cecf-9aee-4852-89e1-f14d344ed230"
      },
      "source": [
        "for i in range(1,13):\n",
        "  print(i,get_month(i))"
      ],
      "execution_count": 32,
      "outputs": [
        {
          "output_type": "stream",
          "text": [
            "1 Jan\n",
            "2 Feb\n",
            "3 Mar\n",
            "4 Apr\n",
            "5 May\n",
            "6 Jun\n",
            "7 Jul\n",
            "8 Aug\n",
            "9 Sep\n",
            "10 Oct\n",
            "11 Nov\n",
            "12 Dec\n"
          ],
          "name": "stdout"
        }
      ]
    },
    {
      "cell_type": "markdown",
      "metadata": {
        "id": "BrbpLUl9YfzR"
      },
      "source": [
        "<b>5. Write a program using function, which takes student rollno and 5 subjects\n",
        "marks as arguments and returns the average of marks</b>"
      ]
    },
    {
      "cell_type": "code",
      "metadata": {
        "id": "Kqoksg1lYV7I"
      },
      "source": [
        "def get_average(roll,m1,m2,m3,m4,m5):\n",
        "  return sum([m1,m2,m3,m4,m5])/5"
      ],
      "execution_count": 46,
      "outputs": []
    },
    {
      "cell_type": "code",
      "metadata": {
        "colab": {
          "base_uri": "https://localhost:8080/"
        },
        "id": "UF63o8ayY4wt",
        "outputId": "58b1e15e-dd0f-4e26-b3e7-617cb0246d9b"
      },
      "source": [
        "get_average(\"19911A3518\",10,10,20,20,10)"
      ],
      "execution_count": 47,
      "outputs": [
        {
          "output_type": "execute_result",
          "data": {
            "text/plain": [
              "14.0"
            ]
          },
          "metadata": {
            "tags": []
          },
          "execution_count": 47
        }
      ]
    },
    {
      "cell_type": "code",
      "metadata": {
        "colab": {
          "base_uri": "https://localhost:8080/"
        },
        "id": "k0mo6sGpaQQM",
        "outputId": "ca2d4f25-51f0-457a-b167-9cb6817f8fd4"
      },
      "source": [
        "get_average(\"19911A3520\",100,590,109,200,100)"
      ],
      "execution_count": 48,
      "outputs": [
        {
          "output_type": "execute_result",
          "data": {
            "text/plain": [
              "219.8"
            ]
          },
          "metadata": {
            "tags": []
          },
          "execution_count": 48
        }
      ]
    },
    {
      "cell_type": "markdown",
      "metadata": {
        "id": "wDFoCDlRbGgi"
      },
      "source": [
        "<b>6. Write a function which takes rollno, name and course as argument and print\n",
        "details. When course is not passed then by default ‘B.Tech’ has to be\n",
        "assigned\n",
        "</b>"
      ]
    },
    {
      "cell_type": "code",
      "metadata": {
        "id": "qxNf0jj9aoUp"
      },
      "source": [
        "def student_data(roll, name, course=\"B.Tech\"):\n",
        "  print(\"Student Details:\")\n",
        "  print(\"Roll No. : \",roll)\n",
        "  print(\"Name : \",name)\n",
        "  print(\"Course : \",course)"
      ],
      "execution_count": 49,
      "outputs": []
    },
    {
      "cell_type": "code",
      "metadata": {
        "colab": {
          "base_uri": "https://localhost:8080/"
        },
        "id": "yowrGN-Kbd7K",
        "outputId": "45212750-9154-4db8-89b9-441da3782a11"
      },
      "source": [
        "student_data(3518,\"Hemanthsai\",\"B.Tech AI\")"
      ],
      "execution_count": 50,
      "outputs": [
        {
          "output_type": "stream",
          "text": [
            "Student Details:\n",
            "Roll No. :  3518\n",
            "Name :  Hemanthsai\n",
            "Course :  B.Tech AI\n"
          ],
          "name": "stdout"
        }
      ]
    },
    {
      "cell_type": "code",
      "metadata": {
        "colab": {
          "base_uri": "https://localhost:8080/"
        },
        "id": "jhkV6fpbbjvR",
        "outputId": "807a5359-def1-4c76-9463-c72d35cc9db1"
      },
      "source": [
        "student_data(3520,\"Dhana Shekhar\")"
      ],
      "execution_count": 51,
      "outputs": [
        {
          "output_type": "stream",
          "text": [
            "Student Details:\n",
            "Roll No. :  3520\n",
            "Name :  Dhana Shekhar\n",
            "Course :  B.Tech\n"
          ],
          "name": "stdout"
        }
      ]
    },
    {
      "cell_type": "markdown",
      "metadata": {
        "id": "DXDOT2Wbbu9W"
      },
      "source": [
        "<b>7. Write a program to generate Fibonacci series up to ‘n’. Use recursion</b>"
      ]
    },
    {
      "cell_type": "code",
      "metadata": {
        "id": "fcMhOD94bttV"
      },
      "source": [
        "def get_fibo(n):\n",
        "  if n<=1:\n",
        "    return n\n",
        "  else:\n",
        "    return get_fibo(n-1)+get_fibo(n-2)\n",
        "def fibonacci(n):\n",
        "  for i in range(n):\n",
        "    print(get_fibo(i),end=', ')"
      ],
      "execution_count": 67,
      "outputs": []
    },
    {
      "cell_type": "code",
      "metadata": {
        "colab": {
          "base_uri": "https://localhost:8080/"
        },
        "id": "utucfX6dcI2V",
        "outputId": "b06af7f6-1a97-4263-f100-19c49f6da7fc"
      },
      "source": [
        "fibonacci(5)"
      ],
      "execution_count": 68,
      "outputs": [
        {
          "output_type": "stream",
          "text": [
            "0, 1, 1, 2, 3, "
          ],
          "name": "stdout"
        }
      ]
    },
    {
      "cell_type": "code",
      "metadata": {
        "colab": {
          "base_uri": "https://localhost:8080/"
        },
        "id": "6WI_ertLcKpC",
        "outputId": "a8d7f49b-d122-4a4a-f52a-91448c473382"
      },
      "source": [
        "fibonacci(10)"
      ],
      "execution_count": 70,
      "outputs": [
        {
          "output_type": "stream",
          "text": [
            "0, 1, 1, 2, 3, 5, 8, 13, 21, 34, "
          ],
          "name": "stdout"
        }
      ]
    },
    {
      "cell_type": "markdown",
      "metadata": {
        "id": "xj1pSLpIfipy"
      },
      "source": [
        "<b>8. Write a program using function to perform calculator operations (Addition,\n",
        "subtraction, multiplication, division, modulus, exponent…) </b>"
      ]
    },
    {
      "cell_type": "code",
      "metadata": {
        "id": "EUik4RabgV2j"
      },
      "source": [
        "def add(a,b):\n",
        "  return a+b\n",
        "def sub(a,b):\n",
        "  return a-b\n",
        "def div(a,b):\n",
        "  return a/b\n",
        "def mod(a,b):\n",
        "  return a%b\n",
        "def exp(a,b):\n",
        "  return a**b\n",
        "def floor_div(a,b):\n",
        "  return a//b"
      ],
      "execution_count": 73,
      "outputs": []
    },
    {
      "cell_type": "code",
      "metadata": {
        "colab": {
          "base_uri": "https://localhost:8080/"
        },
        "id": "oP6Y45VphUSz",
        "outputId": "f99205ef-9e45-430f-9421-5550719971d7"
      },
      "source": [
        "add(131223123,82394234)"
      ],
      "execution_count": 74,
      "outputs": [
        {
          "output_type": "execute_result",
          "data": {
            "text/plain": [
              "213617357"
            ]
          },
          "metadata": {
            "tags": []
          },
          "execution_count": 74
        }
      ]
    },
    {
      "cell_type": "code",
      "metadata": {
        "colab": {
          "base_uri": "https://localhost:8080/"
        },
        "id": "fwMKxfBdhW8o",
        "outputId": "d3a240cc-f0bd-4908-8b9a-be287eb3f9f9"
      },
      "source": [
        "sub(858738384,28383594)"
      ],
      "execution_count": 76,
      "outputs": [
        {
          "output_type": "execute_result",
          "data": {
            "text/plain": [
              "830354790"
            ]
          },
          "metadata": {
            "tags": []
          },
          "execution_count": 76
        }
      ]
    },
    {
      "cell_type": "code",
      "metadata": {
        "colab": {
          "base_uri": "https://localhost:8080/"
        },
        "id": "Lr7y1gSXhZYc",
        "outputId": "33b0368d-b542-4b90-e6b4-f17b8a153138"
      },
      "source": [
        "div(1229940231,342)"
      ],
      "execution_count": 79,
      "outputs": [
        {
          "output_type": "execute_result",
          "data": {
            "text/plain": [
              "3596316.464912281"
            ]
          },
          "metadata": {
            "tags": []
          },
          "execution_count": 79
        }
      ]
    },
    {
      "cell_type": "code",
      "metadata": {
        "colab": {
          "base_uri": "https://localhost:8080/"
        },
        "id": "ueZMuM3vhhUc",
        "outputId": "696e1ef0-0b4b-4736-bf09-845bec4ba896"
      },
      "source": [
        "mod(123123123,995)"
      ],
      "execution_count": 81,
      "outputs": [
        {
          "output_type": "execute_result",
          "data": {
            "text/plain": [
              "828"
            ]
          },
          "metadata": {
            "tags": []
          },
          "execution_count": 81
        }
      ]
    },
    {
      "cell_type": "code",
      "metadata": {
        "colab": {
          "base_uri": "https://localhost:8080/"
        },
        "id": "kmO0LAjphn2o",
        "outputId": "7d6f5482-81d5-4ea0-fa5d-f969355aeca0"
      },
      "source": [
        "exp(123123,123)"
      ],
      "execution_count": 83,
      "outputs": [
        {
          "output_type": "execute_result",
          "data": {
            "text/plain": [
              "129336241728650104063005267188675192916614756434704474403157616872309908012207197738386200761661168978215912934146385688570796417822829078887050390385340079110024331869245374061288183475830424765006150102899275443342836490573403909471781667053771924143600789320162610745521802156782197470805582685786896123617358493091652670990027268723065945209180701392147985416584509754009417050005770455715001605168304259147620637594168205035621239621077086375818736872813265776966244640684766848573399914404707526432478904859818953114856028065101963079588288014370306745637300459051258226717472901634613226210780876112840648799730751680267"
            ]
          },
          "metadata": {
            "tags": []
          },
          "execution_count": 83
        }
      ]
    },
    {
      "cell_type": "code",
      "metadata": {
        "colab": {
          "base_uri": "https://localhost:8080/"
        },
        "id": "l6dRKYYBhyy9",
        "outputId": "37ab0c87-3a05-4a51-8658-de58c8423084"
      },
      "source": [
        "floor_div(45323,234)"
      ],
      "execution_count": 85,
      "outputs": [
        {
          "output_type": "execute_result",
          "data": {
            "text/plain": [
              "193"
            ]
          },
          "metadata": {
            "tags": []
          },
          "execution_count": 85
        }
      ]
    },
    {
      "cell_type": "markdown",
      "metadata": {
        "id": "oDT7-UHkiBIJ"
      },
      "source": [
        "<b>9. Write a program to count number of times a recursive function is called</b>"
      ]
    },
    {
      "cell_type": "code",
      "metadata": {
        "colab": {
          "base_uri": "https://localhost:8080/"
        },
        "id": "TU9lg7P3h5dq",
        "outputId": "8556c192-663f-4930-a0e8-0e9d4aed0b51"
      },
      "source": [
        "count=0\n",
        "def get_fibo(n):\n",
        "  global count\n",
        "  count=count+1\n",
        "  if n<=1:\n",
        "    return n\n",
        "  else:\n",
        "    return get_fibo(n-1)+get_fibo(n-2)\n",
        "\n",
        "get_fibo(30)\n",
        "print(\"Number of times function called : \",count)\n"
      ],
      "execution_count": 100,
      "outputs": [
        {
          "output_type": "stream",
          "text": [
            "Number of times function called :  2692537\n"
          ],
          "name": "stdout"
        }
      ]
    },
    {
      "cell_type": "markdown",
      "metadata": {
        "id": "ozRAP1wRkOkY"
      },
      "source": [
        "<b>10. Write a program to compute F(M, N) , where F(M, N) can be recursively\n",
        "defined as\n",
        "\n",
        "F(M, N) = 1 if M=0 or M >= N >= 1\n",
        "\n",
        "F(M, N) = F(M-1, N) + F(M-1, N-1)\n",
        " otherwise</b>"
      ]
    },
    {
      "cell_type": "code",
      "metadata": {
        "id": "tfFHEIjbiyur"
      },
      "source": [
        "def F(M,N):\n",
        "  if M==0 or (M>=N and M>=1):\n",
        "    return 1\n",
        "  else:\n",
        "    return F(M-1,N) + F(M-1,N-1)"
      ],
      "execution_count": 102,
      "outputs": []
    },
    {
      "cell_type": "code",
      "metadata": {
        "colab": {
          "base_uri": "https://localhost:8080/"
        },
        "id": "mjU3GmRYk9lI",
        "outputId": "c347710d-d41c-437d-8b33-c3204ef4a55d"
      },
      "source": [
        "F(0,1)"
      ],
      "execution_count": 103,
      "outputs": [
        {
          "output_type": "execute_result",
          "data": {
            "text/plain": [
              "1"
            ]
          },
          "metadata": {
            "tags": []
          },
          "execution_count": 103
        }
      ]
    },
    {
      "cell_type": "code",
      "metadata": {
        "colab": {
          "base_uri": "https://localhost:8080/"
        },
        "id": "XV77F38wlBtK",
        "outputId": "4825daab-6da9-4e84-b002-c4884ddafb8b"
      },
      "source": [
        "F(2,2)"
      ],
      "execution_count": 104,
      "outputs": [
        {
          "output_type": "execute_result",
          "data": {
            "text/plain": [
              "1"
            ]
          },
          "metadata": {
            "tags": []
          },
          "execution_count": 104
        }
      ]
    },
    {
      "cell_type": "code",
      "metadata": {
        "colab": {
          "base_uri": "https://localhost:8080/"
        },
        "id": "3Bs328cNlEB0",
        "outputId": "71e60d43-362c-4e62-870d-d27f68b0f9af"
      },
      "source": [
        "F(3,1)"
      ],
      "execution_count": 105,
      "outputs": [
        {
          "output_type": "execute_result",
          "data": {
            "text/plain": [
              "1"
            ]
          },
          "metadata": {
            "tags": []
          },
          "execution_count": 105
        }
      ]
    },
    {
      "cell_type": "code",
      "metadata": {
        "colab": {
          "base_uri": "https://localhost:8080/"
        },
        "id": "tHwb1Hl0lGO1",
        "outputId": "5a47fb47-1201-4d99-9707-98d8b63118a0"
      },
      "source": [
        "F(12,31)"
      ],
      "execution_count": 106,
      "outputs": [
        {
          "output_type": "execute_result",
          "data": {
            "text/plain": [
              "4096"
            ]
          },
          "metadata": {
            "tags": []
          },
          "execution_count": 106
        }
      ]
    },
    {
      "cell_type": "markdown",
      "metadata": {
        "id": "-CxaWmXcmRvw"
      },
      "source": [
        "# Section 5"
      ]
    },
    {
      "cell_type": "markdown",
      "metadata": {
        "id": "asAwq5SmmUPP"
      },
      "source": [
        "<b>1. Write a python program to find sum of elements in a list</b>"
      ]
    },
    {
      "cell_type": "code",
      "metadata": {
        "colab": {
          "base_uri": "https://localhost:8080/"
        },
        "id": "2oHcUso4lKtr",
        "outputId": "3aaae0a4-c7c8-4e7a-f5e9-9fdbc9b8795f"
      },
      "source": [
        "a = input(\"Enter a list of elements : \").split()\n",
        "sum=0\n",
        "for i in a:\n",
        "  sum=sum+int(i)\n",
        "print(\"Sum of the elements is :  \",sum)"
      ],
      "execution_count": 110,
      "outputs": [
        {
          "output_type": "stream",
          "text": [
            "Enter a list of elements : 100 900 345 234 800\n",
            "Sum of the elements is :   2379\n"
          ],
          "name": "stdout"
        }
      ]
    },
    {
      "cell_type": "markdown",
      "metadata": {
        "id": "d0jQJqlFnY7Y"
      },
      "source": [
        "<b>2. Write a program to find largest and second largest number in a list</b>"
      ]
    },
    {
      "cell_type": "code",
      "metadata": {
        "id": "YKF6zTenmvnn"
      },
      "source": [
        "def largest():\n",
        "  a = input(\"Enter a list of elements : \").split()\n",
        "  a = list(set(a))\n",
        "  a.sort()\n",
        "  print(\"First largest element : \",a[-1])\n",
        "  if len(a)==1:\n",
        "    print(\"Second largest element : \",a[-1])\n",
        "  else:\n",
        "    print(\"Second largest element : \",a[-2])"
      ],
      "execution_count": 123,
      "outputs": []
    },
    {
      "cell_type": "code",
      "metadata": {
        "colab": {
          "base_uri": "https://localhost:8080/"
        },
        "id": "IH57zwHDofmd",
        "outputId": "8dd837b8-7bbf-489f-ed0b-dea27670b431"
      },
      "source": [
        "largest()"
      ],
      "execution_count": 124,
      "outputs": [
        {
          "output_type": "stream",
          "text": [
            "Enter a list of elements : 10 32 1 2 2 2  10 31 32 43\n",
            "First largest element :  43\n",
            "Second largest element :  32\n"
          ],
          "name": "stdout"
        }
      ]
    },
    {
      "cell_type": "code",
      "metadata": {
        "colab": {
          "base_uri": "https://localhost:8080/"
        },
        "id": "OYYXJD32qXtF",
        "outputId": "28c8a32f-0287-4776-b186-22e3491b6251"
      },
      "source": [
        "largest()"
      ],
      "execution_count": 125,
      "outputs": [
        {
          "output_type": "stream",
          "text": [
            "Enter a list of elements : 1 1 1 1 2 2 3 3 3 3 4 4 4 5 5\n",
            "First largest element :  5\n",
            "Second largest element :  4\n"
          ],
          "name": "stdout"
        }
      ]
    },
    {
      "cell_type": "markdown",
      "metadata": {
        "id": "UvtpkqVyqvmY"
      },
      "source": [
        "<b>3. Write a program to interchange first and last elements in a list</b>"
      ]
    },
    {
      "cell_type": "code",
      "metadata": {
        "colab": {
          "base_uri": "https://localhost:8080/"
        },
        "id": "3v94kpTLqfcs",
        "outputId": "659a06c4-a892-4d8d-e612-f660f1db6f4f"
      },
      "source": [
        "a = input(\"Enter a list of elements : \").split()\n",
        "print(\"Before swapping : \",a)\n",
        "a[0],a[-1]=a[-1],a[0]\n",
        "print(\"After swapping first and last element\",a)"
      ],
      "execution_count": 146,
      "outputs": [
        {
          "output_type": "stream",
          "text": [
            "Enter a list of elements : a 1 2 3 4 d w e b\n",
            "Before swapping :  ['a', '1', '2', '3', '4', 'd', 'w', 'e', 'b']\n",
            "After swapping first and last element ['b', '1', '2', '3', '4', 'd', 'w', 'e', 'a']\n"
          ],
          "name": "stdout"
        }
      ]
    },
    {
      "cell_type": "markdown",
      "metadata": {
        "id": "COjHD3b2ve7m"
      },
      "source": [
        "<b>4. Write a Program to multiply two matrices using list</b>"
      ]
    },
    {
      "cell_type": "code",
      "metadata": {
        "colab": {
          "base_uri": "https://localhost:8080/"
        },
        "id": "xuN8C1EzsYnI",
        "outputId": "bfed5c27-1c9b-47a4-9ea8-8b265765278b"
      },
      "source": [
        "mat_a = [\n",
        "         [1,1,1],\n",
        "         [1,1,1],\n",
        "         [1,1,1]\n",
        "]\n",
        "mat_b = [\n",
        "         [1,1,1],\n",
        "         [1,1,1],\n",
        "         [1,1,1]\n",
        "]\n",
        "print(\"Multiplication of mat_b and mat_b\")\n",
        "for i in range(3):\n",
        "  for j in range(3):\n",
        "    sum=0\n",
        "    for k in range(3):\n",
        "      sum=sum+mat_a[i][k]*mat_b[k][j]\n",
        "    print(sum,end=' ')\n",
        "  print()"
      ],
      "execution_count": 130,
      "outputs": [
        {
          "output_type": "stream",
          "text": [
            "Multiplication of mat_b and mat_b\n",
            "3 3 3 \n",
            "3 3 3 \n",
            "3 3 3 \n"
          ],
          "name": "stdout"
        }
      ]
    },
    {
      "cell_type": "markdown",
      "metadata": {
        "id": "F99SNIqIvv82"
      },
      "source": [
        "<b>5. Write a program to Transpose a matrix using list</b>"
      ]
    },
    {
      "cell_type": "code",
      "metadata": {
        "colab": {
          "base_uri": "https://localhost:8080/"
        },
        "id": "d6EVRHxMt67r",
        "outputId": "7d8105ad-b3aa-43e5-d931-e6ab6d41d738"
      },
      "source": [
        "mat_a = [\n",
        "         [1,2,3],\n",
        "         [4,5,6],\n",
        "         [7,8,9]\n",
        "]\n",
        "\n",
        "print(\"Transpose of mat_a : \")\n",
        "for i in range(3):\n",
        "  for j in range(3):\n",
        "    print(mat_a[j][i],end=' ')\n",
        "  print()"
      ],
      "execution_count": 134,
      "outputs": [
        {
          "output_type": "stream",
          "text": [
            "Transpose of mat_a : \n",
            "1 4 7 \n",
            "2 5 8 \n",
            "3 6 9 \n"
          ],
          "name": "stdout"
        }
      ]
    },
    {
      "cell_type": "markdown",
      "metadata": {
        "id": "pHXnf9Wjw5B-"
      },
      "source": [
        "<b>6. Write a program to implement stack operations using list</b>"
      ]
    },
    {
      "cell_type": "code",
      "metadata": {
        "id": "l7cHb4nBxbL-"
      },
      "source": [
        "stack = list()\n",
        "def push(a):\n",
        "  global stack\n",
        "  stack.append(a)\n",
        "  print(\"{} is inserted\".format(a))\n",
        "\n",
        "def pop():\n",
        "  global stack\n",
        "  print(\"{} popped out\",stack.pop())\n",
        "\n",
        "def display():\n",
        "  global stack\n",
        "  print(stack)"
      ],
      "execution_count": 152,
      "outputs": []
    },
    {
      "cell_type": "code",
      "metadata": {
        "colab": {
          "base_uri": "https://localhost:8080/"
        },
        "id": "WLtw-xGByDJU",
        "outputId": "850bc9e6-8dfe-461f-bd4d-c96477191be1"
      },
      "source": [
        "push(10)\n",
        "push(20)\n",
        "push(40)\n",
        "push(100)\n",
        "push(290)"
      ],
      "execution_count": 153,
      "outputs": [
        {
          "output_type": "stream",
          "text": [
            "10 is inserted\n",
            "20 is inserted\n",
            "40 is inserted\n",
            "100 is inserted\n",
            "290 is inserted\n"
          ],
          "name": "stdout"
        }
      ]
    },
    {
      "cell_type": "code",
      "metadata": {
        "colab": {
          "base_uri": "https://localhost:8080/"
        },
        "id": "4TiEQUs61ZWs",
        "outputId": "f6c866d8-cb11-4745-914d-d1c5a1638327"
      },
      "source": [
        "display()"
      ],
      "execution_count": 154,
      "outputs": [
        {
          "output_type": "stream",
          "text": [
            "[10, 20, 40, 100, 290]\n"
          ],
          "name": "stdout"
        }
      ]
    },
    {
      "cell_type": "code",
      "metadata": {
        "colab": {
          "base_uri": "https://localhost:8080/"
        },
        "id": "Xga29ZW91-Gn",
        "outputId": "7a337ff8-9bb1-4159-daf2-942d321b6167"
      },
      "source": [
        "pop()\n",
        "pop()\n",
        "display()"
      ],
      "execution_count": 155,
      "outputs": [
        {
          "output_type": "stream",
          "text": [
            "{} popped out 290\n",
            "{} popped out 100\n",
            "[10, 20, 40]\n"
          ],
          "name": "stdout"
        }
      ]
    },
    {
      "cell_type": "markdown",
      "metadata": {
        "id": "aLldf1Yo2EcC"
      },
      "source": [
        "<b>7. Write a program to print the number of occurrences of a character in a given string\n",
        "using dictionary\n",
        "\n",
        "Example:\n",
        "\n",
        "Input: ‘Hello’\n",
        "\n",
        "Output: {‘H’:1,’e’:1, ’l’:2, ’o’:1}</b>\n"
      ]
    },
    {
      "cell_type": "code",
      "metadata": {
        "colab": {
          "base_uri": "https://localhost:8080/"
        },
        "id": "nu44d6ek2Ccr",
        "outputId": "570dfcba-22db-4db8-a75b-c883e3c76034"
      },
      "source": [
        "s = input(\"Enter a string : \")\n",
        "char_list = list()\n",
        "for i in s:\n",
        "  char_list.append(i)\n",
        "chars = list(set(char_list))\n",
        "\n",
        "count_dict = dict()\n",
        "\n",
        "for char in chars:\n",
        "  count_dict.update({char:char_list.count(char)})\n",
        "\n",
        "print(\"Number of occurrences dictionary\")\n",
        "print(count_dict)\n"
      ],
      "execution_count": 158,
      "outputs": [
        {
          "output_type": "stream",
          "text": [
            "Enter a string : artificial\n",
            "Number of occurrences dictionary\n",
            "{'t': 1, 'f': 1, 'i': 3, 'c': 1, 'l': 1, 'a': 2, 'r': 1}\n"
          ],
          "name": "stdout"
        }
      ]
    },
    {
      "cell_type": "markdown",
      "metadata": {
        "id": "AhTMtnqr8Gx5"
      },
      "source": [
        "<b>8. Write a python program to print keys and values using predefined functions</b>"
      ]
    },
    {
      "cell_type": "code",
      "metadata": {
        "colab": {
          "base_uri": "https://localhost:8080/"
        },
        "id": "vab7l_i47dht",
        "outputId": "4ebf5c12-8591-47e0-e141-ba0b04c652ea"
      },
      "source": [
        "my_dict = {\"Name\":\"Hemanthsai\",\"ROll\":3518,\"Branch\":\"AIE\",\"College\":\"VJIT\"}\n",
        "print(my_dict.keys())\n",
        "print(my_dict.values())"
      ],
      "execution_count": 160,
      "outputs": [
        {
          "output_type": "stream",
          "text": [
            "dict_keys(['Name', 'ROll', 'Branch', 'College'])\n",
            "dict_values(['Hemanthsai', 3518, 'AIE', 'VJIT'])\n"
          ],
          "name": "stdout"
        }
      ]
    },
    {
      "cell_type": "markdown",
      "metadata": {
        "id": "iEQGWv2G9Csl"
      },
      "source": [
        "<b>9. Write a program to print a histogram of frequencies of characters occurring in a\n",
        "string\n",
        "\n",
        "Example:\n",
        "\n",
        "Msg= ‘helloworld’\n",
        "\n",
        "Example Output:\n",
        "\n",
        "h *<br>\n",
        "e *<br>\n",
        "l ***<br>\n",
        "o **<br>\n",
        "w *<br>\n",
        "r *<br>\n",
        "d *\n",
        "</b>"
      ]
    },
    {
      "cell_type": "code",
      "metadata": {
        "colab": {
          "base_uri": "https://localhost:8080/"
        },
        "id": "MyX3nKuo8mdX",
        "outputId": "d9431189-6739-49a5-973c-6edfe5dff40b"
      },
      "source": [
        "s1 = input(\"Enter a string : \")\n",
        "s2 = \"\"\n",
        "for i in s1:\n",
        "  if i not in s2:\n",
        "    s2=s2+i\n",
        "\n",
        "for i in s2:\n",
        "  count=s1.count(i)\n",
        "  print(i,\"*\"*count)"
      ],
      "execution_count": 162,
      "outputs": [
        {
          "output_type": "stream",
          "text": [
            "Enter a string : vidya jyothi institute of technology\n",
            "v *\n",
            "i ****\n",
            "d *\n",
            "y ***\n",
            "a *\n",
            "  ****\n",
            "j *\n",
            "o ****\n",
            "t *****\n",
            "h **\n",
            "n **\n",
            "s *\n",
            "u *\n",
            "e **\n",
            "f *\n",
            "c *\n",
            "l *\n",
            "g *\n"
          ],
          "name": "stdout"
        }
      ]
    },
    {
      "cell_type": "markdown",
      "metadata": {
        "id": "MRIV9G_L_cHd"
      },
      "source": [
        "<b>10. Write a program that reads a string and print the occurrence of each word in the\n",
        "dictionary format.<br>\n",
        "Example:<br>\n",
        "Str = ‘how much wood would a woodchuck chuck if a woodchuck could chuck wood’<br>\n",
        "{ ‘how’: 1, ‘much’:1, ‘wood’:2, ‘would’:1, ‘a’:2, ‘woodchuck’:2….}<br>\n",
        "</b>"
      ]
    },
    {
      "cell_type": "code",
      "metadata": {
        "colab": {
          "base_uri": "https://localhost:8080/"
        },
        "id": "kYDspghI9s-3",
        "outputId": "ca33a179-020a-4051-a975-cce6b3f0a466"
      },
      "source": [
        "s1 = input(\"Enter a string : \")\n",
        "s2 = []\n",
        "count_dict = dict()\n",
        "for i in s1.split():\n",
        "  if i not in s2:\n",
        "    s2.append(i)\n",
        "\n",
        "for i in s2:\n",
        "  count=s1.split().count(i)\n",
        "  count_dict.update({i:count})\n",
        "print()\n",
        "print(\"Number of occurrences of words : \")\n",
        "print(count_dict)"
      ],
      "execution_count": 166,
      "outputs": [
        {
          "output_type": "stream",
          "text": [
            "Enter a string : dont trouble the trouble if you trouble the trouble the trouble troubles you\n",
            "\n",
            "Number of occurrences of words : \n",
            "{'dont': 1, 'trouble': 5, 'the': 3, 'if': 1, 'you': 2, 'troubles': 1}\n"
          ],
          "name": "stdout"
        }
      ]
    },
    {
      "cell_type": "markdown",
      "metadata": {
        "id": "CnfqibsdGKZJ"
      },
      "source": [
        "<b>11. Create a dictionary of products purchased and their MRPs. Calculate the bill and\n",
        "display it to the customer.\n",
        "</b>"
      ]
    },
    {
      "cell_type": "code",
      "metadata": {
        "colab": {
          "base_uri": "https://localhost:8080/"
        },
        "id": "i6E6AjfJAINS",
        "outputId": "3f91486c-93f1-4138-eb29-93b2370171b8"
      },
      "source": [
        "prod_price = {\"pen\":100,\"eraser\":20,\"notebook\":200,\"scale\":50}\n",
        "price = 0\n",
        "print(\"---Bill---\")\n",
        "for i,j in zip(prod_price.keys(),prod_price.values()):\n",
        "  print(i,\" \",j,\"/-\")\n",
        "  price=price+j\n",
        "print(\"Total Amount : \",price)"
      ],
      "execution_count": 170,
      "outputs": [
        {
          "output_type": "stream",
          "text": [
            "---Bill---\n",
            "pen   100 /-\n",
            "eraser   20 /-\n",
            "notebook   200 /-\n",
            "scale   50 /-\n",
            "Total Amount :  370\n"
          ],
          "name": "stdout"
        }
      ]
    },
    {
      "cell_type": "markdown",
      "metadata": {
        "id": "pkK8CM-VIUhR"
      },
      "source": [
        "<b>12. Write a program that displays a menu and its price. Take the order from the\n",
        "customer. Check if the ordered product is in the menu. In case it is not present, the customer should be asked to reorder. And if it is present then product should be\n",
        "added in the bill.</b>"
      ]
    },
    {
      "cell_type": "code",
      "metadata": {
        "id": "udx568ezHjSU"
      },
      "source": [
        "price = 0\n",
        "price_list = [60,120,150,120,140,180]\n",
        "items=['Veg Burger','Chicken Burger','Turkey Burger','Pan Pizza','Italian Veg Pizza','Mexican Chicken Pizza']\n",
        "cart=list()\n",
        "def menu():\n",
        "  print(\"-------Menu-------\")\n",
        "  print(\"\\n---Burgers---\\n\")\n",
        "  print(\"1. Veg Burger      60/-\")\n",
        "  print(\"2. Chicken Burger 120/-\")\n",
        "  print(\"3. Turkey Burger  150/-\")\n",
        "  print(\"\\n---Pizzas---\\n\")\n",
        "  print(\"4. Pan Pizza              120/-\")\n",
        "  print(\"5. Italian Veg Pizza      140/-\")\n",
        "  print(\"6. Mexican Chicken Pizza  180/-\")\n",
        "\n",
        "def add_item():\n",
        "  menu()\n",
        "  order = int(input(\"Enter the id of the item from menu : \"))\n",
        "  if order<=6 and order>=1:\n",
        "    add_to_bill(order)\n",
        "  else:\n",
        "    print(\"\\n\\nItem not there is the menu. Select again\\n\\n\")\n",
        "    add_item()\n",
        "\n",
        "def add_to_bill(order):\n",
        "  global cart\n",
        "  cart.append(order)\n",
        "\n",
        "def get_bill():\n",
        "  global cart, items, price_list, price\n",
        "  print(\"-------Bill-------\")\n",
        "  for i in cart:\n",
        "    print(items[i-1],\"  \",price_list[i-1],\"/-\")\n",
        "    price = price + price_list[i-1]\n",
        "  print(\"Total Amount : \",price,\"/-\")\n",
        "  price=0\n",
        "  cart=list()\n",
        "\n"
      ],
      "execution_count": 193,
      "outputs": []
    },
    {
      "cell_type": "code",
      "metadata": {
        "colab": {
          "base_uri": "https://localhost:8080/"
        },
        "id": "YM3D9ycrPrcC",
        "outputId": "51c74f6b-757f-4e16-d5ee-0a493591f8f7"
      },
      "source": [
        "add_item()\n",
        "add_item()\n",
        "add_item()\n",
        "add_item()"
      ],
      "execution_count": 195,
      "outputs": [
        {
          "output_type": "stream",
          "text": [
            "-------Menu-------\n",
            "\n",
            "---Burgers---\n",
            "\n",
            "1. Veg Burger      60/-\n",
            "2. Chicken Burger 120/-\n",
            "3. Turkey Burger  150/-\n",
            "\n",
            "---Pizzas---\n",
            "\n",
            "4. Pan Pizza              120/-\n",
            "5. Italian Veg Pizza      140/-\n",
            "6. Mexican Chicken Pizza  180/-\n",
            "Enter the id of the item from menu : 2\n",
            "-------Menu-------\n",
            "\n",
            "---Burgers---\n",
            "\n",
            "1. Veg Burger      60/-\n",
            "2. Chicken Burger 120/-\n",
            "3. Turkey Burger  150/-\n",
            "\n",
            "---Pizzas---\n",
            "\n",
            "4. Pan Pizza              120/-\n",
            "5. Italian Veg Pizza      140/-\n",
            "6. Mexican Chicken Pizza  180/-\n",
            "Enter the id of the item from menu : 9\n",
            "\n",
            "\n",
            "Item not there is the menu. Select again\n",
            "\n",
            "\n",
            "-------Menu-------\n",
            "\n",
            "---Burgers---\n",
            "\n",
            "1. Veg Burger      60/-\n",
            "2. Chicken Burger 120/-\n",
            "3. Turkey Burger  150/-\n",
            "\n",
            "---Pizzas---\n",
            "\n",
            "4. Pan Pizza              120/-\n",
            "5. Italian Veg Pizza      140/-\n",
            "6. Mexican Chicken Pizza  180/-\n",
            "Enter the id of the item from menu : 4\n",
            "-------Menu-------\n",
            "\n",
            "---Burgers---\n",
            "\n",
            "1. Veg Burger      60/-\n",
            "2. Chicken Burger 120/-\n",
            "3. Turkey Burger  150/-\n",
            "\n",
            "---Pizzas---\n",
            "\n",
            "4. Pan Pizza              120/-\n",
            "5. Italian Veg Pizza      140/-\n",
            "6. Mexican Chicken Pizza  180/-\n",
            "Enter the id of the item from menu : 6\n",
            "-------Menu-------\n",
            "\n",
            "---Burgers---\n",
            "\n",
            "1. Veg Burger      60/-\n",
            "2. Chicken Burger 120/-\n",
            "3. Turkey Burger  150/-\n",
            "\n",
            "---Pizzas---\n",
            "\n",
            "4. Pan Pizza              120/-\n",
            "5. Italian Veg Pizza      140/-\n",
            "6. Mexican Chicken Pizza  180/-\n",
            "Enter the id of the item from menu : 3\n"
          ],
          "name": "stdout"
        }
      ]
    },
    {
      "cell_type": "code",
      "metadata": {
        "colab": {
          "base_uri": "https://localhost:8080/"
        },
        "id": "s-s46n_xQEIF",
        "outputId": "9ffbbb52-4480-4d97-b2c7-da29059a94f6"
      },
      "source": [
        "get_bill()"
      ],
      "execution_count": 196,
      "outputs": [
        {
          "output_type": "stream",
          "text": [
            "-------Bill-------\n",
            "Chicken Burger    120 /-\n",
            "Pan Pizza    120 /-\n",
            "Mexican Chicken Pizza    180 /-\n",
            "Turkey Burger    150 /-\n",
            "Total Amount :  570 /-\n"
          ],
          "name": "stdout"
        }
      ]
    },
    {
      "cell_type": "code",
      "metadata": {
        "id": "RbMlPUlPQ2rk"
      },
      "source": [
        ""
      ],
      "execution_count": null,
      "outputs": []
    }
  ]
}